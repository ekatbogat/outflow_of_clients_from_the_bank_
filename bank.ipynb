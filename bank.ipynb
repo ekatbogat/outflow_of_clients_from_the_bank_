{
 "cells": [
  {
   "cell_type": "markdown",
   "metadata": {
    "toc": true
   },
   "source": [
    "<h1>Содержание<span class=\"tocSkip\"></span></h1>\n",
    "<div class=\"toc\"><ul class=\"toc-item\"><li><span><a href=\"#Подготовка-данных\" data-toc-modified-id=\"Подготовка-данных-1\"><span class=\"toc-item-num\">1&nbsp;&nbsp;</span>Подготовка данных</a></span></li><li><span><a href=\"#Исследование-задачи\" data-toc-modified-id=\"Исследование-задачи-2\"><span class=\"toc-item-num\">2&nbsp;&nbsp;</span>Исследование задачи</a></span><ul class=\"toc-item\"><li><span><a href=\"#Преобразование-категориальных-признаков\" data-toc-modified-id=\"Преобразование-категориальных-признаков-2.1\"><span class=\"toc-item-num\">2.1&nbsp;&nbsp;</span>Преобразование категориальных признаков</a></span></li><li><span><a href=\"#Изучение-целевого-признака\" data-toc-modified-id=\"Изучение-целевого-признака-2.2\"><span class=\"toc-item-num\">2.2&nbsp;&nbsp;</span>Изучение целевого признака</a></span></li><li><span><a href=\"#Разделение-выборки\" data-toc-modified-id=\"Разделение-выборки-2.3\"><span class=\"toc-item-num\">2.3&nbsp;&nbsp;</span>Разделение выборки</a></span></li><li><span><a href=\"#Обучение-модели-без-учёта-дисбаланса\" data-toc-modified-id=\"Обучение-модели-без-учёта-дисбаланса-2.4\"><span class=\"toc-item-num\">2.4&nbsp;&nbsp;</span>Обучение модели без учёта дисбаланса</a></span><ul class=\"toc-item\"><li><span><a href=\"#Логистическая-регрессия-(Logistic-Regression)\" data-toc-modified-id=\"Логистическая-регрессия-(Logistic-Regression)-2.4.1\"><span class=\"toc-item-num\">2.4.1&nbsp;&nbsp;</span>Логистическая регрессия (Logistic Regression)</a></span></li><li><span><a href=\"#Модель-'Дерево-решений'-(Decision-Tree-Classifier)\" data-toc-modified-id=\"Модель-'Дерево-решений'-(Decision-Tree-Classifier)-2.4.2\"><span class=\"toc-item-num\">2.4.2&nbsp;&nbsp;</span>Модель 'Дерево решений' (Decision Tree Classifier)</a></span></li><li><span><a href=\"#Модель-&quot;Случайный-лес&quot;-(RandomForestClassifier)\" data-toc-modified-id=\"Модель-&quot;Случайный-лес&quot;-(RandomForestClassifier)-2.4.3\"><span class=\"toc-item-num\">2.4.3&nbsp;&nbsp;</span>Модель \"Случайный лес\" (RandomForestClassifier)</a></span></li></ul></li></ul></li><li><span><a href=\"#Борьба-с-дисбалансом\" data-toc-modified-id=\"Борьба-с-дисбалансом-3\"><span class=\"toc-item-num\">3&nbsp;&nbsp;</span>Борьба с дисбалансом</a></span><ul class=\"toc-item\"><li><span><a href=\"#Параметр-class_weight-для-борьбы-с-дисбалансом\" data-toc-modified-id=\"Параметр-class_weight-для-борьбы-с-дисбалансом-3.1\"><span class=\"toc-item-num\">3.1&nbsp;&nbsp;</span>Параметр class_weight для борьбы с дисбалансом</a></span></li><li><span><a href=\"#Увеличение-выборки-(upsampling)\" data-toc-modified-id=\"Увеличение-выборки-(upsampling)-3.2\"><span class=\"toc-item-num\">3.2&nbsp;&nbsp;</span>Увеличение выборки (upsampling)</a></span></li><li><span><a href=\"#Уменьшение-выборки-(Downsampling)\" data-toc-modified-id=\"Уменьшение-выборки-(Downsampling)-3.3\"><span class=\"toc-item-num\">3.3&nbsp;&nbsp;</span>Уменьшение выборки (Downsampling)</a></span></li><li><span><a href=\"#Порог-классификации\" data-toc-modified-id=\"Порог-классификации-3.4\"><span class=\"toc-item-num\">3.4&nbsp;&nbsp;</span>Порог классификации</a></span></li><li><span><a href=\"#GridSearchCV\" data-toc-modified-id=\"GridSearchCV-3.5\"><span class=\"toc-item-num\">3.5&nbsp;&nbsp;</span>GridSearchCV</a></span></li></ul></li><li><span><a href=\"#Тестирование-модели\" data-toc-modified-id=\"Тестирование-модели-4\"><span class=\"toc-item-num\">4&nbsp;&nbsp;</span>Тестирование модели</a></span><ul class=\"toc-item\"><li><span><a href=\"#Тестирование-модели-Случайный-лес\" data-toc-modified-id=\"Тестирование-модели-Случайный-лес-4.1\"><span class=\"toc-item-num\">4.1&nbsp;&nbsp;</span>Тестирование модели Случайный лес</a></span></li></ul></li><li><span><a href=\"#Общий-вывод\" data-toc-modified-id=\"Общий-вывод-5\"><span class=\"toc-item-num\">5&nbsp;&nbsp;</span>Общий вывод</a></span></li><li><span><a href=\"#Чек-лист-готовности-проекта\" data-toc-modified-id=\"Чек-лист-готовности-проекта-6\"><span class=\"toc-item-num\">6&nbsp;&nbsp;</span>Чек-лист готовности проекта</a></span></li></ul></div>"
   ]
  },
  {
   "cell_type": "markdown",
   "metadata": {},
   "source": [
    "# Отток клиентов"
   ]
  },
  {
   "cell_type": "markdown",
   "metadata": {},
   "source": [
    "Из банка стали уходить клиенты. Каждый месяц. Немного, но заметно. Банковские маркетологи посчитали: сохранять текущих клиентов дешевле, чем привлекать новых. В нашем распоряжении данные о поведении клиентов и расторжении договоров с банком. \n",
    "\n",
    "- **Цель**\n",
    "\n",
    "Спрогнозировать, уйдёт клиент из банка в ближайшее время или нет."
   ]
  },
  {
   "cell_type": "markdown",
   "metadata": {},
   "source": [
    "## Подготовка данных"
   ]
  },
  {
   "cell_type": "code",
   "execution_count": 1,
   "metadata": {},
   "outputs": [],
   "source": [
    "# импортируем необходимые библиотеки\n",
    "import pandas as pd\n",
    "import matplotlib.pyplot as plt\n",
    "import numpy as np\n",
    "import seaborn as sb\n",
    "from sklearn.tree import DecisionTreeClassifier\n",
    "from sklearn.ensemble import RandomForestClassifier\n",
    "from sklearn.linear_model import LogisticRegression\n",
    "from sklearn.model_selection import train_test_split\n",
    "from sklearn.model_selection import GridSearchCV\n",
    "from sklearn.preprocessing import OrdinalEncoder\n",
    "from sklearn.preprocessing import StandardScaler\n",
    "from sklearn.metrics import f1_score\n",
    "from sklearn.utils import shuffle\n",
    "from sklearn.metrics import roc_curve\n",
    "from sklearn.metrics import roc_auc_score\n",
    "from sklearn.metrics import accuracy_score\n",
    "from sklearn.metrics import confusion_matrix\n",
    "from sklearn.metrics import recall_score\n",
    "from sklearn.metrics import precision_score\n",
    "import warnings\n",
    "warnings.filterwarnings(\"ignore\")"
   ]
  },
  {
   "cell_type": "code",
   "execution_count": 2,
   "metadata": {},
   "outputs": [
    {
     "data": {
      "text/html": [
       "<div>\n",
       "<style scoped>\n",
       "    .dataframe tbody tr th:only-of-type {\n",
       "        vertical-align: middle;\n",
       "    }\n",
       "\n",
       "    .dataframe tbody tr th {\n",
       "        vertical-align: top;\n",
       "    }\n",
       "\n",
       "    .dataframe thead th {\n",
       "        text-align: right;\n",
       "    }\n",
       "</style>\n",
       "<table border=\"1\" class=\"dataframe\">\n",
       "  <thead>\n",
       "    <tr style=\"text-align: right;\">\n",
       "      <th></th>\n",
       "      <th>RowNumber</th>\n",
       "      <th>CustomerId</th>\n",
       "      <th>Surname</th>\n",
       "      <th>CreditScore</th>\n",
       "      <th>Geography</th>\n",
       "      <th>Gender</th>\n",
       "      <th>Age</th>\n",
       "      <th>Tenure</th>\n",
       "      <th>Balance</th>\n",
       "      <th>NumOfProducts</th>\n",
       "      <th>HasCrCard</th>\n",
       "      <th>IsActiveMember</th>\n",
       "      <th>EstimatedSalary</th>\n",
       "      <th>Exited</th>\n",
       "    </tr>\n",
       "  </thead>\n",
       "  <tbody>\n",
       "    <tr>\n",
       "      <th>0</th>\n",
       "      <td>1</td>\n",
       "      <td>15634602</td>\n",
       "      <td>Hargrave</td>\n",
       "      <td>619</td>\n",
       "      <td>France</td>\n",
       "      <td>Female</td>\n",
       "      <td>42</td>\n",
       "      <td>2.0</td>\n",
       "      <td>0.00</td>\n",
       "      <td>1</td>\n",
       "      <td>1</td>\n",
       "      <td>1</td>\n",
       "      <td>101348.88</td>\n",
       "      <td>1</td>\n",
       "    </tr>\n",
       "    <tr>\n",
       "      <th>1</th>\n",
       "      <td>2</td>\n",
       "      <td>15647311</td>\n",
       "      <td>Hill</td>\n",
       "      <td>608</td>\n",
       "      <td>Spain</td>\n",
       "      <td>Female</td>\n",
       "      <td>41</td>\n",
       "      <td>1.0</td>\n",
       "      <td>83807.86</td>\n",
       "      <td>1</td>\n",
       "      <td>0</td>\n",
       "      <td>1</td>\n",
       "      <td>112542.58</td>\n",
       "      <td>0</td>\n",
       "    </tr>\n",
       "    <tr>\n",
       "      <th>2</th>\n",
       "      <td>3</td>\n",
       "      <td>15619304</td>\n",
       "      <td>Onio</td>\n",
       "      <td>502</td>\n",
       "      <td>France</td>\n",
       "      <td>Female</td>\n",
       "      <td>42</td>\n",
       "      <td>8.0</td>\n",
       "      <td>159660.80</td>\n",
       "      <td>3</td>\n",
       "      <td>1</td>\n",
       "      <td>0</td>\n",
       "      <td>113931.57</td>\n",
       "      <td>1</td>\n",
       "    </tr>\n",
       "    <tr>\n",
       "      <th>3</th>\n",
       "      <td>4</td>\n",
       "      <td>15701354</td>\n",
       "      <td>Boni</td>\n",
       "      <td>699</td>\n",
       "      <td>France</td>\n",
       "      <td>Female</td>\n",
       "      <td>39</td>\n",
       "      <td>1.0</td>\n",
       "      <td>0.00</td>\n",
       "      <td>2</td>\n",
       "      <td>0</td>\n",
       "      <td>0</td>\n",
       "      <td>93826.63</td>\n",
       "      <td>0</td>\n",
       "    </tr>\n",
       "    <tr>\n",
       "      <th>4</th>\n",
       "      <td>5</td>\n",
       "      <td>15737888</td>\n",
       "      <td>Mitchell</td>\n",
       "      <td>850</td>\n",
       "      <td>Spain</td>\n",
       "      <td>Female</td>\n",
       "      <td>43</td>\n",
       "      <td>2.0</td>\n",
       "      <td>125510.82</td>\n",
       "      <td>1</td>\n",
       "      <td>1</td>\n",
       "      <td>1</td>\n",
       "      <td>79084.10</td>\n",
       "      <td>0</td>\n",
       "    </tr>\n",
       "    <tr>\n",
       "      <th>5</th>\n",
       "      <td>6</td>\n",
       "      <td>15574012</td>\n",
       "      <td>Chu</td>\n",
       "      <td>645</td>\n",
       "      <td>Spain</td>\n",
       "      <td>Male</td>\n",
       "      <td>44</td>\n",
       "      <td>8.0</td>\n",
       "      <td>113755.78</td>\n",
       "      <td>2</td>\n",
       "      <td>1</td>\n",
       "      <td>0</td>\n",
       "      <td>149756.71</td>\n",
       "      <td>1</td>\n",
       "    </tr>\n",
       "    <tr>\n",
       "      <th>6</th>\n",
       "      <td>7</td>\n",
       "      <td>15592531</td>\n",
       "      <td>Bartlett</td>\n",
       "      <td>822</td>\n",
       "      <td>France</td>\n",
       "      <td>Male</td>\n",
       "      <td>50</td>\n",
       "      <td>7.0</td>\n",
       "      <td>0.00</td>\n",
       "      <td>2</td>\n",
       "      <td>1</td>\n",
       "      <td>1</td>\n",
       "      <td>10062.80</td>\n",
       "      <td>0</td>\n",
       "    </tr>\n",
       "    <tr>\n",
       "      <th>7</th>\n",
       "      <td>8</td>\n",
       "      <td>15656148</td>\n",
       "      <td>Obinna</td>\n",
       "      <td>376</td>\n",
       "      <td>Germany</td>\n",
       "      <td>Female</td>\n",
       "      <td>29</td>\n",
       "      <td>4.0</td>\n",
       "      <td>115046.74</td>\n",
       "      <td>4</td>\n",
       "      <td>1</td>\n",
       "      <td>0</td>\n",
       "      <td>119346.88</td>\n",
       "      <td>1</td>\n",
       "    </tr>\n",
       "    <tr>\n",
       "      <th>8</th>\n",
       "      <td>9</td>\n",
       "      <td>15792365</td>\n",
       "      <td>He</td>\n",
       "      <td>501</td>\n",
       "      <td>France</td>\n",
       "      <td>Male</td>\n",
       "      <td>44</td>\n",
       "      <td>4.0</td>\n",
       "      <td>142051.07</td>\n",
       "      <td>2</td>\n",
       "      <td>0</td>\n",
       "      <td>1</td>\n",
       "      <td>74940.50</td>\n",
       "      <td>0</td>\n",
       "    </tr>\n",
       "    <tr>\n",
       "      <th>9</th>\n",
       "      <td>10</td>\n",
       "      <td>15592389</td>\n",
       "      <td>H?</td>\n",
       "      <td>684</td>\n",
       "      <td>France</td>\n",
       "      <td>Male</td>\n",
       "      <td>27</td>\n",
       "      <td>2.0</td>\n",
       "      <td>134603.88</td>\n",
       "      <td>1</td>\n",
       "      <td>1</td>\n",
       "      <td>1</td>\n",
       "      <td>71725.73</td>\n",
       "      <td>0</td>\n",
       "    </tr>\n",
       "    <tr>\n",
       "      <th>10</th>\n",
       "      <td>11</td>\n",
       "      <td>15767821</td>\n",
       "      <td>Bearce</td>\n",
       "      <td>528</td>\n",
       "      <td>France</td>\n",
       "      <td>Male</td>\n",
       "      <td>31</td>\n",
       "      <td>6.0</td>\n",
       "      <td>102016.72</td>\n",
       "      <td>2</td>\n",
       "      <td>0</td>\n",
       "      <td>0</td>\n",
       "      <td>80181.12</td>\n",
       "      <td>0</td>\n",
       "    </tr>\n",
       "    <tr>\n",
       "      <th>11</th>\n",
       "      <td>12</td>\n",
       "      <td>15737173</td>\n",
       "      <td>Andrews</td>\n",
       "      <td>497</td>\n",
       "      <td>Spain</td>\n",
       "      <td>Male</td>\n",
       "      <td>24</td>\n",
       "      <td>3.0</td>\n",
       "      <td>0.00</td>\n",
       "      <td>2</td>\n",
       "      <td>1</td>\n",
       "      <td>0</td>\n",
       "      <td>76390.01</td>\n",
       "      <td>0</td>\n",
       "    </tr>\n",
       "    <tr>\n",
       "      <th>12</th>\n",
       "      <td>13</td>\n",
       "      <td>15632264</td>\n",
       "      <td>Kay</td>\n",
       "      <td>476</td>\n",
       "      <td>France</td>\n",
       "      <td>Female</td>\n",
       "      <td>34</td>\n",
       "      <td>10.0</td>\n",
       "      <td>0.00</td>\n",
       "      <td>2</td>\n",
       "      <td>1</td>\n",
       "      <td>0</td>\n",
       "      <td>26260.98</td>\n",
       "      <td>0</td>\n",
       "    </tr>\n",
       "    <tr>\n",
       "      <th>13</th>\n",
       "      <td>14</td>\n",
       "      <td>15691483</td>\n",
       "      <td>Chin</td>\n",
       "      <td>549</td>\n",
       "      <td>France</td>\n",
       "      <td>Female</td>\n",
       "      <td>25</td>\n",
       "      <td>5.0</td>\n",
       "      <td>0.00</td>\n",
       "      <td>2</td>\n",
       "      <td>0</td>\n",
       "      <td>0</td>\n",
       "      <td>190857.79</td>\n",
       "      <td>0</td>\n",
       "    </tr>\n",
       "    <tr>\n",
       "      <th>14</th>\n",
       "      <td>15</td>\n",
       "      <td>15600882</td>\n",
       "      <td>Scott</td>\n",
       "      <td>635</td>\n",
       "      <td>Spain</td>\n",
       "      <td>Female</td>\n",
       "      <td>35</td>\n",
       "      <td>7.0</td>\n",
       "      <td>0.00</td>\n",
       "      <td>2</td>\n",
       "      <td>1</td>\n",
       "      <td>1</td>\n",
       "      <td>65951.65</td>\n",
       "      <td>0</td>\n",
       "    </tr>\n",
       "    <tr>\n",
       "      <th>15</th>\n",
       "      <td>16</td>\n",
       "      <td>15643966</td>\n",
       "      <td>Goforth</td>\n",
       "      <td>616</td>\n",
       "      <td>Germany</td>\n",
       "      <td>Male</td>\n",
       "      <td>45</td>\n",
       "      <td>3.0</td>\n",
       "      <td>143129.41</td>\n",
       "      <td>2</td>\n",
       "      <td>0</td>\n",
       "      <td>1</td>\n",
       "      <td>64327.26</td>\n",
       "      <td>0</td>\n",
       "    </tr>\n",
       "    <tr>\n",
       "      <th>16</th>\n",
       "      <td>17</td>\n",
       "      <td>15737452</td>\n",
       "      <td>Romeo</td>\n",
       "      <td>653</td>\n",
       "      <td>Germany</td>\n",
       "      <td>Male</td>\n",
       "      <td>58</td>\n",
       "      <td>1.0</td>\n",
       "      <td>132602.88</td>\n",
       "      <td>1</td>\n",
       "      <td>1</td>\n",
       "      <td>0</td>\n",
       "      <td>5097.67</td>\n",
       "      <td>1</td>\n",
       "    </tr>\n",
       "    <tr>\n",
       "      <th>17</th>\n",
       "      <td>18</td>\n",
       "      <td>15788218</td>\n",
       "      <td>Henderson</td>\n",
       "      <td>549</td>\n",
       "      <td>Spain</td>\n",
       "      <td>Female</td>\n",
       "      <td>24</td>\n",
       "      <td>9.0</td>\n",
       "      <td>0.00</td>\n",
       "      <td>2</td>\n",
       "      <td>1</td>\n",
       "      <td>1</td>\n",
       "      <td>14406.41</td>\n",
       "      <td>0</td>\n",
       "    </tr>\n",
       "    <tr>\n",
       "      <th>18</th>\n",
       "      <td>19</td>\n",
       "      <td>15661507</td>\n",
       "      <td>Muldrow</td>\n",
       "      <td>587</td>\n",
       "      <td>Spain</td>\n",
       "      <td>Male</td>\n",
       "      <td>45</td>\n",
       "      <td>6.0</td>\n",
       "      <td>0.00</td>\n",
       "      <td>1</td>\n",
       "      <td>0</td>\n",
       "      <td>0</td>\n",
       "      <td>158684.81</td>\n",
       "      <td>0</td>\n",
       "    </tr>\n",
       "    <tr>\n",
       "      <th>19</th>\n",
       "      <td>20</td>\n",
       "      <td>15568982</td>\n",
       "      <td>Hao</td>\n",
       "      <td>726</td>\n",
       "      <td>France</td>\n",
       "      <td>Female</td>\n",
       "      <td>24</td>\n",
       "      <td>6.0</td>\n",
       "      <td>0.00</td>\n",
       "      <td>2</td>\n",
       "      <td>1</td>\n",
       "      <td>1</td>\n",
       "      <td>54724.03</td>\n",
       "      <td>0</td>\n",
       "    </tr>\n",
       "  </tbody>\n",
       "</table>\n",
       "</div>"
      ],
      "text/plain": [
       "    RowNumber  CustomerId    Surname  CreditScore Geography  Gender  Age  \\\n",
       "0           1    15634602   Hargrave          619    France  Female   42   \n",
       "1           2    15647311       Hill          608     Spain  Female   41   \n",
       "2           3    15619304       Onio          502    France  Female   42   \n",
       "3           4    15701354       Boni          699    France  Female   39   \n",
       "4           5    15737888   Mitchell          850     Spain  Female   43   \n",
       "5           6    15574012        Chu          645     Spain    Male   44   \n",
       "6           7    15592531   Bartlett          822    France    Male   50   \n",
       "7           8    15656148     Obinna          376   Germany  Female   29   \n",
       "8           9    15792365         He          501    France    Male   44   \n",
       "9          10    15592389         H?          684    France    Male   27   \n",
       "10         11    15767821     Bearce          528    France    Male   31   \n",
       "11         12    15737173    Andrews          497     Spain    Male   24   \n",
       "12         13    15632264        Kay          476    France  Female   34   \n",
       "13         14    15691483       Chin          549    France  Female   25   \n",
       "14         15    15600882      Scott          635     Spain  Female   35   \n",
       "15         16    15643966    Goforth          616   Germany    Male   45   \n",
       "16         17    15737452      Romeo          653   Germany    Male   58   \n",
       "17         18    15788218  Henderson          549     Spain  Female   24   \n",
       "18         19    15661507    Muldrow          587     Spain    Male   45   \n",
       "19         20    15568982        Hao          726    France  Female   24   \n",
       "\n",
       "    Tenure    Balance  NumOfProducts  HasCrCard  IsActiveMember  \\\n",
       "0      2.0       0.00              1          1               1   \n",
       "1      1.0   83807.86              1          0               1   \n",
       "2      8.0  159660.80              3          1               0   \n",
       "3      1.0       0.00              2          0               0   \n",
       "4      2.0  125510.82              1          1               1   \n",
       "5      8.0  113755.78              2          1               0   \n",
       "6      7.0       0.00              2          1               1   \n",
       "7      4.0  115046.74              4          1               0   \n",
       "8      4.0  142051.07              2          0               1   \n",
       "9      2.0  134603.88              1          1               1   \n",
       "10     6.0  102016.72              2          0               0   \n",
       "11     3.0       0.00              2          1               0   \n",
       "12    10.0       0.00              2          1               0   \n",
       "13     5.0       0.00              2          0               0   \n",
       "14     7.0       0.00              2          1               1   \n",
       "15     3.0  143129.41              2          0               1   \n",
       "16     1.0  132602.88              1          1               0   \n",
       "17     9.0       0.00              2          1               1   \n",
       "18     6.0       0.00              1          0               0   \n",
       "19     6.0       0.00              2          1               1   \n",
       "\n",
       "    EstimatedSalary  Exited  \n",
       "0         101348.88       1  \n",
       "1         112542.58       0  \n",
       "2         113931.57       1  \n",
       "3          93826.63       0  \n",
       "4          79084.10       0  \n",
       "5         149756.71       1  \n",
       "6          10062.80       0  \n",
       "7         119346.88       1  \n",
       "8          74940.50       0  \n",
       "9          71725.73       0  \n",
       "10         80181.12       0  \n",
       "11         76390.01       0  \n",
       "12         26260.98       0  \n",
       "13        190857.79       0  \n",
       "14         65951.65       0  \n",
       "15         64327.26       0  \n",
       "16          5097.67       1  \n",
       "17         14406.41       0  \n",
       "18        158684.81       0  \n",
       "19         54724.03       0  "
      ]
     },
     "execution_count": 2,
     "metadata": {},
     "output_type": "execute_result"
    }
   ],
   "source": [
    "# изучим датасет\n",
    "df=pd.read_csv('/datasets/Churn.csv')\n",
    "df.head(20)"
   ]
  },
  {
   "cell_type": "markdown",
   "metadata": {},
   "source": [
    "**В данном датасете 14 колонок: 13 признаков и 1 целевой признак, 10000 строк.**\n",
    "**Признаки:**\n",
    "\n",
    "- RowNumber — индекс строки в данных\n",
    "- CustomerId — уникальный идентификатор клиента\n",
    "- Surname — фамилия\n",
    "- CreditScore — кредитный рейтинг\n",
    "- Geography — страна проживания\n",
    "- Gender — пол\n",
    "- Age — возраст\n",
    "- Tenure — сколько лет человек является клиентом банка\n",
    "- Balance — баланс на счёте\n",
    "- NumOfProducts — количество продуктов банка, используемых клиентом\n",
    "- HasCrCard — наличие кредитной карты\n",
    "- IsActiveMember — активность клиента\n",
    "- EstimatedSalary — предполагаемая зарплата\n",
    "\n",
    "**Целевой признак:**\n",
    "\n",
    "- Exited — факт ухода клиента"
   ]
  },
  {
   "cell_type": "code",
   "execution_count": 3,
   "metadata": {
    "scrolled": true
   },
   "outputs": [
    {
     "name": "stdout",
     "output_type": "stream",
     "text": [
      "<class 'pandas.core.frame.DataFrame'>\n",
      "RangeIndex: 10000 entries, 0 to 9999\n",
      "Data columns (total 14 columns):\n",
      " #   Column           Non-Null Count  Dtype  \n",
      "---  ------           --------------  -----  \n",
      " 0   RowNumber        10000 non-null  int64  \n",
      " 1   CustomerId       10000 non-null  int64  \n",
      " 2   Surname          10000 non-null  object \n",
      " 3   CreditScore      10000 non-null  int64  \n",
      " 4   Geography        10000 non-null  object \n",
      " 5   Gender           10000 non-null  object \n",
      " 6   Age              10000 non-null  int64  \n",
      " 7   Tenure           9091 non-null   float64\n",
      " 8   Balance          10000 non-null  float64\n",
      " 9   NumOfProducts    10000 non-null  int64  \n",
      " 10  HasCrCard        10000 non-null  int64  \n",
      " 11  IsActiveMember   10000 non-null  int64  \n",
      " 12  EstimatedSalary  10000 non-null  float64\n",
      " 13  Exited           10000 non-null  int64  \n",
      "dtypes: float64(3), int64(8), object(3)\n",
      "memory usage: 1.1+ MB\n"
     ]
    }
   ],
   "source": [
    "df.info()"
   ]
  },
  {
   "cell_type": "markdown",
   "metadata": {},
   "source": [
    "Для удобства приведём к нижнему регистру и отделим названия колонок. Есть пропуски в колонке 'tenure'- сколько лет человек является клиентом банка. Это может означать, что человек является клиентом банка меньше года. Переведём в целочисленный тип и заменем пропуски на ноль."
   ]
  },
  {
   "cell_type": "code",
   "execution_count": 4,
   "metadata": {},
   "outputs": [
    {
     "data": {
      "text/plain": [
       "Index(['rownumber', 'customerid', 'surname', 'creditscore', 'geography',\n",
       "       'gender', 'age', 'tenure', 'balance', 'numofproducts', 'hascrcard',\n",
       "       'isactivemember', 'estimatedsalary', 'exited'],\n",
       "      dtype='object')"
      ]
     },
     "execution_count": 4,
     "metadata": {},
     "output_type": "execute_result"
    }
   ],
   "source": [
    "# для удобства приведём к нижнему регистру и отделим названия колонок\n",
    "df.columns = df.columns.str.lower()\n",
    "df.columns"
   ]
  },
  {
   "cell_type": "code",
   "execution_count": 5,
   "metadata": {},
   "outputs": [
    {
     "data": {
      "text/plain": [
       "Index(['row_number', 'customer_id', 'surname', 'credit_score', 'geography',\n",
       "       'gender', 'age', 'tenure', 'balance', 'num_of_products', 'has_cr_card',\n",
       "       'is_active_member', 'estimated_salary', 'exited'],\n",
       "      dtype='object')"
      ]
     },
     "execution_count": 5,
     "metadata": {},
     "output_type": "execute_result"
    }
   ],
   "source": [
    "df.columns = ['row_number', 'customer_id', 'surname', 'credit_score', 'geography',\n",
    "       'gender', 'age', 'tenure', 'balance', 'num_of_products', 'has_cr_card',\n",
    "       'is_active_member', 'estimated_salary', 'exited']\n",
    "df.columns"
   ]
  },
  {
   "cell_type": "code",
   "execution_count": 6,
   "metadata": {
    "scrolled": true
   },
   "outputs": [
    {
     "name": "stdout",
     "output_type": "stream",
     "text": [
      "<class 'pandas.core.frame.DataFrame'>\n",
      "RangeIndex: 10000 entries, 0 to 9999\n",
      "Data columns (total 14 columns):\n",
      " #   Column            Non-Null Count  Dtype  \n",
      "---  ------            --------------  -----  \n",
      " 0   row_number        10000 non-null  int64  \n",
      " 1   customer_id       10000 non-null  int64  \n",
      " 2   surname           10000 non-null  object \n",
      " 3   credit_score      10000 non-null  int64  \n",
      " 4   geography         10000 non-null  object \n",
      " 5   gender            10000 non-null  object \n",
      " 6   age               10000 non-null  int64  \n",
      " 7   tenure            10000 non-null  int64  \n",
      " 8   balance           10000 non-null  float64\n",
      " 9   num_of_products   10000 non-null  int64  \n",
      " 10  has_cr_card       10000 non-null  int64  \n",
      " 11  is_active_member  10000 non-null  int64  \n",
      " 12  estimated_salary  10000 non-null  float64\n",
      " 13  exited            10000 non-null  int64  \n",
      "dtypes: float64(2), int64(9), object(3)\n",
      "memory usage: 1.1+ MB\n"
     ]
    }
   ],
   "source": [
    "# Заполним пропуски и заменим тип данных\n",
    "df['tenure']=df['tenure'].fillna(0).astype('int64')\n",
    "df.info()"
   ]
  },
  {
   "cell_type": "code",
   "execution_count": 7,
   "metadata": {},
   "outputs": [
    {
     "data": {
      "text/html": [
       "<div>\n",
       "<style scoped>\n",
       "    .dataframe tbody tr th:only-of-type {\n",
       "        vertical-align: middle;\n",
       "    }\n",
       "\n",
       "    .dataframe tbody tr th {\n",
       "        vertical-align: top;\n",
       "    }\n",
       "\n",
       "    .dataframe thead th {\n",
       "        text-align: right;\n",
       "    }\n",
       "</style>\n",
       "<table border=\"1\" class=\"dataframe\">\n",
       "  <thead>\n",
       "    <tr style=\"text-align: right;\">\n",
       "      <th></th>\n",
       "      <th>row_number</th>\n",
       "      <th>customer_id</th>\n",
       "      <th>credit_score</th>\n",
       "      <th>age</th>\n",
       "      <th>tenure</th>\n",
       "      <th>balance</th>\n",
       "      <th>num_of_products</th>\n",
       "      <th>has_cr_card</th>\n",
       "      <th>is_active_member</th>\n",
       "      <th>estimated_salary</th>\n",
       "      <th>exited</th>\n",
       "    </tr>\n",
       "  </thead>\n",
       "  <tbody>\n",
       "    <tr>\n",
       "      <th>count</th>\n",
       "      <td>10000.00000</td>\n",
       "      <td>1.000000e+04</td>\n",
       "      <td>10000.000000</td>\n",
       "      <td>10000.000000</td>\n",
       "      <td>10000.000000</td>\n",
       "      <td>10000.000000</td>\n",
       "      <td>10000.000000</td>\n",
       "      <td>10000.00000</td>\n",
       "      <td>10000.000000</td>\n",
       "      <td>10000.000000</td>\n",
       "      <td>10000.000000</td>\n",
       "    </tr>\n",
       "    <tr>\n",
       "      <th>mean</th>\n",
       "      <td>5000.50000</td>\n",
       "      <td>1.569094e+07</td>\n",
       "      <td>650.528800</td>\n",
       "      <td>38.921800</td>\n",
       "      <td>4.543400</td>\n",
       "      <td>76485.889288</td>\n",
       "      <td>1.530200</td>\n",
       "      <td>0.70550</td>\n",
       "      <td>0.515100</td>\n",
       "      <td>100090.239881</td>\n",
       "      <td>0.203700</td>\n",
       "    </tr>\n",
       "    <tr>\n",
       "      <th>std</th>\n",
       "      <td>2886.89568</td>\n",
       "      <td>7.193619e+04</td>\n",
       "      <td>96.653299</td>\n",
       "      <td>10.487806</td>\n",
       "      <td>3.111573</td>\n",
       "      <td>62397.405202</td>\n",
       "      <td>0.581654</td>\n",
       "      <td>0.45584</td>\n",
       "      <td>0.499797</td>\n",
       "      <td>57510.492818</td>\n",
       "      <td>0.402769</td>\n",
       "    </tr>\n",
       "    <tr>\n",
       "      <th>min</th>\n",
       "      <td>1.00000</td>\n",
       "      <td>1.556570e+07</td>\n",
       "      <td>350.000000</td>\n",
       "      <td>18.000000</td>\n",
       "      <td>0.000000</td>\n",
       "      <td>0.000000</td>\n",
       "      <td>1.000000</td>\n",
       "      <td>0.00000</td>\n",
       "      <td>0.000000</td>\n",
       "      <td>11.580000</td>\n",
       "      <td>0.000000</td>\n",
       "    </tr>\n",
       "    <tr>\n",
       "      <th>25%</th>\n",
       "      <td>2500.75000</td>\n",
       "      <td>1.562853e+07</td>\n",
       "      <td>584.000000</td>\n",
       "      <td>32.000000</td>\n",
       "      <td>2.000000</td>\n",
       "      <td>0.000000</td>\n",
       "      <td>1.000000</td>\n",
       "      <td>0.00000</td>\n",
       "      <td>0.000000</td>\n",
       "      <td>51002.110000</td>\n",
       "      <td>0.000000</td>\n",
       "    </tr>\n",
       "    <tr>\n",
       "      <th>50%</th>\n",
       "      <td>5000.50000</td>\n",
       "      <td>1.569074e+07</td>\n",
       "      <td>652.000000</td>\n",
       "      <td>37.000000</td>\n",
       "      <td>4.000000</td>\n",
       "      <td>97198.540000</td>\n",
       "      <td>1.000000</td>\n",
       "      <td>1.00000</td>\n",
       "      <td>1.000000</td>\n",
       "      <td>100193.915000</td>\n",
       "      <td>0.000000</td>\n",
       "    </tr>\n",
       "    <tr>\n",
       "      <th>75%</th>\n",
       "      <td>7500.25000</td>\n",
       "      <td>1.575323e+07</td>\n",
       "      <td>718.000000</td>\n",
       "      <td>44.000000</td>\n",
       "      <td>7.000000</td>\n",
       "      <td>127644.240000</td>\n",
       "      <td>2.000000</td>\n",
       "      <td>1.00000</td>\n",
       "      <td>1.000000</td>\n",
       "      <td>149388.247500</td>\n",
       "      <td>0.000000</td>\n",
       "    </tr>\n",
       "    <tr>\n",
       "      <th>max</th>\n",
       "      <td>10000.00000</td>\n",
       "      <td>1.581569e+07</td>\n",
       "      <td>850.000000</td>\n",
       "      <td>92.000000</td>\n",
       "      <td>10.000000</td>\n",
       "      <td>250898.090000</td>\n",
       "      <td>4.000000</td>\n",
       "      <td>1.00000</td>\n",
       "      <td>1.000000</td>\n",
       "      <td>199992.480000</td>\n",
       "      <td>1.000000</td>\n",
       "    </tr>\n",
       "  </tbody>\n",
       "</table>\n",
       "</div>"
      ],
      "text/plain": [
       "        row_number   customer_id  credit_score           age        tenure  \\\n",
       "count  10000.00000  1.000000e+04  10000.000000  10000.000000  10000.000000   \n",
       "mean    5000.50000  1.569094e+07    650.528800     38.921800      4.543400   \n",
       "std     2886.89568  7.193619e+04     96.653299     10.487806      3.111573   \n",
       "min        1.00000  1.556570e+07    350.000000     18.000000      0.000000   \n",
       "25%     2500.75000  1.562853e+07    584.000000     32.000000      2.000000   \n",
       "50%     5000.50000  1.569074e+07    652.000000     37.000000      4.000000   \n",
       "75%     7500.25000  1.575323e+07    718.000000     44.000000      7.000000   \n",
       "max    10000.00000  1.581569e+07    850.000000     92.000000     10.000000   \n",
       "\n",
       "             balance  num_of_products  has_cr_card  is_active_member  \\\n",
       "count   10000.000000     10000.000000  10000.00000      10000.000000   \n",
       "mean    76485.889288         1.530200      0.70550          0.515100   \n",
       "std     62397.405202         0.581654      0.45584          0.499797   \n",
       "min         0.000000         1.000000      0.00000          0.000000   \n",
       "25%         0.000000         1.000000      0.00000          0.000000   \n",
       "50%     97198.540000         1.000000      1.00000          1.000000   \n",
       "75%    127644.240000         2.000000      1.00000          1.000000   \n",
       "max    250898.090000         4.000000      1.00000          1.000000   \n",
       "\n",
       "       estimated_salary        exited  \n",
       "count      10000.000000  10000.000000  \n",
       "mean      100090.239881      0.203700  \n",
       "std        57510.492818      0.402769  \n",
       "min           11.580000      0.000000  \n",
       "25%        51002.110000      0.000000  \n",
       "50%       100193.915000      0.000000  \n",
       "75%       149388.247500      0.000000  \n",
       "max       199992.480000      1.000000  "
      ]
     },
     "execution_count": 7,
     "metadata": {},
     "output_type": "execute_result"
    }
   ],
   "source": [
    "df.describe()"
   ]
  },
  {
   "cell_type": "code",
   "execution_count": 8,
   "metadata": {
    "scrolled": true
   },
   "outputs": [
    {
     "data": {
      "text/plain": [
       "0"
      ]
     },
     "execution_count": 8,
     "metadata": {},
     "output_type": "execute_result"
    }
   ],
   "source": [
    "# проверим наличие дубликатов\n",
    "df.duplicated().sum()"
   ]
  },
  {
   "cell_type": "code",
   "execution_count": 9,
   "metadata": {},
   "outputs": [
    {
     "data": {
      "image/png": "[encoded data removed]",
      "text/plain": [
       "<Figure size 1440x1080 with 12 Axes>"
      ]
     },
     "metadata": {
      "needs_background": "light"
     },
     "output_type": "display_data"
    }
   ],
   "source": [
    "df.hist(bins=50, figsize=(20,15), edgecolor='black', linewidth=2)\n",
    "plt.show()"
   ]
  },
  {
   "cell_type": "code",
   "execution_count": 10,
   "metadata": {},
   "outputs": [
    {
     "data": {
      "text/html": [
       "<div>\n",
       "<style scoped>\n",
       "    .dataframe tbody tr th:only-of-type {\n",
       "        vertical-align: middle;\n",
       "    }\n",
       "\n",
       "    .dataframe tbody tr th {\n",
       "        vertical-align: top;\n",
       "    }\n",
       "\n",
       "    .dataframe thead th {\n",
       "        text-align: right;\n",
       "    }\n",
       "</style>\n",
       "<table border=\"1\" class=\"dataframe\">\n",
       "  <thead>\n",
       "    <tr style=\"text-align: right;\">\n",
       "      <th></th>\n",
       "      <th>credit_score</th>\n",
       "      <th>geography</th>\n",
       "      <th>gender</th>\n",
       "      <th>age</th>\n",
       "      <th>tenure</th>\n",
       "      <th>balance</th>\n",
       "      <th>num_of_products</th>\n",
       "      <th>has_cr_card</th>\n",
       "      <th>is_active_member</th>\n",
       "      <th>estimated_salary</th>\n",
       "      <th>exited</th>\n",
       "    </tr>\n",
       "  </thead>\n",
       "  <tbody>\n",
       "    <tr>\n",
       "      <th>0</th>\n",
       "      <td>619</td>\n",
       "      <td>France</td>\n",
       "      <td>Female</td>\n",
       "      <td>42</td>\n",
       "      <td>2</td>\n",
       "      <td>0.00</td>\n",
       "      <td>1</td>\n",
       "      <td>1</td>\n",
       "      <td>1</td>\n",
       "      <td>101348.88</td>\n",
       "      <td>1</td>\n",
       "    </tr>\n",
       "    <tr>\n",
       "      <th>1</th>\n",
       "      <td>608</td>\n",
       "      <td>Spain</td>\n",
       "      <td>Female</td>\n",
       "      <td>41</td>\n",
       "      <td>1</td>\n",
       "      <td>83807.86</td>\n",
       "      <td>1</td>\n",
       "      <td>0</td>\n",
       "      <td>1</td>\n",
       "      <td>112542.58</td>\n",
       "      <td>0</td>\n",
       "    </tr>\n",
       "    <tr>\n",
       "      <th>2</th>\n",
       "      <td>502</td>\n",
       "      <td>France</td>\n",
       "      <td>Female</td>\n",
       "      <td>42</td>\n",
       "      <td>8</td>\n",
       "      <td>159660.80</td>\n",
       "      <td>3</td>\n",
       "      <td>1</td>\n",
       "      <td>0</td>\n",
       "      <td>113931.57</td>\n",
       "      <td>1</td>\n",
       "    </tr>\n",
       "    <tr>\n",
       "      <th>3</th>\n",
       "      <td>699</td>\n",
       "      <td>France</td>\n",
       "      <td>Female</td>\n",
       "      <td>39</td>\n",
       "      <td>1</td>\n",
       "      <td>0.00</td>\n",
       "      <td>2</td>\n",
       "      <td>0</td>\n",
       "      <td>0</td>\n",
       "      <td>93826.63</td>\n",
       "      <td>0</td>\n",
       "    </tr>\n",
       "    <tr>\n",
       "      <th>4</th>\n",
       "      <td>850</td>\n",
       "      <td>Spain</td>\n",
       "      <td>Female</td>\n",
       "      <td>43</td>\n",
       "      <td>2</td>\n",
       "      <td>125510.82</td>\n",
       "      <td>1</td>\n",
       "      <td>1</td>\n",
       "      <td>1</td>\n",
       "      <td>79084.10</td>\n",
       "      <td>0</td>\n",
       "    </tr>\n",
       "  </tbody>\n",
       "</table>\n",
       "</div>"
      ],
      "text/plain": [
       "   credit_score geography  gender  age  tenure    balance  num_of_products  \\\n",
       "0           619    France  Female   42       2       0.00                1   \n",
       "1           608     Spain  Female   41       1   83807.86                1   \n",
       "2           502    France  Female   42       8  159660.80                3   \n",
       "3           699    France  Female   39       1       0.00                2   \n",
       "4           850     Spain  Female   43       2  125510.82                1   \n",
       "\n",
       "   has_cr_card  is_active_member  estimated_salary  exited  \n",
       "0            1                 1         101348.88       1  \n",
       "1            0                 1         112542.58       0  \n",
       "2            1                 0         113931.57       1  \n",
       "3            0                 0          93826.63       0  \n",
       "4            1                 1          79084.10       0  "
      ]
     },
     "execution_count": 10,
     "metadata": {},
     "output_type": "execute_result"
    }
   ],
   "source": [
    "# в данных присутствуют столбцы, которые не нужны в анализе. Их можно удалить.\n",
    "data = df.drop(['row_number','customer_id', 'surname'], axis=1).copy()\n",
    "data.head()"
   ]
  },
  {
   "cell_type": "markdown",
   "metadata": {},
   "source": [
    "**Таким образом данные обработаны и готовы к ислледованию.**"
   ]
  },
  {
   "cell_type": "markdown",
   "metadata": {},
   "source": [
    "## Исследование задачи"
   ]
  },
  {
   "cell_type": "markdown",
   "metadata": {},
   "source": [
    "### Преобразование категориальных признаков ###"
   ]
  },
  {
   "cell_type": "code",
   "execution_count": 11,
   "metadata": {},
   "outputs": [
    {
     "data": {
      "text/plain": [
       "France     5014\n",
       "Germany    2509\n",
       "Spain      2477\n",
       "Name: geography, dtype: int64"
      ]
     },
     "execution_count": 11,
     "metadata": {},
     "output_type": "execute_result"
    }
   ],
   "source": [
    "# изучим категориальные признаки\n",
    "data['geography'].value_counts()"
   ]
  },
  {
   "cell_type": "code",
   "execution_count": 12,
   "metadata": {},
   "outputs": [
    {
     "data": {
      "text/plain": [
       "Male      5457\n",
       "Female    4543\n",
       "Name: gender, dtype: int64"
      ]
     },
     "execution_count": 12,
     "metadata": {},
     "output_type": "execute_result"
    }
   ],
   "source": [
    "data['gender'].value_counts()"
   ]
  },
  {
   "cell_type": "code",
   "execution_count": 13,
   "metadata": {
    "scrolled": false
   },
   "outputs": [
    {
     "data": {
      "text/html": [
       "<div>\n",
       "<style scoped>\n",
       "    .dataframe tbody tr th:only-of-type {\n",
       "        vertical-align: middle;\n",
       "    }\n",
       "\n",
       "    .dataframe tbody tr th {\n",
       "        vertical-align: top;\n",
       "    }\n",
       "\n",
       "    .dataframe thead th {\n",
       "        text-align: right;\n",
       "    }\n",
       "</style>\n",
       "<table border=\"1\" class=\"dataframe\">\n",
       "  <thead>\n",
       "    <tr style=\"text-align: right;\">\n",
       "      <th></th>\n",
       "      <th>credit_score</th>\n",
       "      <th>age</th>\n",
       "      <th>tenure</th>\n",
       "      <th>balance</th>\n",
       "      <th>num_of_products</th>\n",
       "      <th>has_cr_card</th>\n",
       "      <th>is_active_member</th>\n",
       "      <th>estimated_salary</th>\n",
       "      <th>exited</th>\n",
       "      <th>Male</th>\n",
       "      <th>Germany</th>\n",
       "      <th>Spain</th>\n",
       "    </tr>\n",
       "  </thead>\n",
       "  <tbody>\n",
       "    <tr>\n",
       "      <th>0</th>\n",
       "      <td>619</td>\n",
       "      <td>42</td>\n",
       "      <td>2</td>\n",
       "      <td>0.00</td>\n",
       "      <td>1</td>\n",
       "      <td>1</td>\n",
       "      <td>1</td>\n",
       "      <td>101348.88</td>\n",
       "      <td>1</td>\n",
       "      <td>0</td>\n",
       "      <td>0</td>\n",
       "      <td>0</td>\n",
       "    </tr>\n",
       "    <tr>\n",
       "      <th>1</th>\n",
       "      <td>608</td>\n",
       "      <td>41</td>\n",
       "      <td>1</td>\n",
       "      <td>83807.86</td>\n",
       "      <td>1</td>\n",
       "      <td>0</td>\n",
       "      <td>1</td>\n",
       "      <td>112542.58</td>\n",
       "      <td>0</td>\n",
       "      <td>0</td>\n",
       "      <td>0</td>\n",
       "      <td>1</td>\n",
       "    </tr>\n",
       "    <tr>\n",
       "      <th>2</th>\n",
       "      <td>502</td>\n",
       "      <td>42</td>\n",
       "      <td>8</td>\n",
       "      <td>159660.80</td>\n",
       "      <td>3</td>\n",
       "      <td>1</td>\n",
       "      <td>0</td>\n",
       "      <td>113931.57</td>\n",
       "      <td>1</td>\n",
       "      <td>0</td>\n",
       "      <td>0</td>\n",
       "      <td>0</td>\n",
       "    </tr>\n",
       "    <tr>\n",
       "      <th>3</th>\n",
       "      <td>699</td>\n",
       "      <td>39</td>\n",
       "      <td>1</td>\n",
       "      <td>0.00</td>\n",
       "      <td>2</td>\n",
       "      <td>0</td>\n",
       "      <td>0</td>\n",
       "      <td>93826.63</td>\n",
       "      <td>0</td>\n",
       "      <td>0</td>\n",
       "      <td>0</td>\n",
       "      <td>0</td>\n",
       "    </tr>\n",
       "    <tr>\n",
       "      <th>4</th>\n",
       "      <td>850</td>\n",
       "      <td>43</td>\n",
       "      <td>2</td>\n",
       "      <td>125510.82</td>\n",
       "      <td>1</td>\n",
       "      <td>1</td>\n",
       "      <td>1</td>\n",
       "      <td>79084.10</td>\n",
       "      <td>0</td>\n",
       "      <td>0</td>\n",
       "      <td>0</td>\n",
       "      <td>1</td>\n",
       "    </tr>\n",
       "  </tbody>\n",
       "</table>\n",
       "</div>"
      ],
      "text/plain": [
       "   credit_score  age  tenure    balance  num_of_products  has_cr_card  \\\n",
       "0           619   42       2       0.00                1            1   \n",
       "1           608   41       1   83807.86                1            0   \n",
       "2           502   42       8  159660.80                3            1   \n",
       "3           699   39       1       0.00                2            0   \n",
       "4           850   43       2  125510.82                1            1   \n",
       "\n",
       "   is_active_member  estimated_salary  exited  Male  Germany  Spain  \n",
       "0                 1         101348.88       1     0        0      0  \n",
       "1                 1         112542.58       0     0        0      1  \n",
       "2                 0         113931.57       1     0        0      0  \n",
       "3                 0          93826.63       0     0        0      0  \n",
       "4                 1          79084.10       0     0        0      1  "
      ]
     },
     "execution_count": 13,
     "metadata": {},
     "output_type": "execute_result"
    }
   ],
   "source": [
    "# преобразуем категориальные признаки в численные техникой\n",
    "# One-Hot Encoding\n",
    "gender_ohe = pd.get_dummies(df[\"gender\"], drop_first=True)\n",
    "country_ohe = pd.get_dummies(df[\"geography\"], drop_first=True)\n",
    "\n",
    "# удалим категориальные признаки \n",
    "data.drop([\"gender\", \"geography\"], axis=1, inplace=True)\n",
    "\n",
    "# создадим новую таблицу\n",
    "df_ohe = pd.concat([data, gender_ohe, country_ohe], axis=1)\n",
    "\n",
    "df_ohe.head()"
   ]
  },
  {
   "cell_type": "code",
   "execution_count": 14,
   "metadata": {},
   "outputs": [
    {
     "name": "stdout",
     "output_type": "stream",
     "text": [
      "<class 'pandas.core.frame.DataFrame'>\n",
      "RangeIndex: 10000 entries, 0 to 9999\n",
      "Data columns (total 12 columns):\n",
      " #   Column            Non-Null Count  Dtype  \n",
      "---  ------            --------------  -----  \n",
      " 0   credit_score      10000 non-null  int64  \n",
      " 1   age               10000 non-null  int64  \n",
      " 2   tenure            10000 non-null  int64  \n",
      " 3   balance           10000 non-null  float64\n",
      " 4   num_of_products   10000 non-null  int64  \n",
      " 5   has_cr_card       10000 non-null  int64  \n",
      " 6   is_active_member  10000 non-null  int64  \n",
      " 7   estimated_salary  10000 non-null  float64\n",
      " 8   exited            10000 non-null  int64  \n",
      " 9   Male              10000 non-null  uint8  \n",
      " 10  Germany           10000 non-null  uint8  \n",
      " 11  Spain             10000 non-null  uint8  \n",
      "dtypes: float64(2), int64(7), uint8(3)\n",
      "memory usage: 732.5 KB\n"
     ]
    }
   ],
   "source": [
    "# проверим\n",
    "df_ohe.info()"
   ]
  },
  {
   "cell_type": "markdown",
   "metadata": {},
   "source": [
    "### Изучение целевого признака ###"
   ]
  },
  {
   "cell_type": "code",
   "execution_count": 15,
   "metadata": {},
   "outputs": [
    {
     "data": {
      "text/html": [
       "<div>\n",
       "<style scoped>\n",
       "    .dataframe tbody tr th:only-of-type {\n",
       "        vertical-align: middle;\n",
       "    }\n",
       "\n",
       "    .dataframe tbody tr th {\n",
       "        vertical-align: top;\n",
       "    }\n",
       "\n",
       "    .dataframe thead th {\n",
       "        text-align: right;\n",
       "    }\n",
       "</style>\n",
       "<table border=\"1\" class=\"dataframe\">\n",
       "  <thead>\n",
       "    <tr style=\"text-align: right;\">\n",
       "      <th></th>\n",
       "      <th>exited</th>\n",
       "    </tr>\n",
       "  </thead>\n",
       "  <tbody>\n",
       "    <tr>\n",
       "      <th>0</th>\n",
       "      <td>7963</td>\n",
       "    </tr>\n",
       "    <tr>\n",
       "      <th>1</th>\n",
       "      <td>2037</td>\n",
       "    </tr>\n",
       "  </tbody>\n",
       "</table>\n",
       "</div>"
      ],
      "text/plain": [
       "   exited\n",
       "0    7963\n",
       "1    2037"
      ]
     },
     "execution_count": 15,
     "metadata": {},
     "output_type": "execute_result"
    }
   ],
   "source": [
    "# изучим целевой признак \n",
    "df_ohe['exited'].value_counts().to_frame()"
   ]
  },
  {
   "cell_type": "code",
   "execution_count": 16,
   "metadata": {},
   "outputs": [
    {
     "data": {
      "text/plain": [
       "0.2037"
      ]
     },
     "execution_count": 16,
     "metadata": {},
     "output_type": "execute_result"
    }
   ],
   "source": [
    "df_ohe['exited'].mean()"
   ]
  },
  {
   "cell_type": "code",
   "execution_count": 17,
   "metadata": {},
   "outputs": [
    {
     "data": {
      "image/png": "[encoded data removed]",
      "text/plain": [
       "<Figure size 720x432 with 1 Axes>"
      ]
     },
     "metadata": {
      "needs_background": "light"
     },
     "output_type": "display_data"
    }
   ],
   "source": [
    "# Посмотрим на график оттока и оставшихся клиентов\n",
    "df_ohe['exited'].value_counts().plot(kind='bar',grid=True,figsize=(10,6),title='Соотношение оттока и оставшихся клиентов')\n",
    "plt.show()"
   ]
  },
  {
   "cell_type": "code",
   "execution_count": 18,
   "metadata": {},
   "outputs": [
    {
     "data": {
      "text/html": [
       "<div>\n",
       "<style scoped>\n",
       "    .dataframe tbody tr th:only-of-type {\n",
       "        vertical-align: middle;\n",
       "    }\n",
       "\n",
       "    .dataframe tbody tr th {\n",
       "        vertical-align: top;\n",
       "    }\n",
       "\n",
       "    .dataframe thead th {\n",
       "        text-align: right;\n",
       "    }\n",
       "</style>\n",
       "<table border=\"1\" class=\"dataframe\">\n",
       "  <thead>\n",
       "    <tr style=\"text-align: right;\">\n",
       "      <th></th>\n",
       "      <th>credit_score</th>\n",
       "      <th>age</th>\n",
       "      <th>tenure</th>\n",
       "      <th>balance</th>\n",
       "      <th>num_of_products</th>\n",
       "      <th>has_cr_card</th>\n",
       "      <th>is_active_member</th>\n",
       "      <th>estimated_salary</th>\n",
       "      <th>exited</th>\n",
       "      <th>Male</th>\n",
       "      <th>Germany</th>\n",
       "      <th>Spain</th>\n",
       "    </tr>\n",
       "  </thead>\n",
       "  <tbody>\n",
       "    <tr>\n",
       "      <th>credit_score</th>\n",
       "      <td>1.000000</td>\n",
       "      <td>-0.003965</td>\n",
       "      <td>0.003087</td>\n",
       "      <td>0.006268</td>\n",
       "      <td>0.012238</td>\n",
       "      <td>-0.005458</td>\n",
       "      <td>0.025651</td>\n",
       "      <td>-0.001384</td>\n",
       "      <td>-0.027094</td>\n",
       "      <td>-0.002857</td>\n",
       "      <td>0.005538</td>\n",
       "      <td>0.004780</td>\n",
       "    </tr>\n",
       "    <tr>\n",
       "      <th>age</th>\n",
       "      <td>-0.003965</td>\n",
       "      <td>1.000000</td>\n",
       "      <td>-0.007368</td>\n",
       "      <td>0.028308</td>\n",
       "      <td>-0.030680</td>\n",
       "      <td>-0.011721</td>\n",
       "      <td>0.085472</td>\n",
       "      <td>-0.007201</td>\n",
       "      <td>0.285323</td>\n",
       "      <td>-0.027544</td>\n",
       "      <td>0.046897</td>\n",
       "      <td>-0.001685</td>\n",
       "    </tr>\n",
       "    <tr>\n",
       "      <th>tenure</th>\n",
       "      <td>0.003087</td>\n",
       "      <td>-0.007368</td>\n",
       "      <td>1.000000</td>\n",
       "      <td>-0.005821</td>\n",
       "      <td>0.010106</td>\n",
       "      <td>0.021387</td>\n",
       "      <td>-0.025856</td>\n",
       "      <td>0.011225</td>\n",
       "      <td>-0.013319</td>\n",
       "      <td>0.014889</td>\n",
       "      <td>0.001676</td>\n",
       "      <td>-0.000745</td>\n",
       "    </tr>\n",
       "    <tr>\n",
       "      <th>balance</th>\n",
       "      <td>0.006268</td>\n",
       "      <td>0.028308</td>\n",
       "      <td>-0.005821</td>\n",
       "      <td>1.000000</td>\n",
       "      <td>-0.304180</td>\n",
       "      <td>-0.014858</td>\n",
       "      <td>-0.010084</td>\n",
       "      <td>0.012797</td>\n",
       "      <td>0.118533</td>\n",
       "      <td>0.012087</td>\n",
       "      <td>0.401110</td>\n",
       "      <td>-0.134892</td>\n",
       "    </tr>\n",
       "    <tr>\n",
       "      <th>num_of_products</th>\n",
       "      <td>0.012238</td>\n",
       "      <td>-0.030680</td>\n",
       "      <td>0.010106</td>\n",
       "      <td>-0.304180</td>\n",
       "      <td>1.000000</td>\n",
       "      <td>0.003183</td>\n",
       "      <td>0.009612</td>\n",
       "      <td>0.014204</td>\n",
       "      <td>-0.047820</td>\n",
       "      <td>-0.021859</td>\n",
       "      <td>-0.010419</td>\n",
       "      <td>0.009039</td>\n",
       "    </tr>\n",
       "    <tr>\n",
       "      <th>has_cr_card</th>\n",
       "      <td>-0.005458</td>\n",
       "      <td>-0.011721</td>\n",
       "      <td>0.021387</td>\n",
       "      <td>-0.014858</td>\n",
       "      <td>0.003183</td>\n",
       "      <td>1.000000</td>\n",
       "      <td>-0.011866</td>\n",
       "      <td>-0.009933</td>\n",
       "      <td>-0.007138</td>\n",
       "      <td>0.005766</td>\n",
       "      <td>0.010577</td>\n",
       "      <td>-0.013480</td>\n",
       "    </tr>\n",
       "    <tr>\n",
       "      <th>is_active_member</th>\n",
       "      <td>0.025651</td>\n",
       "      <td>0.085472</td>\n",
       "      <td>-0.025856</td>\n",
       "      <td>-0.010084</td>\n",
       "      <td>0.009612</td>\n",
       "      <td>-0.011866</td>\n",
       "      <td>1.000000</td>\n",
       "      <td>-0.011421</td>\n",
       "      <td>-0.156128</td>\n",
       "      <td>0.022544</td>\n",
       "      <td>-0.020486</td>\n",
       "      <td>0.016732</td>\n",
       "    </tr>\n",
       "    <tr>\n",
       "      <th>estimated_salary</th>\n",
       "      <td>-0.001384</td>\n",
       "      <td>-0.007201</td>\n",
       "      <td>0.011225</td>\n",
       "      <td>0.012797</td>\n",
       "      <td>0.014204</td>\n",
       "      <td>-0.009933</td>\n",
       "      <td>-0.011421</td>\n",
       "      <td>1.000000</td>\n",
       "      <td>0.012097</td>\n",
       "      <td>-0.008112</td>\n",
       "      <td>0.010297</td>\n",
       "      <td>-0.006482</td>\n",
       "    </tr>\n",
       "    <tr>\n",
       "      <th>exited</th>\n",
       "      <td>-0.027094</td>\n",
       "      <td>0.285323</td>\n",
       "      <td>-0.013319</td>\n",
       "      <td>0.118533</td>\n",
       "      <td>-0.047820</td>\n",
       "      <td>-0.007138</td>\n",
       "      <td>-0.156128</td>\n",
       "      <td>0.012097</td>\n",
       "      <td>1.000000</td>\n",
       "      <td>-0.106512</td>\n",
       "      <td>0.173488</td>\n",
       "      <td>-0.052667</td>\n",
       "    </tr>\n",
       "    <tr>\n",
       "      <th>Male</th>\n",
       "      <td>-0.002857</td>\n",
       "      <td>-0.027544</td>\n",
       "      <td>0.014889</td>\n",
       "      <td>0.012087</td>\n",
       "      <td>-0.021859</td>\n",
       "      <td>0.005766</td>\n",
       "      <td>0.022544</td>\n",
       "      <td>-0.008112</td>\n",
       "      <td>-0.106512</td>\n",
       "      <td>1.000000</td>\n",
       "      <td>-0.024628</td>\n",
       "      <td>0.016889</td>\n",
       "    </tr>\n",
       "    <tr>\n",
       "      <th>Germany</th>\n",
       "      <td>0.005538</td>\n",
       "      <td>0.046897</td>\n",
       "      <td>0.001676</td>\n",
       "      <td>0.401110</td>\n",
       "      <td>-0.010419</td>\n",
       "      <td>0.010577</td>\n",
       "      <td>-0.020486</td>\n",
       "      <td>0.010297</td>\n",
       "      <td>0.173488</td>\n",
       "      <td>-0.024628</td>\n",
       "      <td>1.000000</td>\n",
       "      <td>-0.332084</td>\n",
       "    </tr>\n",
       "    <tr>\n",
       "      <th>Spain</th>\n",
       "      <td>0.004780</td>\n",
       "      <td>-0.001685</td>\n",
       "      <td>-0.000745</td>\n",
       "      <td>-0.134892</td>\n",
       "      <td>0.009039</td>\n",
       "      <td>-0.013480</td>\n",
       "      <td>0.016732</td>\n",
       "      <td>-0.006482</td>\n",
       "      <td>-0.052667</td>\n",
       "      <td>0.016889</td>\n",
       "      <td>-0.332084</td>\n",
       "      <td>1.000000</td>\n",
       "    </tr>\n",
       "  </tbody>\n",
       "</table>\n",
       "</div>"
      ],
      "text/plain": [
       "                  credit_score       age    tenure   balance  num_of_products  \\\n",
       "credit_score          1.000000 -0.003965  0.003087  0.006268         0.012238   \n",
       "age                  -0.003965  1.000000 -0.007368  0.028308        -0.030680   \n",
       "tenure                0.003087 -0.007368  1.000000 -0.005821         0.010106   \n",
       "balance               0.006268  0.028308 -0.005821  1.000000        -0.304180   \n",
       "num_of_products       0.012238 -0.030680  0.010106 -0.304180         1.000000   \n",
       "has_cr_card          -0.005458 -0.011721  0.021387 -0.014858         0.003183   \n",
       "is_active_member      0.025651  0.085472 -0.025856 -0.010084         0.009612   \n",
       "estimated_salary     -0.001384 -0.007201  0.011225  0.012797         0.014204   \n",
       "exited               -0.027094  0.285323 -0.013319  0.118533        -0.047820   \n",
       "Male                 -0.002857 -0.027544  0.014889  0.012087        -0.021859   \n",
       "Germany               0.005538  0.046897  0.001676  0.401110        -0.010419   \n",
       "Spain                 0.004780 -0.001685 -0.000745 -0.134892         0.009039   \n",
       "\n",
       "                  has_cr_card  is_active_member  estimated_salary    exited  \\\n",
       "credit_score        -0.005458          0.025651         -0.001384 -0.027094   \n",
       "age                 -0.011721          0.085472         -0.007201  0.285323   \n",
       "tenure               0.021387         -0.025856          0.011225 -0.013319   \n",
       "balance             -0.014858         -0.010084          0.012797  0.118533   \n",
       "num_of_products      0.003183          0.009612          0.014204 -0.047820   \n",
       "has_cr_card          1.000000         -0.011866         -0.009933 -0.007138   \n",
       "is_active_member    -0.011866          1.000000         -0.011421 -0.156128   \n",
       "estimated_salary    -0.009933         -0.011421          1.000000  0.012097   \n",
       "exited              -0.007138         -0.156128          0.012097  1.000000   \n",
       "Male                 0.005766          0.022544         -0.008112 -0.106512   \n",
       "Germany              0.010577         -0.020486          0.010297  0.173488   \n",
       "Spain               -0.013480          0.016732         -0.006482 -0.052667   \n",
       "\n",
       "                      Male   Germany     Spain  \n",
       "credit_score     -0.002857  0.005538  0.004780  \n",
       "age              -0.027544  0.046897 -0.001685  \n",
       "tenure            0.014889  0.001676 -0.000745  \n",
       "balance           0.012087  0.401110 -0.134892  \n",
       "num_of_products  -0.021859 -0.010419  0.009039  \n",
       "has_cr_card       0.005766  0.010577 -0.013480  \n",
       "is_active_member  0.022544 -0.020486  0.016732  \n",
       "estimated_salary -0.008112  0.010297 -0.006482  \n",
       "exited           -0.106512  0.173488 -0.052667  \n",
       "Male              1.000000 -0.024628  0.016889  \n",
       "Germany          -0.024628  1.000000 -0.332084  \n",
       "Spain             0.016889 -0.332084  1.000000  "
      ]
     },
     "execution_count": 18,
     "metadata": {},
     "output_type": "execute_result"
    }
   ],
   "source": [
    "# посмотрим на корреляцию признаков\n",
    "df_ohe.corr()\n",
    "# Видно, что все признаки не сильно коррелируются с целевым признаком"
   ]
  },
  {
   "cell_type": "code",
   "execution_count": 19,
   "metadata": {},
   "outputs": [
    {
     "data": {
      "image/png": "[encoded data removed]",
      "text/plain": [
       "<Figure size 576x432 with 2 Axes>"
      ]
     },
     "metadata": {
      "needs_background": "light"
     },
     "output_type": "display_data"
    }
   ],
   "source": [
    "fig,axis = plt.subplots(figsize=(8,6))\n",
    "axis = sb.heatmap(data=df_ohe.corr(method='pearson',min_periods=1),annot=True,cmap=\"YlGnBu\")"
   ]
  },
  {
   "cell_type": "markdown",
   "metadata": {},
   "source": [
    "\n",
    "**Наибольшая корреляция наблюдается у целевого признака с возрастом, балансом на счёте и активностью клиента. Положительный факт ухода клиента составляет 20 %. Наблюдается дисбаланс классов. Обучим модель без учёта дисбаланса.**"
   ]
  },
  {
   "cell_type": "markdown",
   "metadata": {},
   "source": [
    "### Разделение выборки ### \n",
    "Разделим выборку на три части: тренировочную, валидационную (для подбора гиперпараметров) и тестовую (на которой будем тестировать модель). Исходные данные разбивают в соотношении 3:1:1 (или 60 %, 20 %, 20 %)."
   ]
  },
  {
   "cell_type": "code",
   "execution_count": 20,
   "metadata": {},
   "outputs": [],
   "source": [
    "df_train, df_valid_test = train_test_split(df_ohe,train_size=0.6,test_size=0.4,random_state=42)\n",
    "\n",
    "df_valid,df_test = train_test_split(df_valid_test,test_size=0.5,random_state=42)"
   ]
  },
  {
   "cell_type": "code",
   "execution_count": 21,
   "metadata": {},
   "outputs": [
    {
     "data": {
      "text/plain": [
       "(6000, 12)"
      ]
     },
     "execution_count": 21,
     "metadata": {},
     "output_type": "execute_result"
    }
   ],
   "source": [
    "df_train.shape"
   ]
  },
  {
   "cell_type": "code",
   "execution_count": 22,
   "metadata": {},
   "outputs": [
    {
     "data": {
      "text/plain": [
       "(2000, 12)"
      ]
     },
     "execution_count": 22,
     "metadata": {},
     "output_type": "execute_result"
    }
   ],
   "source": [
    "df_valid.shape"
   ]
  },
  {
   "cell_type": "code",
   "execution_count": 23,
   "metadata": {},
   "outputs": [
    {
     "data": {
      "text/plain": [
       "(2000, 12)"
      ]
     },
     "execution_count": 23,
     "metadata": {},
     "output_type": "execute_result"
    }
   ],
   "source": [
    "df_test.shape"
   ]
  },
  {
   "cell_type": "code",
   "execution_count": 24,
   "metadata": {},
   "outputs": [],
   "source": [
    "# На базе обучающей выборки формирую датасет признаков \n",
    "# serias целевого признака ['exited']\n",
    "features_train=df_train.drop(['exited'],axis=1)\n",
    "target_train=df_train['exited']"
   ]
  },
  {
   "cell_type": "code",
   "execution_count": 25,
   "metadata": {},
   "outputs": [],
   "source": [
    "# На базе валидационной выборки формирую датасет признаков \n",
    "# и serias целевого признака ['exited']\n",
    "features_valid=df_valid.drop(['exited'],axis=1)\n",
    "target_valid=df_valid['exited']"
   ]
  },
  {
   "cell_type": "code",
   "execution_count": 26,
   "metadata": {},
   "outputs": [],
   "source": [
    "# На базе тестовой выборки формирую датасет признаков \n",
    "# и serias целевого признака ['exited']\n",
    "features_test=df_test.drop(['exited'],axis=1)\n",
    "target_test=df_test['exited']"
   ]
  },
  {
   "cell_type": "markdown",
   "metadata": {},
   "source": [
    "Таким образом, мы разделили наш датасет на три части: обучающую, валидационную и тестовую.\n",
    "Стандартизируем выборки, т.к есть значения и маленькие и очень большие. "
   ]
  },
  {
   "cell_type": "code",
   "execution_count": 27,
   "metadata": {
    "scrolled": true
   },
   "outputs": [
    {
     "data": {
      "text/html": [
       "<div>\n",
       "<style scoped>\n",
       "    .dataframe tbody tr th:only-of-type {\n",
       "        vertical-align: middle;\n",
       "    }\n",
       "\n",
       "    .dataframe tbody tr th {\n",
       "        vertical-align: top;\n",
       "    }\n",
       "\n",
       "    .dataframe thead th {\n",
       "        text-align: right;\n",
       "    }\n",
       "</style>\n",
       "<table border=\"1\" class=\"dataframe\">\n",
       "  <thead>\n",
       "    <tr style=\"text-align: right;\">\n",
       "      <th></th>\n",
       "      <th>credit_score</th>\n",
       "      <th>age</th>\n",
       "      <th>tenure</th>\n",
       "      <th>balance</th>\n",
       "      <th>num_of_products</th>\n",
       "      <th>has_cr_card</th>\n",
       "      <th>is_active_member</th>\n",
       "      <th>estimated_salary</th>\n",
       "      <th>Male</th>\n",
       "      <th>Germany</th>\n",
       "      <th>Spain</th>\n",
       "    </tr>\n",
       "  </thead>\n",
       "  <tbody>\n",
       "    <tr>\n",
       "      <th>9761</th>\n",
       "      <td>1.603068</td>\n",
       "      <td>2.027653</td>\n",
       "      <td>-1.457665</td>\n",
       "      <td>-0.048229</td>\n",
       "      <td>0.824078</td>\n",
       "      <td>1</td>\n",
       "      <td>1</td>\n",
       "      <td>-1.452982</td>\n",
       "      <td>0</td>\n",
       "      <td>1</td>\n",
       "      <td>0</td>\n",
       "    </tr>\n",
       "    <tr>\n",
       "      <th>3159</th>\n",
       "      <td>1.883194</td>\n",
       "      <td>-1.520072</td>\n",
       "      <td>-0.168647</td>\n",
       "      <td>0.884122</td>\n",
       "      <td>-0.905967</td>\n",
       "      <td>1</td>\n",
       "      <td>0</td>\n",
       "      <td>-1.403696</td>\n",
       "      <td>1</td>\n",
       "      <td>0</td>\n",
       "      <td>0</td>\n",
       "    </tr>\n",
       "    <tr>\n",
       "      <th>1489</th>\n",
       "      <td>-0.451185</td>\n",
       "      <td>0.014079</td>\n",
       "      <td>1.120372</td>\n",
       "      <td>1.050751</td>\n",
       "      <td>-0.905967</td>\n",
       "      <td>0</td>\n",
       "      <td>1</td>\n",
       "      <td>1.290549</td>\n",
       "      <td>0</td>\n",
       "      <td>0</td>\n",
       "      <td>0</td>\n",
       "    </tr>\n",
       "    <tr>\n",
       "      <th>2987</th>\n",
       "      <td>0.243941</td>\n",
       "      <td>-1.232419</td>\n",
       "      <td>-1.135410</td>\n",
       "      <td>0.517839</td>\n",
       "      <td>-0.905967</td>\n",
       "      <td>0</td>\n",
       "      <td>0</td>\n",
       "      <td>-0.709924</td>\n",
       "      <td>0</td>\n",
       "      <td>1</td>\n",
       "      <td>0</td>\n",
       "    </tr>\n",
       "    <tr>\n",
       "      <th>812</th>\n",
       "      <td>-1.416062</td>\n",
       "      <td>-0.561228</td>\n",
       "      <td>-0.490901</td>\n",
       "      <td>-1.214721</td>\n",
       "      <td>0.824078</td>\n",
       "      <td>1</td>\n",
       "      <td>1</td>\n",
       "      <td>-0.736719</td>\n",
       "      <td>0</td>\n",
       "      <td>0</td>\n",
       "      <td>1</td>\n",
       "    </tr>\n",
       "  </tbody>\n",
       "</table>\n",
       "</div>"
      ],
      "text/plain": [
       "      credit_score       age    tenure   balance  num_of_products  \\\n",
       "9761      1.603068  2.027653 -1.457665 -0.048229         0.824078   \n",
       "3159      1.883194 -1.520072 -0.168647  0.884122        -0.905967   \n",
       "1489     -0.451185  0.014079  1.120372  1.050751        -0.905967   \n",
       "2987      0.243941 -1.232419 -1.135410  0.517839        -0.905967   \n",
       "812      -1.416062 -0.561228 -0.490901 -1.214721         0.824078   \n",
       "\n",
       "      has_cr_card  is_active_member  estimated_salary  Male  Germany  Spain  \n",
       "9761            1                 1         -1.452982     0        1      0  \n",
       "3159            1                 0         -1.403696     1        0      0  \n",
       "1489            0                 1          1.290549     0        0      0  \n",
       "2987            0                 0         -0.709924     0        1      0  \n",
       "812             1                 1         -0.736719     0        0      1  "
      ]
     },
     "execution_count": 27,
     "metadata": {},
     "output_type": "execute_result"
    }
   ],
   "source": [
    "# Тренировочная выборка\n",
    "numeric=['credit_score', 'age', 'balance','estimated_salary', 'tenure', 'num_of_products']\n",
    "scaler=StandardScaler()\n",
    "scaler.fit(features_train[numeric])\n",
    "features_train[numeric]=scaler.transform(features_train[numeric])\n",
    "features_train.head()"
   ]
  },
  {
   "cell_type": "code",
   "execution_count": 28,
   "metadata": {},
   "outputs": [
    {
     "data": {
      "text/html": [
       "<div>\n",
       "<style scoped>\n",
       "    .dataframe tbody tr th:only-of-type {\n",
       "        vertical-align: middle;\n",
       "    }\n",
       "\n",
       "    .dataframe tbody tr th {\n",
       "        vertical-align: top;\n",
       "    }\n",
       "\n",
       "    .dataframe thead th {\n",
       "        text-align: right;\n",
       "    }\n",
       "</style>\n",
       "<table border=\"1\" class=\"dataframe\">\n",
       "  <thead>\n",
       "    <tr style=\"text-align: right;\">\n",
       "      <th></th>\n",
       "      <th>credit_score</th>\n",
       "      <th>age</th>\n",
       "      <th>tenure</th>\n",
       "      <th>balance</th>\n",
       "      <th>num_of_products</th>\n",
       "      <th>has_cr_card</th>\n",
       "      <th>is_active_member</th>\n",
       "      <th>estimated_salary</th>\n",
       "      <th>Male</th>\n",
       "      <th>Germany</th>\n",
       "      <th>Spain</th>\n",
       "    </tr>\n",
       "  </thead>\n",
       "  <tbody>\n",
       "    <tr>\n",
       "      <th>8113</th>\n",
       "      <td>-2.401689</td>\n",
       "      <td>-0.465343</td>\n",
       "      <td>0.475863</td>\n",
       "      <td>0.236000</td>\n",
       "      <td>-0.905967</td>\n",
       "      <td>1</td>\n",
       "      <td>1</td>\n",
       "      <td>-1.542971</td>\n",
       "      <td>1</td>\n",
       "      <td>0</td>\n",
       "      <td>1</td>\n",
       "    </tr>\n",
       "    <tr>\n",
       "      <th>1562</th>\n",
       "      <td>0.430691</td>\n",
       "      <td>-0.752997</td>\n",
       "      <td>0.475863</td>\n",
       "      <td>0.529095</td>\n",
       "      <td>0.824078</td>\n",
       "      <td>1</td>\n",
       "      <td>1</td>\n",
       "      <td>-1.416700</td>\n",
       "      <td>1</td>\n",
       "      <td>1</td>\n",
       "      <td>0</td>\n",
       "    </tr>\n",
       "    <tr>\n",
       "      <th>5735</th>\n",
       "      <td>-0.700186</td>\n",
       "      <td>0.493501</td>\n",
       "      <td>-0.168647</td>\n",
       "      <td>-1.214721</td>\n",
       "      <td>0.824078</td>\n",
       "      <td>0</td>\n",
       "      <td>1</td>\n",
       "      <td>0.009224</td>\n",
       "      <td>0</td>\n",
       "      <td>0</td>\n",
       "      <td>1</td>\n",
       "    </tr>\n",
       "    <tr>\n",
       "      <th>9834</th>\n",
       "      <td>-1.416062</td>\n",
       "      <td>0.685270</td>\n",
       "      <td>0.475863</td>\n",
       "      <td>-0.219909</td>\n",
       "      <td>-0.905967</td>\n",
       "      <td>0</td>\n",
       "      <td>1</td>\n",
       "      <td>1.221533</td>\n",
       "      <td>0</td>\n",
       "      <td>0</td>\n",
       "      <td>0</td>\n",
       "    </tr>\n",
       "    <tr>\n",
       "      <th>5379</th>\n",
       "      <td>-0.264435</td>\n",
       "      <td>-1.711841</td>\n",
       "      <td>0.798117</td>\n",
       "      <td>0.368237</td>\n",
       "      <td>-0.905967</td>\n",
       "      <td>1</td>\n",
       "      <td>1</td>\n",
       "      <td>1.177770</td>\n",
       "      <td>0</td>\n",
       "      <td>0</td>\n",
       "      <td>0</td>\n",
       "    </tr>\n",
       "  </tbody>\n",
       "</table>\n",
       "</div>"
      ],
      "text/plain": [
       "      credit_score       age    tenure   balance  num_of_products  \\\n",
       "8113     -2.401689 -0.465343  0.475863  0.236000        -0.905967   \n",
       "1562      0.430691 -0.752997  0.475863  0.529095         0.824078   \n",
       "5735     -0.700186  0.493501 -0.168647 -1.214721         0.824078   \n",
       "9834     -1.416062  0.685270  0.475863 -0.219909        -0.905967   \n",
       "5379     -0.264435 -1.711841  0.798117  0.368237        -0.905967   \n",
       "\n",
       "      has_cr_card  is_active_member  estimated_salary  Male  Germany  Spain  \n",
       "8113            1                 1         -1.542971     1        0      1  \n",
       "1562            1                 1         -1.416700     1        1      0  \n",
       "5735            0                 1          0.009224     0        0      1  \n",
       "9834            0                 1          1.221533     0        0      0  \n",
       "5379            1                 1          1.177770     0        0      0  "
      ]
     },
     "execution_count": 28,
     "metadata": {},
     "output_type": "execute_result"
    }
   ],
   "source": [
    "# Валидационная выборка\n",
    "features_valid[numeric]=scaler.transform(features_valid[numeric])\n",
    "features_valid.head()"
   ]
  },
  {
   "cell_type": "code",
   "execution_count": 29,
   "metadata": {
    "scrolled": true
   },
   "outputs": [
    {
     "data": {
      "text/html": [
       "<div>\n",
       "<style scoped>\n",
       "    .dataframe tbody tr th:only-of-type {\n",
       "        vertical-align: middle;\n",
       "    }\n",
       "\n",
       "    .dataframe tbody tr th {\n",
       "        vertical-align: top;\n",
       "    }\n",
       "\n",
       "    .dataframe thead th {\n",
       "        text-align: right;\n",
       "    }\n",
       "</style>\n",
       "<table border=\"1\" class=\"dataframe\">\n",
       "  <thead>\n",
       "    <tr style=\"text-align: right;\">\n",
       "      <th></th>\n",
       "      <th>credit_score</th>\n",
       "      <th>age</th>\n",
       "      <th>tenure</th>\n",
       "      <th>balance</th>\n",
       "      <th>num_of_products</th>\n",
       "      <th>has_cr_card</th>\n",
       "      <th>is_active_member</th>\n",
       "      <th>estimated_salary</th>\n",
       "      <th>Male</th>\n",
       "      <th>Germany</th>\n",
       "      <th>Spain</th>\n",
       "    </tr>\n",
       "  </thead>\n",
       "  <tbody>\n",
       "    <tr>\n",
       "      <th>7072</th>\n",
       "      <td>0.347691</td>\n",
       "      <td>-0.177690</td>\n",
       "      <td>1.442626</td>\n",
       "      <td>0.936984</td>\n",
       "      <td>-0.905967</td>\n",
       "      <td>1</td>\n",
       "      <td>0</td>\n",
       "      <td>-1.275502</td>\n",
       "      <td>1</td>\n",
       "      <td>0</td>\n",
       "      <td>0</td>\n",
       "    </tr>\n",
       "    <tr>\n",
       "      <th>6204</th>\n",
       "      <td>-1.602812</td>\n",
       "      <td>-0.561228</td>\n",
       "      <td>-1.135410</td>\n",
       "      <td>1.953238</td>\n",
       "      <td>-0.905967</td>\n",
       "      <td>1</td>\n",
       "      <td>0</td>\n",
       "      <td>-0.546455</td>\n",
       "      <td>1</td>\n",
       "      <td>0</td>\n",
       "      <td>0</td>\n",
       "    </tr>\n",
       "    <tr>\n",
       "      <th>7110</th>\n",
       "      <td>0.275066</td>\n",
       "      <td>-1.040650</td>\n",
       "      <td>1.442626</td>\n",
       "      <td>-1.214721</td>\n",
       "      <td>0.824078</td>\n",
       "      <td>0</td>\n",
       "      <td>1</td>\n",
       "      <td>-0.683408</td>\n",
       "      <td>0</td>\n",
       "      <td>0</td>\n",
       "      <td>1</td>\n",
       "    </tr>\n",
       "    <tr>\n",
       "      <th>220</th>\n",
       "      <td>0.762692</td>\n",
       "      <td>-0.752997</td>\n",
       "      <td>1.442626</td>\n",
       "      <td>0.619753</td>\n",
       "      <td>0.824078</td>\n",
       "      <td>1</td>\n",
       "      <td>1</td>\n",
       "      <td>-0.052296</td>\n",
       "      <td>0</td>\n",
       "      <td>0</td>\n",
       "      <td>0</td>\n",
       "    </tr>\n",
       "    <tr>\n",
       "      <th>69</th>\n",
       "      <td>0.233566</td>\n",
       "      <td>-1.711841</td>\n",
       "      <td>1.120372</td>\n",
       "      <td>0.358327</td>\n",
       "      <td>-0.905967</td>\n",
       "      <td>1</td>\n",
       "      <td>0</td>\n",
       "      <td>-1.438292</td>\n",
       "      <td>0</td>\n",
       "      <td>0</td>\n",
       "      <td>0</td>\n",
       "    </tr>\n",
       "  </tbody>\n",
       "</table>\n",
       "</div>"
      ],
      "text/plain": [
       "      credit_score       age    tenure   balance  num_of_products  \\\n",
       "7072      0.347691 -0.177690  1.442626  0.936984        -0.905967   \n",
       "6204     -1.602812 -0.561228 -1.135410  1.953238        -0.905967   \n",
       "7110      0.275066 -1.040650  1.442626 -1.214721         0.824078   \n",
       "220       0.762692 -0.752997  1.442626  0.619753         0.824078   \n",
       "69        0.233566 -1.711841  1.120372  0.358327        -0.905967   \n",
       "\n",
       "      has_cr_card  is_active_member  estimated_salary  Male  Germany  Spain  \n",
       "7072            1                 0         -1.275502     1        0      0  \n",
       "6204            1                 0         -0.546455     1        0      0  \n",
       "7110            0                 1         -0.683408     0        0      1  \n",
       "220             1                 1         -0.052296     0        0      0  \n",
       "69              1                 0         -1.438292     0        0      0  "
      ]
     },
     "execution_count": 29,
     "metadata": {},
     "output_type": "execute_result"
    }
   ],
   "source": [
    "# Тестовая выборка\n",
    "features_test[numeric]=scaler.transform(features_test[numeric])\n",
    "features_test.head()"
   ]
  },
  {
   "cell_type": "markdown",
   "metadata": {},
   "source": [
    "### Обучение модели без учёта дисбаланса ###\n",
    "#### Логистическая регрессия (Logistic Regression) ####"
   ]
  },
  {
   "cell_type": "code",
   "execution_count": 30,
   "metadata": {},
   "outputs": [
    {
     "name": "stdout",
     "output_type": "stream",
     "text": [
      "F1_LR: 0.2967244701348748\n",
      "ROC_auc_LR: 0.5821799870045484\n",
      "Accuracy: 0.8175\n"
     ]
    }
   ],
   "source": [
    "model_LR = LogisticRegression(random_state = 42,solver='liblinear')\n",
    "model_LR.fit(features_train,target_train) # обучаем\n",
    "predictions_valid_LR = model_LR.predict(features_valid) # проверяем\n",
    "accuracy_LR = accuracy_score(target_valid, predictions_valid_LR)\n",
    "print(\"F1_LR:\", f1_score(target_valid, predictions_valid_LR))\n",
    "print(\"ROC_auc_LR:\", roc_auc_score(target_valid, predictions_valid_LR))\n",
    "print('Accuracy:', accuracy_LR)"
   ]
  },
  {
   "cell_type": "markdown",
   "metadata": {},
   "source": [
    "#### Модель 'Дерево решений' (Decision Tree Classifier) ####"
   ]
  },
  {
   "cell_type": "code",
   "execution_count": 31,
   "metadata": {},
   "outputs": [
    {
     "name": "stdout",
     "output_type": "stream",
     "text": [
      "best max_depth = 6 ;  F1_best_DTC =  0.527687296416938ROC_auc_DTC: 0.6712638076673164\n"
     ]
    }
   ],
   "source": [
    "# Циклом ищем лучший гиперпораметр max_depth\n",
    "best_model_DTC = None\n",
    "best_depth_DTC = 0\n",
    "best_result_DTC = 0\n",
    "for depth in range(1, 20):\n",
    "    model_DTC = DecisionTreeClassifier(random_state=42, max_depth=depth) # присваиваем модели имя\n",
    "    model_DTC.fit(features_train,target_train) # обучаем модель\n",
    "    predictions_DTC = model_DTC.predict(features_valid) # проверяем\n",
    "    result_DTC =  f1_score(target_valid,predictions_DTC)# посчитайте качество модели\n",
    "    if result_DTC > best_result_DTC:\n",
    "        best_model_DTC = model_DTC\n",
    "        best_result_DTC = result_DTC\n",
    "        best_depth_DTC = depth\n",
    "print('best max_depth =',\n",
    "      best_depth_DTC, \n",
    "      '; ', \n",
    "      'F1_best_DTC = ', \n",
    "      best_result_DTC, \n",
    "      end =''\n",
    "     )\n",
    "print(\"ROC_auc_DTC:\", roc_auc_score(target_valid, predictions_DTC))"
   ]
  },
  {
   "cell_type": "markdown",
   "metadata": {},
   "source": [
    "Лучшее значение max_depth:6, при котором:\n",
    "\n",
    "F1_best_DTC =  0.53\n",
    "ROC_auc_DTC: 0.67"
   ]
  },
  {
   "cell_type": "markdown",
   "metadata": {},
   "source": [
    "#### Модель \"Случайный лес\" (RandomForestClassifier) ####"
   ]
  },
  {
   "cell_type": "code",
   "execution_count": 32,
   "metadata": {},
   "outputs": [
    {
     "name": "stdout",
     "output_type": "stream",
     "text": [
      "best n_estimators = 71 ;  best max_depth = 16 ;  F1_best_RFC =  0.5652173913043478ROC_auc_RFC: 0.705003248862898\n"
     ]
    }
   ],
   "source": [
    "best_model_RFC = None\n",
    "best_est_RFC= 0\n",
    "best_depth_RFC= 0\n",
    "best_result_RFC = 0\n",
    "for est in range(1, 100, 10):\n",
    "    for depth in range(1, 20):\n",
    "        model_RFC = RandomForestClassifier(random_state=42, n_estimators=est, max_depth = depth, min_samples_leaf=5) # обучим модель с заданным количеством деревьев\n",
    "        model_RFC.fit(features_train, target_train) # обучим модель на тренировочной выборке\n",
    "        predictions_valid_RFC = model_RFC.predict(features_valid)\n",
    "        result_RFC = f1_score(target_valid,predictions_valid_RFC)# посчитаем качество модели на валидационной выборке\n",
    "        if best_result_RFC < result_RFC:\n",
    "            best_model_RFC = model_RFC\n",
    "            best_est_RFC = est\n",
    "            best_depth_RFC = depth\n",
    "            best_result_RFC = result_RFC\n",
    "print('best n_estimators =', \n",
    "      best_est_RFC, \n",
    "      '; ', \n",
    "      'best max_depth =', \n",
    "      best_depth_RFC, \n",
    "      '; ', \n",
    "      'F1_best_RFC = ', \n",
    "      best_result_RFC, \n",
    "      end =''\n",
    "     ) \n",
    "\n",
    "print(\"ROC_auc_RFC:\", roc_auc_score(target_valid, predictions_valid_RFC))"
   ]
  },
  {
   "cell_type": "markdown",
   "metadata": {},
   "source": [
    "Лучшее значение best n_estimators = 71 ;  best max_depth = 16 ; при которых:\n",
    "\n",
    "F1_best_RFC =  0.56\n",
    "\n",
    "ROC_auc_RFC: 0.70"
   ]
  },
  {
   "cell_type": "markdown",
   "metadata": {},
   "source": [
    " ***Чтобы улучшить результаты прогнозирования и облегчить обучение модели, мы преобразовали данные:***\n",
    "\n",
    "- произведено преобразование категориальных признаков\n",
    "- изучен целевой признак\n",
    "- удалены ненужные функции - такие как фамилия, идентификатор клиента и номер строки, предполагаемая зарплата\n",
    "- проведено масштабирование количественных переменных\n",
    "- разделены выборки в соотношении 60%: 20%: 20% - обучающая, валидационная, для выбора гиперпараметров и верификации модели, тестовая - для окончательной верификации модели и оценки\n",
    "\n",
    "**Обучены модели без учёта дисбаланса:**\n",
    "\n",
    "-*Логистическая регрессия (Logistic Regression)*\n",
    "- F1_LR: 0.30\n",
    "- ROC_auc_LR: 0.58\n",
    "\n",
    "-*Модель 'Дерево решений' (Decision Tree Classifier)*\n",
    "Лучшее значение max_depth:6, при котором:\n",
    "- F1_best_DTC = 0.53 \n",
    "- ROC_auc_DTC: 0.67\n",
    "\n",
    "-*Модель \"Случайный лес\" (RandomForestClassifier)*\n",
    "Лучшее значение best n_estimators = 71 ;  best max_depth = 16 ; при которых:\n",
    "- F1_best_RFC =  0.56\n",
    "- ROC_auc_RFC: 0.70\n",
    "\n",
    "***Таким образом лучший результат на текущих обучающих данных без борьбы с дисбалансом классов получены моделью \"Случайный лес\".\n",
    "Мы попытались обучить модели на объектах с дисбалансом классов. Теперь давайте попробуем избавиться от этой проблемы***"
   ]
  },
  {
   "cell_type": "markdown",
   "metadata": {},
   "source": [
    "## Борьба с дисбалансом"
   ]
  },
  {
   "cell_type": "code",
   "execution_count": 33,
   "metadata": {},
   "outputs": [
    {
     "data": {
      "text/html": [
       "<div>\n",
       "<style scoped>\n",
       "    .dataframe tbody tr th:only-of-type {\n",
       "        vertical-align: middle;\n",
       "    }\n",
       "\n",
       "    .dataframe tbody tr th {\n",
       "        vertical-align: top;\n",
       "    }\n",
       "\n",
       "    .dataframe thead th {\n",
       "        text-align: right;\n",
       "    }\n",
       "</style>\n",
       "<table border=\"1\" class=\"dataframe\">\n",
       "  <thead>\n",
       "    <tr style=\"text-align: right;\">\n",
       "      <th></th>\n",
       "      <th>exited</th>\n",
       "    </tr>\n",
       "  </thead>\n",
       "  <tbody>\n",
       "    <tr>\n",
       "      <th>0</th>\n",
       "      <td>7963</td>\n",
       "    </tr>\n",
       "    <tr>\n",
       "      <th>1</th>\n",
       "      <td>2037</td>\n",
       "    </tr>\n",
       "  </tbody>\n",
       "</table>\n",
       "</div>"
      ],
      "text/plain": [
       "   exited\n",
       "0    7963\n",
       "1    2037"
      ]
     },
     "execution_count": 33,
     "metadata": {},
     "output_type": "execute_result"
    }
   ],
   "source": [
    "# посмотрим на целевой признак еще раз\n",
    "df_ohe['exited'].value_counts().to_frame()"
   ]
  },
  {
   "cell_type": "markdown",
   "metadata": {},
   "source": [
    "### Параметр class_weight для борьбы с дисбалансом ###"
   ]
  },
  {
   "cell_type": "code",
   "execution_count": 34,
   "metadata": {
    "scrolled": true
   },
   "outputs": [
    {
     "name": "stdout",
     "output_type": "stream",
     "text": [
      "F1_LR_CW: 0.4655623365300785\n",
      "ROC_auc_LR_CW: 0.6969948018193632\n"
     ]
    }
   ],
   "source": [
    "# Рассчитаем модель логистической регреccии с параметром class_weight = 'balanced'\n",
    "model_LR_CW = LogisticRegression(random_state=42, solver='liblinear',class_weight = 'balanced')\n",
    "model_LR_CW.fit(features_train, target_train)\n",
    "predicted__LR_CW = model_LR_CW.predict(features_valid)\n",
    "print(\"F1_LR_CW:\", f1_score(target_valid, predicted__LR_CW))\n",
    "print(\"ROC_auc_LR_CW:\", roc_auc_score(target_valid, predicted__LR_CW))"
   ]
  },
  {
   "cell_type": "code",
   "execution_count": 35,
   "metadata": {},
   "outputs": [
    {
     "name": "stdout",
     "output_type": "stream",
     "text": [
      "best max_depth = 7 ;  F1_best_DTC_CW =  0.5329153605015674ROC_auc_DTC_CW: 0.6645873944119558\n"
     ]
    }
   ],
   "source": [
    "# Рассчитаем модель 'Дерево решений' с параметром class_weight = 'balanced'\n",
    "# Циклом ищем лучший гиперпораметр max_depth\n",
    "best_model_DTC_CW = None\n",
    "best_depth_DTC_CW = 0\n",
    "best_result_DTC_CW = 0\n",
    "for depth in range(1, 20):\n",
    "    model_DTC_CW = DecisionTreeClassifier(random_state=42, max_depth=depth, class_weight='balanced') # присваиваем модели имя\n",
    "    model_DTC_CW.fit(features_train,target_train) # обучаем модель\n",
    "    predictions_DTC_CW = model_DTC_CW.predict(features_valid) # проверяем\n",
    "    result_DTC_CW =  f1_score(target_valid,predictions_DTC_CW)# посчитайте качество модели\n",
    "    if result_DTC_CW > best_result_DTC_CW:\n",
    "        best_model_DTC_CW = model_DTC_CW\n",
    "        best_result_DTC_CW = result_DTC_CW\n",
    "        best_depth_DTC_CW = depth\n",
    "print('best max_depth =',\n",
    "      best_depth_DTC_CW, \n",
    "      '; ', \n",
    "      'F1_best_DTC_CW = ', \n",
    "      best_result_DTC_CW, \n",
    "      end =''\n",
    "     )\n",
    "print(\"ROC_auc_DTC_CW:\", roc_auc_score(target_valid, predictions_DTC_CW))"
   ]
  },
  {
   "cell_type": "code",
   "execution_count": 36,
   "metadata": {},
   "outputs": [
    {
     "name": "stdout",
     "output_type": "stream",
     "text": [
      "best n_estimators = 31 ;  best max_depth = 13 ;  F1_best_RFC_CW =  0.5933503836317134ROC_auc_RFC_CW: 0.7459876543209877\n"
     ]
    }
   ],
   "source": [
    "# Рассчитаем модель \"Случайный лес\" (RandomForestClassifier) \n",
    "# с параметром class_weight = 'balanced'\n",
    "# подберём гиперпараметры\n",
    "best_model_RFC_CW = None\n",
    "best_est_RFC_CW= 0\n",
    "best_depth_RFC_CW= 0\n",
    "best_result_RFC_CW = 0\n",
    "for est in range(1, 100, 10):\n",
    "    for depth in range(1, 20):\n",
    "        model_RFC_CW = RandomForestClassifier(random_state=42, n_estimators=est, \n",
    "                                              max_depth = depth, min_samples_leaf=5, \n",
    "                                              class_weight='balanced') # обучим модель с заданным количеством деревьев\n",
    "        model_RFC_CW.fit(features_train, target_train) # обучим модель на тренировочной выборке\n",
    "        predictions_valid_RFC_CW = model_RFC_CW.predict(features_valid)\n",
    "        result_RFC_CW = f1_score(target_valid,predictions_valid_RFC_CW)# посчитаем качество модели на валидационной выборке\n",
    "        if best_result_RFC_CW < result_RFC_CW:\n",
    "            best_model_RFC_CW = model_RFC_CW\n",
    "            best_est_RFC_CW = est\n",
    "            best_depth_RFC_CW = depth\n",
    "            best_result_RFC_CW = result_RFC_CW\n",
    "print('best n_estimators =', \n",
    "      best_est_RFC_CW, \n",
    "      '; ', \n",
    "      'best max_depth =', \n",
    "      best_depth_RFC_CW, \n",
    "      '; ', \n",
    "      'F1_best_RFC_CW = ', \n",
    "      best_result_RFC_CW, \n",
    "      end =''\n",
    "     ) \n",
    "\n",
    "print(\"ROC_auc_RFC_CW:\", roc_auc_score(target_valid, predictions_valid_RFC_CW))"
   ]
  },
  {
   "cell_type": "markdown",
   "metadata": {},
   "source": [
    "***Таким образом, при подборе гиперпараметров и применении гиперпараметра class_weight = 'balanced' для борьбы с дисбалансом классов модели показали:***\n",
    "\n",
    "- *Модель логистической регрессии показала результат по f1 0.46 и roc_auc 0.69, что значительно лучше, чем без данного гиперпараметра.*\n",
    "- *Модель 'Дерево решений' (Decision Tree Classifier) при лучшем значение max_depth:7 F1: 0.53, ROC_auc: 0.66. Результат по метрикам так же лучше результата без применения гиперпараметра class_weight = 'balanced'.*\n",
    "- *Модель случайного леса лучшее значение best n_estimators = 31 ; best max_depth = 13 ; показала результат по f1 0,59 и roc_auc 0,74. Результат по метрикам случайного леса так же лучше результата без применения гиперпараметра class_weight = 'balanced'.*\n",
    "\n",
    "***Таким образом лучший результат на текущих обучающих данных с применением гиперпараметра class_weight = 'balanced' получены также моделью \"Случайный лес\".*** "
   ]
  },
  {
   "cell_type": "markdown",
   "metadata": {},
   "source": [
    "### Увеличение выборки (upsampling) ###"
   ]
  },
  {
   "cell_type": "markdown",
   "metadata": {},
   "source": [
    "Преобразование проходит в несколько этапов:\n",
    "- Разделить обучающую выборку на объекты по классам;\n",
    "- Определить тот класс, который содержит меньше объектов. Назовём его меньшим классом;\n",
    "- Скопировать несколько раз объекты меньшего класса;\n",
    "- С учётом полученных данных создать новую обучающую выборку;\n",
    "- Перемешать данные."
   ]
  },
  {
   "cell_type": "code",
   "execution_count": 37,
   "metadata": {},
   "outputs": [
    {
     "name": "stdout",
     "output_type": "stream",
     "text": [
      "(9681, 11)\n",
      "(9681,)\n"
     ]
    }
   ],
   "source": [
    "def upsample(features, target, repeat):\n",
    "    \n",
    "    features_zeros = features[target == 0]\n",
    "    features_ones = features[target == 1]\n",
    "    target_zeros = target[target == 0]\n",
    "    target_ones = target[target == 1]\n",
    "    \n",
    "    features_upsampled = pd.concat([features_zeros] + [features_ones] * repeat)\n",
    "    target_upsampled = pd.concat([target_zeros] + [target_ones] * repeat)\n",
    "    \n",
    "    features_upsampled = shuffle(features_upsampled, random_state=42)\n",
    "    target_upsampled = shuffle(target_upsampled, random_state=42)\n",
    "    \n",
    "    return features_upsampled, target_upsampled\n",
    "\n",
    "    \n",
    "    \n",
    "features_upsampled, target_upsampled = upsample(features_train, target_train, 4)\n",
    "\n",
    "print(features_upsampled.shape)\n",
    "print(target_upsampled.shape)"
   ]
  },
  {
   "cell_type": "code",
   "execution_count": 38,
   "metadata": {},
   "outputs": [
    {
     "data": {
      "text/plain": [
       "1    0.506972\n",
       "0    0.493028\n",
       "Name: exited, dtype: float64"
      ]
     },
     "execution_count": 38,
     "metadata": {},
     "output_type": "execute_result"
    }
   ],
   "source": [
    "# сравним доли классов при таком значении repeat.\n",
    "target_upsampled.value_counts(normalize = 1)"
   ]
  },
  {
   "cell_type": "code",
   "execution_count": 39,
   "metadata": {
    "scrolled": true
   },
   "outputs": [
    {
     "name": "stdout",
     "output_type": "stream",
     "text": [
      "F1_LR_up: 0.46786632390745503\n",
      "ROC_auc_LR_up: 0.7005685510071474\n"
     ]
    }
   ],
   "source": [
    "# Модель логистической регрессии\n",
    "model_LR_up= LogisticRegression(random_state=42, solver='liblinear')\n",
    "model_LR_up.fit(features_upsampled, target_upsampled)\n",
    "predicted_LR_up = model_LR_up.predict(features_valid)\n",
    "print(\"F1_LR_up:\", f1_score(target_valid, predicted_LR_up))\n",
    "print(\"ROC_auc_LR_up:\", roc_auc_score(target_valid, predicted_LR_up))\n",
    "# видим улучшение значений метрики, практически такое же\n",
    "# как с гиперпараметром class_weight"
   ]
  },
  {
   "cell_type": "code",
   "execution_count": 40,
   "metadata": {},
   "outputs": [
    {
     "name": "stdout",
     "output_type": "stream",
     "text": [
      "best max_depth = 7 ;  F1_best_DTC_up =  0.5338894681960376ROC_auc_DTC_up: 0.6642137751786874\n"
     ]
    }
   ],
   "source": [
    "# Рассчитаем модель 'Дерево решений'\n",
    "# Циклом ищем лучший гиперпораметр max_depth\n",
    "best_model_DTC_up = None\n",
    "best_depth_DTC_up = 0\n",
    "best_result_DTC_up = 0\n",
    "for depth in range(1, 20):\n",
    "    model_DTC_up = DecisionTreeClassifier(random_state=42, max_depth=depth) # присваиваем модели имя\n",
    "    model_DTC_up.fit(features_upsampled, target_upsampled) # обучаем модель\n",
    "    predictions_DTC_up = model_DTC_up.predict(features_valid) # проверяем\n",
    "    result_DTC_up =  f1_score(target_valid,predictions_DTC_up)# посчитайте качество модели\n",
    "    if result_DTC_up > best_result_DTC_up:\n",
    "        best_model_DTC_up = model_DTC_up\n",
    "        best_result_DTC_up = result_DTC_up\n",
    "        best_depth_DTC_up = depth\n",
    "print('best max_depth =',\n",
    "      best_depth_DTC_up, \n",
    "      '; ', \n",
    "      'F1_best_DTC_up = ', \n",
    "      best_result_DTC_up, \n",
    "      end =''\n",
    "     )\n",
    "print(\"ROC_auc_DTC_up:\", roc_auc_score(target_valid, predictions_DTC_up))\n",
    "# видим улучшение значений метрики, практически такое же\n",
    "# как с гиперпараметром class_weight"
   ]
  },
  {
   "cell_type": "code",
   "execution_count": 41,
   "metadata": {},
   "outputs": [
    {
     "name": "stdout",
     "output_type": "stream",
     "text": [
      "best n_estimators = 31 ;  best max_depth = 16 ;  F1_best_RFC_up =  0.5807228915662651ROC_auc_RFC_up: 0.7462475633528266\n"
     ]
    }
   ],
   "source": [
    "# Модель случайный лес\n",
    "best_model_RFC_up = None\n",
    "best_est_RFC_up= 0\n",
    "best_depth_RFC_up= 0\n",
    "best_result_RFC_up = 0\n",
    "for est in range(1, 100, 10):\n",
    "    for depth in range(1, 20):\n",
    "        model_RFC_up = RandomForestClassifier(random_state=42, \n",
    "                                              n_estimators=est, \n",
    "                                              max_depth = depth,\n",
    "                                              min_samples_leaf=5) # обучим модель с заданным количеством деревьев\n",
    "        model_RFC_up.fit(features_upsampled, target_upsampled) # обучим модель на тренировочной выборке\n",
    "        predictions_valid_RFC_up = model_RFC_up.predict(features_valid)\n",
    "        result_RFC_up = f1_score(target_valid,predictions_valid_RFC_up)# посчитаем качество модели на валидационной выборке\n",
    "        if best_result_RFC_up < result_RFC_up:\n",
    "            best_model_RFC_up = model_RFC_up\n",
    "            best_est_RFC_up = est\n",
    "            best_depth_RFC_up = depth\n",
    "            best_result_RFC_up = result_RFC_up\n",
    "print('best n_estimators =', \n",
    "      best_est_RFC_up, \n",
    "      '; ', \n",
    "      'best max_depth =', \n",
    "      best_depth_RFC, \n",
    "      '; ', \n",
    "      'F1_best_RFC_up = ', \n",
    "      best_result_RFC_up, \n",
    "      end =''\n",
    "     ) \n",
    "\n",
    "print(\"ROC_auc_RFC_up:\", roc_auc_score(target_valid, predictions_valid_RFC_up))"
   ]
  },
  {
   "cell_type": "markdown",
   "metadata": {},
   "source": [
    "**Таким образом лучший результат на текущих обучающих данных, при увеличении выборки, получены также моделью \"Случайный лес\".**"
   ]
  },
  {
   "cell_type": "markdown",
   "metadata": {},
   "source": [
    "### Уменьшение выборки (Downsampling) ###"
   ]
  },
  {
   "cell_type": "markdown",
   "metadata": {},
   "source": [
    "Вместо повторения объектов меньшего класса, уберём часть обектов\n",
    "большего класса. Это можно сделать техникой downsampling.\n",
    "Преобразование проходит в несколько этапов:\n",
    "- Разделить обучающую выборку на объекты по классам;\n",
    "- Определить тот класс, который содержит больше объектов. Назовём его большим классом;\n",
    "- Случайным образом отбросить часть из объектов большего класса;\n",
    "- С учётом полученных данных создать новую обучающую выборку;\n",
    "- Перемешать данные."
   ]
  },
  {
   "cell_type": "code",
   "execution_count": 42,
   "metadata": {},
   "outputs": [
    {
     "name": "stdout",
     "output_type": "stream",
     "text": [
      "(2468, 11)\n",
      "(2468,)\n"
     ]
    }
   ],
   "source": [
    "def downsample(features, target, fraction):\n",
    "    features_zeros = features[target == 0]\n",
    "    features_ones = features[target == 1]\n",
    "    target_zeros = target[target == 0]\n",
    "    target_ones = target[target == 1]\n",
    "\n",
    "    features_sample = features_zeros.sample(frac=0.26, random_state=42)\n",
    "    target_sample = target_zeros.sample(frac=0.26, random_state=42)\n",
    "    \n",
    "    features_downsampled = pd.concat([features_sample] + [features_ones])\n",
    "    target_downsampled = pd.concat([target_sample] + [target_ones])\n",
    "    \n",
    "    features_downsampled = shuffle(features_downsampled, random_state=42)\n",
    "    target_downsampled = shuffle(target_downsampled, random_state=42)\n",
    "    \n",
    "\n",
    "    \n",
    "    return features_downsampled, target_downsampled\n",
    "\n",
    "features_downsampled, target_downsampled = downsample(features_train, target_train,0.26)\n",
    "\n",
    "print(features_downsampled.shape)\n",
    "print(target_downsampled.shape)"
   ]
  },
  {
   "cell_type": "code",
   "execution_count": 43,
   "metadata": {},
   "outputs": [
    {
     "data": {
      "text/plain": [
       "0    0.502836\n",
       "1    0.497164\n",
       "Name: exited, dtype: float64"
      ]
     },
     "execution_count": 43,
     "metadata": {},
     "output_type": "execute_result"
    }
   ],
   "source": [
    "# сравним доли классов при таком значении fraction.\n",
    "target_downsampled.value_counts(normalize = 1)"
   ]
  },
  {
   "cell_type": "code",
   "execution_count": 44,
   "metadata": {},
   "outputs": [
    {
     "name": "stdout",
     "output_type": "stream",
     "text": [
      "F1: 0.4642233856893543\n",
      "ROC_auc_LR_down: 0.695679012345679\n"
     ]
    }
   ],
   "source": [
    "# Модель логистической регрессии\n",
    "model_LR_down = LogisticRegression(random_state=42, solver='liblinear')\n",
    "model_LR_down.fit(features_downsampled, target_downsampled)\n",
    "predicted_LR_down = model_LR_down.predict(features_valid)\n",
    "print(\"F1:\", f1_score(target_valid, predicted_LR_down))\n",
    "print(\"ROC_auc_LR_down:\", roc_auc_score(target_valid, predicted_LR_down))\n",
    "# получаем значение метрик меньше, чем при  увеличении выборки"
   ]
  },
  {
   "cell_type": "code",
   "execution_count": 45,
   "metadata": {},
   "outputs": [
    {
     "name": "stdout",
     "output_type": "stream",
     "text": [
      "best max_depth = 6 ;  F1_best_DTC_down =  0.5227963525835866ROC_auc_DTC_down: 0.6821312540610786\n"
     ]
    }
   ],
   "source": [
    "# Рассчитаем модель 'Дерево решений'\n",
    "# Циклом ищем лучший гиперпораметр max_depth\n",
    "best_model_DTC_down = None\n",
    "best_depth_DTC_down = 0\n",
    "best_result_DTC_down = 0\n",
    "for depth in range(1, 20):\n",
    "    model_DTC_down = DecisionTreeClassifier(random_state=42, max_depth=depth) # присваиваем модели имя\n",
    "    model_DTC_down.fit(features_downsampled, target_downsampled) # обучаем модель\n",
    "    predictions_DTC_down = model_DTC_down.predict(features_valid) # проверяем\n",
    "    result_DTC_down =  f1_score(target_valid,predictions_DTC_down)# посчитайте качество модели\n",
    "    if result_DTC_down > best_result_DTC_down:\n",
    "        best_model_DTC_down = model_DTC_down\n",
    "        best_result_DTC_down = result_DTC_down\n",
    "        best_depth_DTC_down = depth\n",
    "print('best max_depth =',\n",
    "      best_depth_DTC_down, \n",
    "      '; ', \n",
    "      'F1_best_DTC_down = ', \n",
    "      best_result_DTC_down,\n",
    "       end =''\n",
    "     )\n",
    "print(\"ROC_auc_DTC_down:\", roc_auc_score(target_valid, predictions_DTC_down))\n",
    "# получаем значение метрик меньше, чем при  увеличении выборки"
   ]
  },
  {
   "cell_type": "code",
   "execution_count": 46,
   "metadata": {},
   "outputs": [
    {
     "name": "stdout",
     "output_type": "stream",
     "text": [
      "best n_estimators = 61 ;  best max_depth = 16 ;  F1_best_RFC_down=  0.5603190428713859ROC_auc_RFC_down: 0.7587719298245614\n"
     ]
    }
   ],
   "source": [
    "# Модель случайный лес\n",
    "best_model_RFC_down = None\n",
    "best_est_RFC_down= 0\n",
    "best_depth_RFC_down= 0\n",
    "best_result_RFC_down = 0\n",
    "for est in range(1, 100, 10):\n",
    "    for depth in range(1, 20):\n",
    "        model_RFC_down = RandomForestClassifier(random_state=42, \n",
    "                                              n_estimators=est, \n",
    "                                              max_depth = depth,\n",
    "                                              min_samples_leaf=5) # обучим модель с заданным количеством деревьев\n",
    "        model_RFC_down.fit(features_downsampled, target_downsampled) # обучим модель на тренировочной выборке\n",
    "        predictions_valid_RFC_down = model_RFC_down.predict(features_valid)\n",
    "        result_RFC_down = f1_score(target_valid,predictions_valid_RFC_down)# посчитаем качество модели на валидационной выборке\n",
    "        if best_result_RFC_down < result_RFC_down:\n",
    "            best_model_RFC_down = model_RFC_down\n",
    "            best_est_RFC_down = est\n",
    "            best_depth_RFC_down = depth\n",
    "            best_result_RFC_down = result_RFC_down\n",
    "print('best n_estimators =', \n",
    "      best_est_RFC_down, \n",
    "      '; ', \n",
    "      'best max_depth =', \n",
    "      best_depth_RFC_down, \n",
    "      '; ', \n",
    "      'F1_best_RFC_down= ', \n",
    "      best_result_RFC_down, \n",
    "      end =''\n",
    "     ) \n",
    "\n",
    "print(\"ROC_auc_RFC_down:\", roc_auc_score(target_valid, predictions_valid_RFC_down))\n",
    "# получаем значение метрик меньше, чем при  увеличении выборки"
   ]
  },
  {
   "cell_type": "markdown",
   "metadata": {},
   "source": [
    "**Таким образом, модели показали хуже результат метрик, при уменьшении выборки, чем при увеличении (Upsampling). Лучшей моделью стала модель дерева решений.**"
   ]
  },
  {
   "cell_type": "markdown",
   "metadata": {},
   "source": [
    "### Порог классификации ###"
   ]
  },
  {
   "cell_type": "markdown",
   "metadata": {},
   "source": [
    "По умолчанию он равен 0,5 - давайте попробуем разные параметры, например, до 0,95"
   ]
  },
  {
   "cell_type": "code",
   "execution_count": 47,
   "metadata": {
    "scrolled": true
   },
   "outputs": [
    {
     "name": "stdout",
     "output_type": "stream",
     "text": [
      "Threshold = 0.00 | Precision = 0.190, Recall = 1.000 | F1-score = 0.319\n",
      "Threshold = 0.05 | Precision = 0.207, Recall = 0.979 | F1-score = 0.342\n",
      "Threshold = 0.10 | Precision = 0.247, Recall = 0.905 | F1-score = 0.388\n",
      "Threshold = 0.15 | Precision = 0.293, Recall = 0.808 | F1-score = 0.431\n",
      "Threshold = 0.20 | Precision = 0.336, Recall = 0.711 | F1-score = 0.456\n",
      "Threshold = 0.25 | Precision = 0.375, Recall = 0.584 | F1-score = 0.457\n",
      "Threshold = 0.30 | Precision = 0.432, Recall = 0.492 | F1-score = 0.460\n",
      "Threshold = 0.35 | Precision = 0.456, Recall = 0.400 | F1-score = 0.426\n",
      "Threshold = 0.40 | Precision = 0.504, Recall = 0.339 | F1-score = 0.406\n",
      "Threshold = 0.45 | Precision = 0.511, Recall = 0.255 | F1-score = 0.340\n",
      "Threshold = 0.50 | Precision = 0.554, Recall = 0.203 | F1-score = 0.297\n",
      "Threshold = 0.55 | Precision = 0.633, Recall = 0.163 | F1-score = 0.259\n",
      "Threshold = 0.60 | Precision = 0.650, Recall = 0.103 | F1-score = 0.177\n",
      "Threshold = 0.65 | Precision = 0.634, Recall = 0.068 | F1-score = 0.124\n",
      "Threshold = 0.70 | Precision = 0.625, Recall = 0.039 | F1-score = 0.074\n",
      "Threshold = 0.75 | Precision = 0.643, Recall = 0.024 | F1-score = 0.046\n",
      "Threshold = 0.80 | Precision = 0.800, Recall = 0.011 | F1-score = 0.021\n",
      "Threshold = 0.85 | Precision = 1.000, Recall = 0.005 | F1-score = 0.010\n",
      "Threshold = 0.90 | Precision = 0.000, Recall = 0.000 | F1-score = 0.000\n"
     ]
    },
    {
     "data": {
      "image/png": "[encoded data removed]",
      "text/plain": [
       "<Figure size 720x720 with 1 Axes>"
      ]
     },
     "metadata": {
      "needs_background": "light"
     },
     "output_type": "display_data"
    }
   ],
   "source": [
    "# Модель логистической регрессии\n",
    "model = LogisticRegression(random_state=42, solver='liblinear')\n",
    "model.fit(features_train, target_train)\n",
    "probabilities_valid = model.predict_proba(features_valid)\n",
    "probabilities_one_valid = probabilities_valid[:, 1]\n",
    "\n",
    "for threshold in np.arange(0, 0.95, 0.05):\n",
    "    predicted_valid = probabilities_one_valid > threshold\n",
    "    precision = precision_score(target_valid, predicted_valid)\n",
    "    recall = recall_score(target_valid, predicted_valid)\n",
    "    f1 = f1_score(target_valid, predicted_valid)\n",
    "    print(\"Threshold = {:.2f} | Precision = {:.3f}, Recall = {:.3f} | F1-score = {:.3f}\".format(threshold, precision, recall, f1))\n",
    "\n",
    "precision, recall, thresholds = roc_curve(target_valid, probabilities_valid[:, 1])    \n",
    "plt.figure(figsize=(10, 10))\n",
    "plt.step(recall, precision, where='post')\n",
    "plt.xlabel('Recall')\n",
    "plt.ylabel('Precision')\n",
    "plt.ylim([0.0, 1.05])\n",
    "plt.xlim([0.0, 1.0])\n",
    "plt.title('PR curve')\n",
    "plt.show() "
   ]
  },
  {
   "cell_type": "markdown",
   "metadata": {},
   "source": [
    "**Самое высокое значение F1-score = 0.459 наблюдается при пороге 0,30.**"
   ]
  },
  {
   "cell_type": "code",
   "execution_count": 48,
   "metadata": {},
   "outputs": [
    {
     "name": "stdout",
     "output_type": "stream",
     "text": [
      "Threshold = 0.00 | Precision = 0.188, Recall = 0.982 | F1-score = 0.316\n",
      "Threshold = 0.05 | Precision = 0.251, Recall = 0.929 | F1-score = 0.395\n",
      "Threshold = 0.10 | Precision = 0.365, Recall = 0.789 | F1-score = 0.499\n",
      "Threshold = 0.15 | Precision = 0.373, Recall = 0.784 | F1-score = 0.506\n",
      "Threshold = 0.20 | Precision = 0.380, Recall = 0.758 | F1-score = 0.507\n",
      "Threshold = 0.25 | Precision = 0.584, Recall = 0.524 | F1-score = 0.552\n",
      "Threshold = 0.30 | Precision = 0.584, Recall = 0.524 | F1-score = 0.552\n",
      "Threshold = 0.35 | Precision = 0.585, Recall = 0.524 | F1-score = 0.553\n",
      "Threshold = 0.40 | Precision = 0.637, Recall = 0.466 | F1-score = 0.538\n",
      "Threshold = 0.45 | Precision = 0.692, Recall = 0.426 | F1-score = 0.528\n",
      "Threshold = 0.50 | Precision = 0.692, Recall = 0.426 | F1-score = 0.528\n",
      "Threshold = 0.55 | Precision = 0.692, Recall = 0.426 | F1-score = 0.528\n",
      "Threshold = 0.60 | Precision = 0.810, Recall = 0.337 | F1-score = 0.476\n",
      "Threshold = 0.65 | Precision = 0.836, Recall = 0.334 | F1-score = 0.477\n",
      "Threshold = 0.70 | Precision = 0.832, Recall = 0.326 | F1-score = 0.469\n",
      "Threshold = 0.75 | Precision = 0.849, Recall = 0.326 | F1-score = 0.471\n",
      "Threshold = 0.80 | Precision = 0.884, Recall = 0.282 | F1-score = 0.427\n",
      "Threshold = 0.85 | Precision = 0.878, Recall = 0.226 | F1-score = 0.360\n",
      "Threshold = 0.90 | Precision = 0.881, Recall = 0.097 | F1-score = 0.175\n"
     ]
    },
    {
     "data": {
      "image/png": "[encoded data removed]",
      "text/plain": [
       "<Figure size 720x720 with 1 Axes>"
      ]
     },
     "metadata": {
      "needs_background": "light"
     },
     "output_type": "display_data"
    }
   ],
   "source": [
    "# Рассчитаем модель 'Дерево решений' \n",
    "# Рассчитаем модель 'Дерево решений' \n",
    "model = DecisionTreeClassifier(random_state=42, max_depth = 6) # присваиваем модели имя\n",
    "model.fit(features_train, target_train) # обучаем модель\n",
    "probabilities_valid = model.predict_proba(features_valid)\n",
    "probabilities_one_valid = probabilities_valid[:, 1]\n",
    "\n",
    "for threshold in np.arange(0, 0.95, 0.05):  \n",
    "    predicted_valid = probabilities_one_valid > threshold\n",
    "    precision = precision_score(target_valid, predicted_valid)\n",
    "    recall = recall_score(target_valid, predicted_valid)\n",
    "    f1 = f1_score(target_valid, predicted_valid)\n",
    "    print(\"Threshold = {:.2f} | Precision = {:.3f}, Recall = {:.3f} | F1-score = {:.3f}\".format(threshold, precision, recall, f1))\n",
    "\n",
    "precision, recall, thresholds = roc_curve(target_valid, probabilities_valid[:, 1])    \n",
    "plt.figure(figsize=(10, 10))\n",
    "plt.step(recall, precision, where='post')\n",
    "plt.xlabel('Recall')\n",
    "plt.ylabel('Precision')\n",
    "plt.ylim([0.0, 1.05])\n",
    "plt.xlim([0.0, 1.0])\n",
    "plt.title('PR curve')\n",
    "plt.show() "
   ]
  },
  {
   "cell_type": "markdown",
   "metadata": {},
   "source": [
    "**Самое высокое значение F1-score = 0.553 наблюдается при пороге 0,35, при глубине дерева 6.**"
   ]
  },
  {
   "cell_type": "code",
   "execution_count": 49,
   "metadata": {},
   "outputs": [
    {
     "name": "stdout",
     "output_type": "stream",
     "text": [
      "Threshold = 0.00 | Precision = 0.190, Recall = 1.000 | F1-score = 0.319\n",
      "Threshold = 0.05 | Precision = 0.221, Recall = 0.976 | F1-score = 0.360\n",
      "Threshold = 0.10 | Precision = 0.286, Recall = 0.924 | F1-score = 0.437\n",
      "Threshold = 0.15 | Precision = 0.358, Recall = 0.829 | F1-score = 0.500\n",
      "Threshold = 0.20 | Precision = 0.430, Recall = 0.747 | F1-score = 0.546\n",
      "Threshold = 0.25 | Precision = 0.512, Recall = 0.689 | F1-score = 0.587\n",
      "Threshold = 0.30 | Precision = 0.577, Recall = 0.600 | F1-score = 0.588\n",
      "Threshold = 0.35 | Precision = 0.646, Recall = 0.547 | F1-score = 0.593\n",
      "Threshold = 0.40 | Precision = 0.700, Recall = 0.492 | F1-score = 0.578\n",
      "Threshold = 0.45 | Precision = 0.741, Recall = 0.453 | F1-score = 0.562\n",
      "Threshold = 0.50 | Precision = 0.796, Recall = 0.411 | F1-score = 0.542\n",
      "Threshold = 0.55 | Precision = 0.863, Recall = 0.347 | F1-score = 0.495\n",
      "Threshold = 0.60 | Precision = 0.887, Recall = 0.289 | F1-score = 0.437\n",
      "Threshold = 0.65 | Precision = 0.922, Recall = 0.247 | F1-score = 0.390\n",
      "Threshold = 0.70 | Precision = 0.909, Recall = 0.184 | F1-score = 0.306\n",
      "Threshold = 0.75 | Precision = 0.942, Recall = 0.129 | F1-score = 0.227\n",
      "Threshold = 0.80 | Precision = 1.000, Recall = 0.068 | F1-score = 0.128\n",
      "Threshold = 0.85 | Precision = 1.000, Recall = 0.029 | F1-score = 0.056\n",
      "Threshold = 0.90 | Precision = 1.000, Recall = 0.013 | F1-score = 0.026\n"
     ]
    },
    {
     "data": {
      "image/png": "[encoded data removed]",
      "text/plain": [
       "<Figure size 720x720 with 1 Axes>"
      ]
     },
     "metadata": {
      "needs_background": "light"
     },
     "output_type": "display_data"
    }
   ],
   "source": [
    "# Модель случайный лес\n",
    "model = RandomForestClassifier(random_state=42, n_estimators=41, max_depth = 9, min_samples_leaf=5)\n",
    "model.fit(features_train, target_train)\n",
    "probabilities_valid = model.predict_proba(features_valid)\n",
    "probabilities_one_valid = probabilities_valid[:, 1]\n",
    "\n",
    "for threshold in np.arange(0, 0.95, 0.05):\n",
    "    predicted_valid = probabilities_one_valid > threshold\n",
    "    precision = precision_score(target_valid, predicted_valid)\n",
    "    recall = recall_score(target_valid, predicted_valid)\n",
    "    f1 = f1_score(target_valid, predicted_valid)\n",
    "    print(\"Threshold = {:.2f} | Precision = {:.3f}, Recall = {:.3f} | F1-score = {:.3f}\".format(\n",
    "        threshold, precision, recall, f1))\n",
    "\n",
    "precision, recall, thresholds = roc_curve(target_valid, probabilities_valid[:, 1])    \n",
    "plt.figure(figsize=(10, 10))\n",
    "plt.step(recall, precision, where='post')\n",
    "plt.xlabel('Recall')\n",
    "plt.ylabel('Precision')\n",
    "plt.ylim([0.0, 1.05])\n",
    "plt.xlim([0.0, 1.0])\n",
    "plt.title('PR curve')\n",
    "plt.show() "
   ]
  },
  {
   "cell_type": "markdown",
   "metadata": {},
   "source": [
    "**Самое высокое значение F1-score = 0.593 наблюдается при пороге 0,30.**"
   ]
  },
  {
   "cell_type": "markdown",
   "metadata": {},
   "source": [
    "### GridSearchCV ###"
   ]
  },
  {
   "cell_type": "code",
   "execution_count": 50,
   "metadata": {},
   "outputs": [
    {
     "data": {
      "text/plain": [
       "GridSearchCV(cv=5,\n",
       "             estimator=LogisticRegression(random_state=42, solver='liblinear'),\n",
       "             param_grid={'C': [0.5, 1, 1.5], 'class_weight': [None, 'balanced'],\n",
       "                         'intercept_scaling': [0.5, 1.0, 1.5]},\n",
       "             scoring='f1')"
      ]
     },
     "execution_count": 50,
     "metadata": {},
     "output_type": "execute_result"
    }
   ],
   "source": [
    "# Попробуем подобрать параметры для разных моделей\n",
    "# Логистическая регрессия\n",
    "par_grid_logist = {\n",
    "                   'intercept_scaling': [0.5, 1.0, 1.5],\n",
    "                   'class_weight': [None, 'balanced'],\n",
    "                   'C': [0.5, 1, 1.5]\n",
    "                   }\n",
    "model = LogisticRegression(solver='liblinear',random_state=42)\n",
    "\n",
    "grid_search = GridSearchCV(model, par_grid_logist, cv=5,\n",
    "                           scoring='f1')\n",
    "grid_search.fit(features_upsampled, target_upsampled)"
   ]
  },
  {
   "cell_type": "code",
   "execution_count": 51,
   "metadata": {},
   "outputs": [
    {
     "data": {
      "text/plain": [
       "{'C': 0.5, 'class_weight': None, 'intercept_scaling': 1.0}"
      ]
     },
     "execution_count": 51,
     "metadata": {},
     "output_type": "execute_result"
    }
   ],
   "source": [
    "grid_search.best_params_"
   ]
  },
  {
   "cell_type": "code",
   "execution_count": 52,
   "metadata": {
    "scrolled": true
   },
   "outputs": [
    {
     "name": "stdout",
     "output_type": "stream",
     "text": [
      "F1: 0.46786632390745503\n"
     ]
    }
   ],
   "source": [
    "# применем параметры и посмотрим на результат\n",
    "model_lreg = LogisticRegression(C=1.5, class_weight=None, intercept_scaling=0.5,\n",
    "                                solver='liblinear', random_state=42\n",
    ")\n",
    "model_lreg.fit(features_upsampled, target_upsampled)\n",
    "predicted_valid = model_lreg.predict(features_valid)\n",
    "print(\"F1:\", f1_score(target_valid, predicted_valid))"
   ]
  },
  {
   "cell_type": "markdown",
   "metadata": {},
   "source": [
    "**Ниже порога 0.59 давайте посмотрим, как модель будет вести себя во время тестирования.**"
   ]
  },
  {
   "cell_type": "code",
   "execution_count": 53,
   "metadata": {},
   "outputs": [
    {
     "data": {
      "image/png": "[encoded data removed]",
      "text/plain": [
       "<Figure size 720x720 with 1 Axes>"
      ]
     },
     "metadata": {
      "needs_background": "light"
     },
     "output_type": "display_data"
    },
    {
     "name": "stdout",
     "output_type": "stream",
     "text": [
      "AUC: 0.7540220922677064\n"
     ]
    }
   ],
   "source": [
    "probabilities_valid = model_lreg.predict_proba(features_valid)\n",
    "probabilities_one_valid = probabilities_valid[:, 1]\n",
    "\n",
    "fpr, tpr, thresholds = roc_curve(target_valid, probabilities_one_valid) \n",
    "\n",
    "plt.figure(figsize=(10, 10))\n",
    "plt.plot(fpr, tpr, linestyle='-')\n",
    "plt.plot([0, 1], [0, 1], linestyle='--')\n",
    "plt.xlim([0.0, 1.0])\n",
    "plt.ylim([0.0, 1.0])\n",
    "plt.xlabel('False Positive Rate')\n",
    "plt.ylabel('True Positive Rate')\n",
    "plt.title('ROC-curve')\n",
    "\n",
    "plt.show()\n",
    "\n",
    "auc_roc = roc_auc_score (target_valid, probabilities_one_valid)\n",
    "\n",
    "print(\"AUC:\", auc_roc)"
   ]
  },
  {
   "cell_type": "markdown",
   "metadata": {},
   "source": [
    "**AUC больше 0,5, наша модель лучше, чем случайная и показывает лучшее значение метрики**"
   ]
  },
  {
   "cell_type": "code",
   "execution_count": 54,
   "metadata": {},
   "outputs": [
    {
     "data": {
      "text/plain": [
       "GridSearchCV(cv=5, estimator=DecisionTreeClassifier(random_state=42),\n",
       "             param_grid={'criterion': ['gini', 'entropy'],\n",
       "                         'max_depth': array([ 1,  2,  3,  4,  5,  6,  7,  8,  9, 10, 11, 12, 13, 14, 15, 16, 17,\n",
       "       18, 19])},\n",
       "             scoring='f1')"
      ]
     },
     "execution_count": 54,
     "metadata": {},
     "output_type": "execute_result"
    }
   ],
   "source": [
    "# Модель дерево решений\n",
    "par_grid_DT = {\n",
    "                     'criterion': ['gini', 'entropy'],\n",
    "                     'max_depth': np.arange(1, 20)\n",
    "              }\n",
    "model_grid_DT = DecisionTreeClassifier(random_state=42)\n",
    "\n",
    "grid_search = GridSearchCV(model_grid_DT, par_grid_DT, cv=5,\n",
    "                           scoring='f1'\n",
    "                          )\n",
    "grid_search.fit(features_upsampled, target_upsampled)"
   ]
  },
  {
   "cell_type": "code",
   "execution_count": 55,
   "metadata": {},
   "outputs": [
    {
     "data": {
      "text/plain": [
       "{'criterion': 'gini', 'max_depth': 19}"
      ]
     },
     "execution_count": 55,
     "metadata": {},
     "output_type": "execute_result"
    }
   ],
   "source": [
    "grid_search.best_params_"
   ]
  },
  {
   "cell_type": "code",
   "execution_count": 56,
   "metadata": {},
   "outputs": [
    {
     "name": "stdout",
     "output_type": "stream",
     "text": [
      "F1: 0.45513654096228867\n"
     ]
    }
   ],
   "source": [
    "model_DTC = DecisionTreeClassifier(max_depth=19, random_state=42,\n",
    "                                   criterion='gini')\n",
    "model_DTC.fit(features_upsampled, target_upsampled)\n",
    "predicted_valid = model_DTC.predict(features_valid)\n",
    "print(\"F1:\", f1_score(target_valid, predicted_valid))"
   ]
  },
  {
   "cell_type": "markdown",
   "metadata": {},
   "source": [
    "**Ниже порога 0.59 давайте посмотрим, как модель будет вести себя во время тестирования.**"
   ]
  },
  {
   "cell_type": "code",
   "execution_count": 57,
   "metadata": {},
   "outputs": [
    {
     "data": {
      "image/png": "[encoded data removed]",
      "text/plain": [
       "<Figure size 720x720 with 1 Axes>"
      ]
     },
     "metadata": {
      "needs_background": "light"
     },
     "output_type": "display_data"
    },
    {
     "name": "stdout",
     "output_type": "stream",
     "text": [
      "AUC: 0.6663897011046134\n"
     ]
    }
   ],
   "source": [
    "probabilities_valid = model_DTC.predict_proba(features_valid)\n",
    "probabilities_one_valid = probabilities_valid[:, 1]\n",
    "\n",
    "fpr, tpr, thresholds = roc_curve(target_valid, probabilities_one_valid) \n",
    "\n",
    "plt.figure(figsize=(10, 10))\n",
    "plt.plot(fpr, tpr, linestyle='-')\n",
    "plt.plot([0, 1], [0, 1], linestyle='--')\n",
    "plt.xlim([0.0, 1.0])\n",
    "plt.ylim([0.0, 1.0])\n",
    "plt.xlabel('False Positive Rate')\n",
    "plt.ylabel('True Positive Rate')\n",
    "plt.title('ROC-curve')\n",
    "plt.show()\n",
    "\n",
    "auc_roc = roc_auc_score (target_valid, probabilities_one_valid)\n",
    "\n",
    "print(\"AUC:\", auc_roc)"
   ]
  },
  {
   "cell_type": "markdown",
   "metadata": {},
   "source": [
    "**AUC больше 0,5, наша модель лучше, чем случайная, хуже,чем логистическая регрессия.**"
   ]
  },
  {
   "cell_type": "code",
   "execution_count": 58,
   "metadata": {},
   "outputs": [
    {
     "data": {
      "text/plain": [
       "GridSearchCV(cv=5, estimator=RandomForestClassifier(random_state=42),\n",
       "             param_grid={'criterion': ['gini', 'entropy'],\n",
       "                         'min_samples_split': range(5, 15),\n",
       "                         'n_estimators': [3, 10, 30]},\n",
       "             scoring='f1')"
      ]
     },
     "execution_count": 58,
     "metadata": {},
     "output_type": "execute_result"
    }
   ],
   "source": [
    "# Модель случайный лес\n",
    "par_grid_ensemble = {'n_estimators': [3, 10, 30],\n",
    "                     'criterion': ['gini', 'entropy'],\n",
    "                     'min_samples_split': range(5, 15)\n",
    "                    }\n",
    "model = RandomForestClassifier(random_state=42)\n",
    "\n",
    "grid_search = GridSearchCV(model, par_grid_ensemble, cv=5,\n",
    "                           scoring='f1'\n",
    "                          )\n",
    "grid_search.fit(features_upsampled, target_upsampled)"
   ]
  },
  {
   "cell_type": "code",
   "execution_count": 59,
   "metadata": {},
   "outputs": [
    {
     "data": {
      "text/plain": [
       "{'criterion': 'entropy', 'min_samples_split': 5, 'n_estimators': 30}"
      ]
     },
     "execution_count": 59,
     "metadata": {},
     "output_type": "execute_result"
    }
   ],
   "source": [
    "grid_search.best_params_"
   ]
  },
  {
   "cell_type": "code",
   "execution_count": 60,
   "metadata": {},
   "outputs": [
    {
     "name": "stdout",
     "output_type": "stream",
     "text": [
      "F1: 0.5737931034482758\n"
     ]
    }
   ],
   "source": [
    "model_rfc = RandomForestClassifier(random_state=42, criterion='gini', \n",
    "                               min_samples_split=5, n_estimators=30\n",
    "                              )\n",
    "model_rfc.fit(features_upsampled, target_upsampled)\n",
    "predicted_valid = model_rfc.predict(features_valid)\n",
    "print(\"F1:\", f1_score(target_valid, predicted_valid))"
   ]
  },
  {
   "cell_type": "markdown",
   "metadata": {},
   "source": [
    "**Ниже порога 0.59 давайте посмотрим, как модель будет вести себя во время тестирования.**"
   ]
  },
  {
   "cell_type": "code",
   "execution_count": 61,
   "metadata": {},
   "outputs": [
    {
     "data": {
      "image/png": "[encoded data removed]",
      "text/plain": [
       "<Figure size 720x720 with 1 Axes>"
      ]
     },
     "metadata": {
      "needs_background": "light"
     },
     "output_type": "display_data"
    },
    {
     "name": "stdout",
     "output_type": "stream",
     "text": [
      "AUC: 0.8210964912280702\n"
     ]
    }
   ],
   "source": [
    "probabilities_valid = model_rfc.predict_proba(features_valid)\n",
    "probabilities_one_valid = probabilities_valid[:, 1]\n",
    "\n",
    "fpr, tpr, thresholds = roc_curve(target_valid, probabilities_one_valid) \n",
    "\n",
    "plt.figure(figsize=(10, 10))\n",
    "plt.plot(fpr, tpr, linestyle='-')\n",
    "plt.plot([0, 1], [0, 1], linestyle='--')\n",
    "plt.xlim([0.0, 1.0])\n",
    "plt.ylim([0.0, 1.0])\n",
    "plt.xlabel('False Positive Rate')\n",
    "plt.ylabel('True Positive Rate')\n",
    "plt.title('ROC-curve')\n",
    "plt.show()\n",
    "\n",
    "auc_roc = roc_auc_score (target_valid, probabilities_one_valid)\n",
    "\n",
    "print(\"AUC:\", auc_roc)"
   ]
  },
  {
   "cell_type": "markdown",
   "metadata": {},
   "source": [
    "**AUC больше 0,5, наша модель лучше, чем случайная, лучше,чем логистическая регрессия.**\n",
    "**Таким образом, наилучшая модель Случайный лес (F1: 0.57, AUC: 0.82). Протестируем модель, применяя подбор гиперпараметров GridSearchCV.**"
   ]
  },
  {
   "cell_type": "markdown",
   "metadata": {},
   "source": [
    "## Тестирование модели"
   ]
  },
  {
   "cell_type": "markdown",
   "metadata": {},
   "source": [
    "### Тестирование модели Случайный лес ###"
   ]
  },
  {
   "cell_type": "code",
   "execution_count": 62,
   "metadata": {},
   "outputs": [
    {
     "name": "stdout",
     "output_type": "stream",
     "text": [
      "F1-мера\n",
      "Test set: 0.6070528967254408\n",
      "ROC_auc\n",
      "Test set: 0.7410605836172418\n"
     ]
    }
   ],
   "source": [
    "predictions_test = model_rfc.predict(features_test)\n",
    "test_f1 = f1_score(target_test, predictions_test)\n",
    "roc_auc_test = roc_auc_score(target_test, predictions_test)\n",
    "\n",
    "print(\"F1-мера\")\n",
    "print(\"Test set:\", test_f1)\n",
    "print(\"ROC_auc\")\n",
    "print(\"Test set:\", roc_auc_test)"
   ]
  },
  {
   "cell_type": "markdown",
   "metadata": {},
   "source": [
    "**Итак, результат был получен на Случайном лесу, порог оценки F1 больше 0,59 балла:**\n",
    "- F1-мера Test set: 0.61, \n",
    "- ROC_auc Test set: 0.74 "
   ]
  },
  {
   "cell_type": "markdown",
   "metadata": {},
   "source": [
    "## Общий вывод ##"
   ]
  },
  {
   "cell_type": "markdown",
   "metadata": {},
   "source": [
    "**Итак, изучив полученные данные,обработали их и подготовили к исследованию. Произвели преобразование категориальных признаков. Изучили целевой признак,\n",
    "удалили ненужные столбцы. Масштабировали количественные переменные. Изучили корреляцию, заметили, что наибольшая корреляция наблюдается у целевого признака с возрастом, балансом на счёте и активностью клиента. Наблюдается дисбаланс классов. Разделили выборку на три части: тренировочную, валидационную (для подбора гиперпараметров) и тестовую (на которой будем тестировать модель). Обучили модель без учёта дисбаланса. Получили результаты:**\n",
    "\n",
    "*- Логистическая регрессия (Logistic Regression)*\n",
    "- F1_LR: 0.29\n",
    "- ROC_auc_LR: 0.58\n",
    "\n",
    "*- Модель 'Дерево решений' (Decision Tree Classifier) Лучшее значение max_depth:6, при котором:* \n",
    "- F1_best_DTC = 0.52\n",
    "- ROC_auc_DTC: 0.67\n",
    "\n",
    "*- Модель \"Случайный лес\" (RandomForestClassifier)Лучшее значение best n_estimators = 71 ; best max_depth = 16 при которых:*\n",
    "- F1_best_RFC = 0.56\n",
    "- ROC_auc_RFC: 0.70\n",
    "\n",
    "**Борьба с дисбалансом**\n",
    "\n",
    "При применении гиперпараметра class_weight = 'balanced' для борьбы с дисбалансом классов модели показали:\n",
    "\n",
    " *- Модель логистической регрессии показала результат, который значительно лучше, чем без данного гиперпараметра.*\n",
    "- f1 0.46\n",
    "- roc_auc 0.69\n",
    "\n",
    "*- Модель 'Дерево решений' (Decision Tree Classifier) при лучшем значение max_depth:7*\n",
    "- F1: 0.53\n",
    "- ROC_auc: 0.66. \n",
    "\n",
    "*- Модель случайного леса лучшее значение best n_estimators = 31 ; best max_depth = 16 показала результат:*\n",
    "- f1 0,58\n",
    "- roc_auc 0,74. \n",
    "\n",
    "**Таким образом лучший результат на текущих обучающих данных с применением гиперпараметра class_weight = 'balanced' получены также моделью \"Случайный лес\".**\n",
    "\n",
    "**Увеличение выборки (upsampling)**\n",
    "\n",
    "*- Модель логистической регрессии*\n",
    "- F1_LR_up: 0.46\n",
    "- ROC_auc_LR_up: 0.70\n",
    "\n",
    "*- Модель 'Дерево решений'*\n",
    "- F1_DT_up: 0.53\n",
    "- ROC_auc_DT_up: 0.66\n",
    "\n",
    "*- Модель случайный лес*\n",
    "- F1: 0.58\n",
    "- ROC_auc_RF_up: 0.74\n",
    "\n",
    "**Таким образом лучший результат на текущих обучающих данных, при увеличении выборки, получены также моделью \"Случайный лес\". Результат с увеличением выборки почти такой же, как и при применении гиперпараметра class_weight = 'balanced'.**\n",
    "\n",
    "**Уменьшение выборки (Downsampling)**\n",
    "\n",
    "*- Модель логистической регрессии*\n",
    "- F1: 0.46\n",
    "- ROC_auc_LR_down: 0.69\n",
    "\n",
    "*- Модель 'Дерево решений'*\n",
    "- F1_DT_down: 0.52\n",
    "- ROC_auc_DT_down: 0.68\n",
    "\n",
    "*- Модель случайный лес*\n",
    "- F1_RF_down: 0.56\n",
    "- ROC_auc_RF_down: 0.75\n",
    "\n",
    "**Таким образом, модели показали почти такой же результат метрик, при уменьшении выборки, как и при увеличении (Upsampling).**\n",
    "\n",
    "**Порог классификации**\n",
    "\n",
    "*- Модель логистической регрессии*\n",
    " - Самое высокое значение F1-score = 0.46 наблюдается при пороге 0,30.\n",
    "\n",
    "*- Модель 'Дерево решений'*\n",
    "- Самое высокое значение F1-score = 0.55 наблюдается при пороге 0,35.\n",
    "\n",
    "*- Модель случайный лес*\n",
    "- Самое высокое значение F1-score = 0.59 наблюдается при пороге 0,30.\n",
    "\n",
    "**Изменение порога классификации показал лучший результат, по сравнению с остальными способами борьбы с дисбалансом.**\n",
    "\n",
    "**GridSearchCV**\n",
    "\n",
    "*-Логистическая регрессия*\n",
    "- F1: 0.46\n",
    "- AUC_Roc: 0.75\n",
    "\n",
    "*- Модель дерево решений*\n",
    "- F1: 0.45\n",
    "-  AUC_roc: 0.66\n",
    "\n",
    "*- Модель случайный лес*\n",
    "- F1: 0.57\n",
    "- AUC: 0.82\n",
    "\n",
    "**Таким образом, лучший результат метрик модель Случайный лес показала при подборе параметров, методом GridSearchCV. Порог оценки F1 больше 0,59 балла:**\n",
    "- F1-мера Test set: 0.61\n",
    "- ROC_auc Test set: 0.74"
   ]
  }
 ],
 "metadata": {
  "ExecuteTimeLog": [
   {
    "duration": 1502,
    "start_time": "2022-08-01T19:16:58.232Z"
   },
   {
    "duration": 72,
    "start_time": "2022-08-01T19:18:03.723Z"
   },
   {
    "duration": 54,
    "start_time": "2022-08-01T19:18:14.794Z"
   },
   {
    "duration": 15,
    "start_time": "2022-08-01T19:20:28.424Z"
   },
   {
    "duration": 51,
    "start_time": "2022-08-01T19:22:56.920Z"
   },
   {
    "duration": 49,
    "start_time": "2022-08-01T19:28:17.191Z"
   },
   {
    "duration": 13,
    "start_time": "2022-08-01T19:28:25.244Z"
   },
   {
    "duration": 1267,
    "start_time": "2022-08-01T19:28:31.703Z"
   },
   {
    "duration": 56,
    "start_time": "2022-08-01T19:28:32.974Z"
   },
   {
    "duration": 12,
    "start_time": "2022-08-01T19:28:33.031Z"
   },
   {
    "duration": 5,
    "start_time": "2022-08-01T19:41:20.494Z"
   },
   {
    "duration": 4,
    "start_time": "2022-08-01T19:42:56.224Z"
   },
   {
    "duration": 50,
    "start_time": "2022-08-01T19:42:57.466Z"
   },
   {
    "duration": 12,
    "start_time": "2022-08-01T19:43:00.880Z"
   },
   {
    "duration": 6,
    "start_time": "2022-08-01T19:43:03.238Z"
   },
   {
    "duration": 5,
    "start_time": "2022-08-01T19:44:57.448Z"
   },
   {
    "duration": 99,
    "start_time": "2022-08-01T19:49:15.949Z"
   },
   {
    "duration": 1354,
    "start_time": "2022-08-01T19:49:51.652Z"
   },
   {
    "duration": 60,
    "start_time": "2022-08-01T19:49:53.008Z"
   },
   {
    "duration": 12,
    "start_time": "2022-08-01T19:49:53.071Z"
   },
   {
    "duration": 4,
    "start_time": "2022-08-01T19:49:53.377Z"
   },
   {
    "duration": 5,
    "start_time": "2022-08-01T19:49:53.412Z"
   },
   {
    "duration": 284,
    "start_time": "2022-08-01T19:49:53.484Z"
   },
   {
    "duration": 5,
    "start_time": "2022-08-01T19:54:41.953Z"
   },
   {
    "duration": 212,
    "start_time": "2022-08-01T19:55:46.334Z"
   },
   {
    "duration": 1273,
    "start_time": "2022-08-01T19:55:57.651Z"
   },
   {
    "duration": 58,
    "start_time": "2022-08-01T19:55:58.926Z"
   },
   {
    "duration": 13,
    "start_time": "2022-08-01T19:55:58.985Z"
   },
   {
    "duration": 4,
    "start_time": "2022-08-01T19:55:59.000Z"
   },
   {
    "duration": 9,
    "start_time": "2022-08-01T19:55:59.005Z"
   },
   {
    "duration": 11,
    "start_time": "2022-08-01T19:57:04.977Z"
   },
   {
    "duration": 1307,
    "start_time": "2022-08-01T19:57:17.351Z"
   },
   {
    "duration": 60,
    "start_time": "2022-08-01T19:57:18.660Z"
   },
   {
    "duration": 13,
    "start_time": "2022-08-01T19:57:19.933Z"
   },
   {
    "duration": 4,
    "start_time": "2022-08-01T19:57:19.948Z"
   },
   {
    "duration": 10,
    "start_time": "2022-08-01T19:57:19.954Z"
   },
   {
    "duration": 975,
    "start_time": "2022-08-01T20:01:16.783Z"
   },
   {
    "duration": 4,
    "start_time": "2022-08-01T20:01:49.536Z"
   },
   {
    "duration": 13,
    "start_time": "2022-08-01T20:02:30.180Z"
   },
   {
    "duration": 13,
    "start_time": "2022-08-01T20:13:37.444Z"
   },
   {
    "duration": 6,
    "start_time": "2022-08-01T20:13:41.518Z"
   },
   {
    "duration": 12,
    "start_time": "2022-08-01T20:13:54.809Z"
   },
   {
    "duration": 1203,
    "start_time": "2022-08-01T20:14:12.711Z"
   },
   {
    "duration": 53,
    "start_time": "2022-08-01T20:14:13.916Z"
   },
   {
    "duration": 11,
    "start_time": "2022-08-01T20:14:13.971Z"
   },
   {
    "duration": 5,
    "start_time": "2022-08-01T20:14:13.984Z"
   },
   {
    "duration": 16,
    "start_time": "2022-08-01T20:14:13.990Z"
   },
   {
    "duration": 107,
    "start_time": "2022-08-01T20:14:14.008Z"
   },
   {
    "duration": 14,
    "start_time": "2022-08-01T20:16:03.720Z"
   },
   {
    "duration": 17,
    "start_time": "2022-08-01T20:18:21.143Z"
   },
   {
    "duration": 38,
    "start_time": "2022-08-01T20:42:49.214Z"
   },
   {
    "duration": 8,
    "start_time": "2022-08-01T20:48:36.399Z"
   },
   {
    "duration": 4,
    "start_time": "2022-08-01T20:49:55.326Z"
   },
   {
    "duration": 1185,
    "start_time": "2022-08-01T20:57:57.522Z"
   },
   {
    "duration": 56,
    "start_time": "2022-08-01T20:57:58.709Z"
   },
   {
    "duration": 12,
    "start_time": "2022-08-01T20:57:58.766Z"
   },
   {
    "duration": 15,
    "start_time": "2022-08-01T20:57:58.780Z"
   },
   {
    "duration": 21,
    "start_time": "2022-08-01T20:57:58.796Z"
   },
   {
    "duration": 28,
    "start_time": "2022-08-01T20:57:58.818Z"
   },
   {
    "duration": 43,
    "start_time": "2022-08-01T20:57:58.848Z"
   },
   {
    "duration": 6,
    "start_time": "2022-08-01T20:57:58.892Z"
   },
   {
    "duration": 20,
    "start_time": "2022-08-01T20:57:58.899Z"
   },
   {
    "duration": 24,
    "start_time": "2022-08-01T20:59:12.661Z"
   },
   {
    "duration": 24,
    "start_time": "2022-08-01T21:00:39.621Z"
   },
   {
    "duration": 91,
    "start_time": "2022-08-01T21:03:15.275Z"
   },
   {
    "duration": 1189,
    "start_time": "2022-08-01T21:03:34.822Z"
   },
   {
    "duration": 58,
    "start_time": "2022-08-01T21:03:36.013Z"
   },
   {
    "duration": 10,
    "start_time": "2022-08-01T21:03:36.072Z"
   },
   {
    "duration": 22,
    "start_time": "2022-08-01T21:03:36.084Z"
   },
   {
    "duration": 21,
    "start_time": "2022-08-01T21:03:36.107Z"
   },
   {
    "duration": 33,
    "start_time": "2022-08-01T21:03:36.130Z"
   },
   {
    "duration": 41,
    "start_time": "2022-08-01T21:03:36.164Z"
   },
   {
    "duration": 5,
    "start_time": "2022-08-01T21:03:36.207Z"
   },
   {
    "duration": 4,
    "start_time": "2022-08-01T21:03:36.246Z"
   },
   {
    "duration": 51,
    "start_time": "2022-08-01T21:03:36.251Z"
   },
   {
    "duration": 84,
    "start_time": "2022-08-01T21:04:42.304Z"
   },
   {
    "duration": 92,
    "start_time": "2022-08-01T21:05:01.997Z"
   },
   {
    "duration": 78,
    "start_time": "2022-08-01T21:05:09.522Z"
   },
   {
    "duration": 48,
    "start_time": "2022-08-01T21:05:19.173Z"
   },
   {
    "duration": 1004,
    "start_time": "2022-08-01T21:06:00.292Z"
   },
   {
    "duration": 742,
    "start_time": "2022-08-01T21:06:34.951Z"
   },
   {
    "duration": 1330,
    "start_time": "2022-08-01T21:07:19.584Z"
   },
   {
    "duration": 1687,
    "start_time": "2022-08-01T21:07:41.975Z"
   },
   {
    "duration": 116,
    "start_time": "2022-08-01T21:08:15.077Z"
   },
   {
    "duration": 1291,
    "start_time": "2022-08-01T21:10:39.353Z"
   },
   {
    "duration": 54,
    "start_time": "2022-08-01T21:10:40.646Z"
   },
   {
    "duration": 12,
    "start_time": "2022-08-01T21:10:40.702Z"
   },
   {
    "duration": 4,
    "start_time": "2022-08-01T21:10:40.715Z"
   },
   {
    "duration": 8,
    "start_time": "2022-08-01T21:10:40.720Z"
   },
   {
    "duration": 17,
    "start_time": "2022-08-01T21:10:40.729Z"
   },
   {
    "duration": 52,
    "start_time": "2022-08-01T21:10:40.747Z"
   },
   {
    "duration": 5,
    "start_time": "2022-08-01T21:10:40.800Z"
   },
   {
    "duration": 9,
    "start_time": "2022-08-01T21:10:40.806Z"
   },
   {
    "duration": 128,
    "start_time": "2022-08-01T21:10:40.817Z"
   },
   {
    "duration": 110,
    "start_time": "2022-08-01T21:12:42.521Z"
   },
   {
    "duration": 109,
    "start_time": "2022-08-01T21:13:40.321Z"
   },
   {
    "duration": 10,
    "start_time": "2022-08-01T21:17:38.097Z"
   },
   {
    "duration": 1230,
    "start_time": "2022-08-01T21:19:44.577Z"
   },
   {
    "duration": 53,
    "start_time": "2022-08-01T21:19:45.809Z"
   },
   {
    "duration": 11,
    "start_time": "2022-08-01T21:19:45.863Z"
   },
   {
    "duration": 6,
    "start_time": "2022-08-01T21:19:45.876Z"
   },
   {
    "duration": 6,
    "start_time": "2022-08-01T21:19:45.883Z"
   },
   {
    "duration": 16,
    "start_time": "2022-08-01T21:19:45.890Z"
   },
   {
    "duration": 36,
    "start_time": "2022-08-01T21:19:45.908Z"
   },
   {
    "duration": 9,
    "start_time": "2022-08-01T21:19:45.946Z"
   },
   {
    "duration": 6,
    "start_time": "2022-08-01T21:19:45.973Z"
   },
   {
    "duration": 4,
    "start_time": "2022-08-01T21:19:45.981Z"
   },
   {
    "duration": 132,
    "start_time": "2022-08-01T21:19:45.987Z"
   },
   {
    "duration": 230,
    "start_time": "2022-08-01T21:21:10.758Z"
   },
   {
    "duration": 47,
    "start_time": "2022-08-01T21:22:34.544Z"
   },
   {
    "duration": 100,
    "start_time": "2022-08-01T21:29:08.727Z"
   },
   {
    "duration": 10,
    "start_time": "2022-08-01T21:29:14.696Z"
   },
   {
    "duration": 10,
    "start_time": "2022-08-01T21:29:38.297Z"
   },
   {
    "duration": 785,
    "start_time": "2022-08-01T21:30:53.659Z"
   },
   {
    "duration": 851,
    "start_time": "2022-08-01T21:31:18.624Z"
   },
   {
    "duration": 864,
    "start_time": "2022-08-01T21:31:31.790Z"
   },
   {
    "duration": 729,
    "start_time": "2022-08-01T21:38:02.071Z"
   },
   {
    "duration": 1266,
    "start_time": "2022-08-01T21:38:15.153Z"
   },
   {
    "duration": 53,
    "start_time": "2022-08-01T21:38:16.421Z"
   },
   {
    "duration": 12,
    "start_time": "2022-08-01T21:38:16.475Z"
   },
   {
    "duration": 6,
    "start_time": "2022-08-01T21:38:16.489Z"
   },
   {
    "duration": 11,
    "start_time": "2022-08-01T21:38:16.497Z"
   },
   {
    "duration": 14,
    "start_time": "2022-08-01T21:38:16.510Z"
   },
   {
    "duration": 55,
    "start_time": "2022-08-01T21:38:16.525Z"
   },
   {
    "duration": 11,
    "start_time": "2022-08-01T21:38:16.582Z"
   },
   {
    "duration": 8,
    "start_time": "2022-08-01T21:38:16.595Z"
   },
   {
    "duration": 5,
    "start_time": "2022-08-01T21:38:16.605Z"
   },
   {
    "duration": 162,
    "start_time": "2022-08-01T21:38:16.612Z"
   },
   {
    "duration": 1255,
    "start_time": "2022-08-01T21:39:38.251Z"
   },
   {
    "duration": 51,
    "start_time": "2022-08-01T21:39:39.508Z"
   },
   {
    "duration": 11,
    "start_time": "2022-08-01T21:39:39.560Z"
   },
   {
    "duration": 7,
    "start_time": "2022-08-01T21:39:39.573Z"
   },
   {
    "duration": 9,
    "start_time": "2022-08-01T21:39:39.581Z"
   },
   {
    "duration": 14,
    "start_time": "2022-08-01T21:39:39.591Z"
   },
   {
    "duration": 33,
    "start_time": "2022-08-01T21:39:39.607Z"
   },
   {
    "duration": 9,
    "start_time": "2022-08-01T21:39:39.641Z"
   },
   {
    "duration": 23,
    "start_time": "2022-08-01T21:39:39.651Z"
   },
   {
    "duration": 3,
    "start_time": "2022-08-01T21:39:39.676Z"
   },
   {
    "duration": 127,
    "start_time": "2022-08-01T21:39:39.680Z"
   },
   {
    "duration": 122,
    "start_time": "2022-08-01T21:46:53.164Z"
   },
   {
    "duration": 11,
    "start_time": "2022-08-01T21:47:13.283Z"
   },
   {
    "duration": 1423,
    "start_time": "2022-08-01T22:04:20.435Z"
   },
   {
    "duration": 56,
    "start_time": "2022-08-01T22:04:21.860Z"
   },
   {
    "duration": 11,
    "start_time": "2022-08-01T22:04:21.918Z"
   },
   {
    "duration": 21,
    "start_time": "2022-08-01T22:04:21.931Z"
   },
   {
    "duration": 30,
    "start_time": "2022-08-01T22:04:21.954Z"
   },
   {
    "duration": 22,
    "start_time": "2022-08-01T22:04:21.985Z"
   },
   {
    "duration": 48,
    "start_time": "2022-08-01T22:04:22.009Z"
   },
   {
    "duration": 9,
    "start_time": "2022-08-01T22:04:22.059Z"
   },
   {
    "duration": 29,
    "start_time": "2022-08-01T22:04:22.069Z"
   },
   {
    "duration": 33,
    "start_time": "2022-08-01T22:04:22.100Z"
   },
   {
    "duration": 21,
    "start_time": "2022-08-01T22:04:22.134Z"
   },
   {
    "duration": 139,
    "start_time": "2022-08-01T22:04:22.157Z"
   },
   {
    "duration": 48,
    "start_time": "2022-08-02T08:55:21.646Z"
   },
   {
    "duration": 1450,
    "start_time": "2022-08-02T08:55:34.242Z"
   },
   {
    "duration": 357,
    "start_time": "2022-08-02T08:55:35.694Z"
   },
   {
    "duration": 14,
    "start_time": "2022-08-02T08:55:36.053Z"
   },
   {
    "duration": 15,
    "start_time": "2022-08-02T08:55:36.069Z"
   },
   {
    "duration": 11,
    "start_time": "2022-08-02T08:55:36.086Z"
   },
   {
    "duration": 20,
    "start_time": "2022-08-02T08:55:36.099Z"
   },
   {
    "duration": 53,
    "start_time": "2022-08-02T08:55:36.121Z"
   },
   {
    "duration": 14,
    "start_time": "2022-08-02T08:55:36.175Z"
   },
   {
    "duration": 1867,
    "start_time": "2022-08-02T08:55:36.191Z"
   },
   {
    "duration": 11,
    "start_time": "2022-08-02T08:55:38.060Z"
   },
   {
    "duration": 5,
    "start_time": "2022-08-02T08:55:38.073Z"
   },
   {
    "duration": 5,
    "start_time": "2022-08-02T08:55:38.079Z"
   },
   {
    "duration": 121,
    "start_time": "2022-08-02T08:55:38.085Z"
   },
   {
    "duration": 9,
    "start_time": "2022-08-02T09:02:26.152Z"
   },
   {
    "duration": 4,
    "start_time": "2022-08-02T09:02:31.751Z"
   },
   {
    "duration": 121,
    "start_time": "2022-08-02T09:02:42.401Z"
   },
   {
    "duration": 10,
    "start_time": "2022-08-02T09:08:29.407Z"
   },
   {
    "duration": 13,
    "start_time": "2022-08-02T09:13:15.581Z"
   },
   {
    "duration": 14,
    "start_time": "2022-08-02T09:15:17.899Z"
   },
   {
    "duration": 1241,
    "start_time": "2022-08-02T09:15:29.067Z"
   },
   {
    "duration": 52,
    "start_time": "2022-08-02T09:15:30.309Z"
   },
   {
    "duration": 11,
    "start_time": "2022-08-02T09:15:30.362Z"
   },
   {
    "duration": 7,
    "start_time": "2022-08-02T09:15:30.375Z"
   },
   {
    "duration": 22,
    "start_time": "2022-08-02T09:15:30.383Z"
   },
   {
    "duration": 23,
    "start_time": "2022-08-02T09:15:30.406Z"
   },
   {
    "duration": 36,
    "start_time": "2022-08-02T09:15:30.431Z"
   },
   {
    "duration": 10,
    "start_time": "2022-08-02T09:15:30.469Z"
   },
   {
    "duration": 1822,
    "start_time": "2022-08-02T09:15:30.480Z"
   },
   {
    "duration": 10,
    "start_time": "2022-08-02T09:15:32.304Z"
   },
   {
    "duration": 9,
    "start_time": "2022-08-02T09:15:32.316Z"
   },
   {
    "duration": 13,
    "start_time": "2022-08-02T09:15:32.327Z"
   },
   {
    "duration": 132,
    "start_time": "2022-08-02T09:15:32.341Z"
   },
   {
    "duration": 12,
    "start_time": "2022-08-02T09:15:32.475Z"
   },
   {
    "duration": 6,
    "start_time": "2022-08-02T09:30:01.338Z"
   },
   {
    "duration": 6,
    "start_time": "2022-08-02T09:30:25.160Z"
   },
   {
    "duration": 14,
    "start_time": "2022-08-02T09:33:01.097Z"
   },
   {
    "duration": 109,
    "start_time": "2022-08-02T09:34:42.031Z"
   },
   {
    "duration": 1268,
    "start_time": "2022-08-02T09:34:52.490Z"
   },
   {
    "duration": 54,
    "start_time": "2022-08-02T09:34:53.760Z"
   },
   {
    "duration": 11,
    "start_time": "2022-08-02T09:34:53.816Z"
   },
   {
    "duration": 4,
    "start_time": "2022-08-02T09:34:53.829Z"
   },
   {
    "duration": 7,
    "start_time": "2022-08-02T09:34:53.835Z"
   },
   {
    "duration": 16,
    "start_time": "2022-08-02T09:34:53.843Z"
   },
   {
    "duration": 40,
    "start_time": "2022-08-02T09:34:53.861Z"
   },
   {
    "duration": 12,
    "start_time": "2022-08-02T09:34:53.903Z"
   },
   {
    "duration": 1815,
    "start_time": "2022-08-02T09:34:53.916Z"
   },
   {
    "duration": 11,
    "start_time": "2022-08-02T09:34:55.733Z"
   },
   {
    "duration": 6,
    "start_time": "2022-08-02T09:34:55.746Z"
   },
   {
    "duration": 8,
    "start_time": "2022-08-02T09:34:55.753Z"
   },
   {
    "duration": 18,
    "start_time": "2022-08-02T09:34:55.762Z"
   },
   {
    "duration": 7,
    "start_time": "2022-08-02T09:34:55.782Z"
   },
   {
    "duration": 5,
    "start_time": "2022-08-02T09:34:55.790Z"
   },
   {
    "duration": 125,
    "start_time": "2022-08-02T09:34:55.796Z"
   },
   {
    "duration": 14,
    "start_time": "2022-08-02T09:34:55.923Z"
   },
   {
    "duration": 1266,
    "start_time": "2022-08-02T09:38:32.948Z"
   },
   {
    "duration": 51,
    "start_time": "2022-08-02T09:38:34.216Z"
   },
   {
    "duration": 13,
    "start_time": "2022-08-02T09:38:34.268Z"
   },
   {
    "duration": 6,
    "start_time": "2022-08-02T09:38:34.283Z"
   },
   {
    "duration": 6,
    "start_time": "2022-08-02T09:38:34.290Z"
   },
   {
    "duration": 14,
    "start_time": "2022-08-02T09:38:34.298Z"
   },
   {
    "duration": 54,
    "start_time": "2022-08-02T09:38:34.313Z"
   },
   {
    "duration": 10,
    "start_time": "2022-08-02T09:38:34.368Z"
   },
   {
    "duration": 1930,
    "start_time": "2022-08-02T09:38:34.380Z"
   },
   {
    "duration": 11,
    "start_time": "2022-08-02T09:38:36.313Z"
   },
   {
    "duration": 16,
    "start_time": "2022-08-02T09:38:36.325Z"
   },
   {
    "duration": 14,
    "start_time": "2022-08-02T09:38:36.342Z"
   },
   {
    "duration": 40,
    "start_time": "2022-08-02T09:38:36.357Z"
   },
   {
    "duration": 18,
    "start_time": "2022-08-02T09:38:36.398Z"
   },
   {
    "duration": 15,
    "start_time": "2022-08-02T09:38:36.418Z"
   },
   {
    "duration": 155,
    "start_time": "2022-08-02T09:38:36.434Z"
   },
   {
    "duration": 18,
    "start_time": "2022-08-02T09:38:36.591Z"
   },
   {
    "duration": 17,
    "start_time": "2022-08-02T09:39:20.791Z"
   },
   {
    "duration": 11,
    "start_time": "2022-08-02T10:36:31.504Z"
   },
   {
    "duration": 12,
    "start_time": "2022-08-02T10:37:03.764Z"
   },
   {
    "duration": 112,
    "start_time": "2022-08-02T10:54:23.257Z"
   },
   {
    "duration": 8,
    "start_time": "2022-08-02T10:54:47.540Z"
   },
   {
    "duration": 4,
    "start_time": "2022-08-02T11:38:24.146Z"
   },
   {
    "duration": 1348,
    "start_time": "2022-08-02T11:38:44.984Z"
   },
   {
    "duration": 57,
    "start_time": "2022-08-02T11:38:46.334Z"
   },
   {
    "duration": 13,
    "start_time": "2022-08-02T11:38:46.393Z"
   },
   {
    "duration": 4,
    "start_time": "2022-08-02T11:38:46.408Z"
   },
   {
    "duration": 8,
    "start_time": "2022-08-02T11:38:46.413Z"
   },
   {
    "duration": 14,
    "start_time": "2022-08-02T11:38:46.423Z"
   },
   {
    "duration": 40,
    "start_time": "2022-08-02T11:38:46.451Z"
   },
   {
    "duration": 12,
    "start_time": "2022-08-02T11:38:46.493Z"
   },
   {
    "duration": 1948,
    "start_time": "2022-08-02T11:38:46.507Z"
   },
   {
    "duration": 12,
    "start_time": "2022-08-02T11:38:48.457Z"
   },
   {
    "duration": 6,
    "start_time": "2022-08-02T11:38:48.470Z"
   },
   {
    "duration": 6,
    "start_time": "2022-08-02T11:38:48.477Z"
   },
   {
    "duration": 14,
    "start_time": "2022-08-02T11:38:48.485Z"
   },
   {
    "duration": 10,
    "start_time": "2022-08-02T11:38:48.501Z"
   },
   {
    "duration": 6,
    "start_time": "2022-08-02T11:38:48.512Z"
   },
   {
    "duration": 34,
    "start_time": "2022-08-02T11:38:48.519Z"
   },
   {
    "duration": 132,
    "start_time": "2022-08-02T11:38:48.555Z"
   },
   {
    "duration": 19,
    "start_time": "2022-08-02T11:38:48.688Z"
   },
   {
    "duration": 4,
    "start_time": "2022-08-02T11:38:48.708Z"
   },
   {
    "duration": 7,
    "start_time": "2022-08-02T12:02:34.047Z"
   },
   {
    "duration": 7,
    "start_time": "2022-08-02T12:02:40.791Z"
   },
   {
    "duration": 5,
    "start_time": "2022-08-02T12:03:13.547Z"
   },
   {
    "duration": 5,
    "start_time": "2022-08-02T12:04:09.577Z"
   },
   {
    "duration": 8,
    "start_time": "2022-08-02T12:04:32.951Z"
   },
   {
    "duration": 3,
    "start_time": "2022-08-02T12:04:33.995Z"
   },
   {
    "duration": 5,
    "start_time": "2022-08-02T12:04:35.457Z"
   },
   {
    "duration": 1288,
    "start_time": "2022-08-02T12:13:27.064Z"
   },
   {
    "duration": 56,
    "start_time": "2022-08-02T12:13:28.354Z"
   },
   {
    "duration": 12,
    "start_time": "2022-08-02T12:13:28.411Z"
   },
   {
    "duration": 4,
    "start_time": "2022-08-02T12:13:28.425Z"
   },
   {
    "duration": 6,
    "start_time": "2022-08-02T12:13:28.432Z"
   },
   {
    "duration": 19,
    "start_time": "2022-08-02T12:13:28.439Z"
   },
   {
    "duration": 37,
    "start_time": "2022-08-02T12:13:28.460Z"
   },
   {
    "duration": 11,
    "start_time": "2022-08-02T12:13:28.499Z"
   },
   {
    "duration": 1972,
    "start_time": "2022-08-02T12:13:28.511Z"
   },
   {
    "duration": 12,
    "start_time": "2022-08-02T12:13:30.486Z"
   },
   {
    "duration": 17,
    "start_time": "2022-08-02T12:13:30.499Z"
   },
   {
    "duration": 31,
    "start_time": "2022-08-02T12:13:30.518Z"
   },
   {
    "duration": 41,
    "start_time": "2022-08-02T12:13:30.551Z"
   },
   {
    "duration": 22,
    "start_time": "2022-08-02T12:13:30.593Z"
   },
   {
    "duration": 17,
    "start_time": "2022-08-02T12:13:30.617Z"
   },
   {
    "duration": 10,
    "start_time": "2022-08-02T12:13:30.636Z"
   },
   {
    "duration": 141,
    "start_time": "2022-08-02T12:13:30.648Z"
   },
   {
    "duration": 19,
    "start_time": "2022-08-02T12:13:30.791Z"
   },
   {
    "duration": 7,
    "start_time": "2022-08-02T12:13:30.812Z"
   },
   {
    "duration": 20,
    "start_time": "2022-08-02T12:13:30.821Z"
   },
   {
    "duration": 24,
    "start_time": "2022-08-02T12:13:30.842Z"
   },
   {
    "duration": 21,
    "start_time": "2022-08-02T12:13:30.868Z"
   },
   {
    "duration": 28,
    "start_time": "2022-08-02T12:13:30.891Z"
   },
   {
    "duration": 112,
    "start_time": "2022-08-02T12:40:32.491Z"
   },
   {
    "duration": 7,
    "start_time": "2022-08-02T12:44:04.459Z"
   },
   {
    "duration": 5,
    "start_time": "2022-08-02T12:44:38.331Z"
   },
   {
    "duration": 4,
    "start_time": "2022-08-02T12:45:04.499Z"
   },
   {
    "duration": 5,
    "start_time": "2022-08-02T12:45:22.563Z"
   },
   {
    "duration": 8,
    "start_time": "2022-08-02T12:49:21.728Z"
   },
   {
    "duration": 6,
    "start_time": "2022-08-02T12:49:51.371Z"
   },
   {
    "duration": 3,
    "start_time": "2022-08-02T12:50:37.071Z"
   },
   {
    "duration": 4,
    "start_time": "2022-08-02T12:50:49.826Z"
   },
   {
    "duration": 4,
    "start_time": "2022-08-02T12:51:10.162Z"
   },
   {
    "duration": 3,
    "start_time": "2022-08-02T12:52:06.789Z"
   },
   {
    "duration": 4,
    "start_time": "2022-08-02T12:52:55.130Z"
   },
   {
    "duration": 6,
    "start_time": "2022-08-02T12:53:50.153Z"
   },
   {
    "duration": 9,
    "start_time": "2022-08-02T13:06:18.228Z"
   },
   {
    "duration": 4,
    "start_time": "2022-08-02T13:06:36.997Z"
   },
   {
    "duration": 4,
    "start_time": "2022-08-02T13:06:47.397Z"
   },
   {
    "duration": 8,
    "start_time": "2022-08-02T13:07:05.034Z"
   },
   {
    "duration": 4,
    "start_time": "2022-08-02T13:07:06.830Z"
   },
   {
    "duration": 4,
    "start_time": "2022-08-02T13:07:08.834Z"
   },
   {
    "duration": 4,
    "start_time": "2022-08-02T13:07:31.737Z"
   },
   {
    "duration": 1441,
    "start_time": "2022-08-02T13:07:51.880Z"
   },
   {
    "duration": 81,
    "start_time": "2022-08-02T13:07:53.323Z"
   },
   {
    "duration": 16,
    "start_time": "2022-08-02T13:07:53.406Z"
   },
   {
    "duration": 5,
    "start_time": "2022-08-02T13:07:53.424Z"
   },
   {
    "duration": 10,
    "start_time": "2022-08-02T13:07:53.431Z"
   },
   {
    "duration": 55,
    "start_time": "2022-08-02T13:07:53.442Z"
   },
   {
    "duration": 39,
    "start_time": "2022-08-02T13:07:53.499Z"
   },
   {
    "duration": 17,
    "start_time": "2022-08-02T13:07:53.540Z"
   },
   {
    "duration": 2270,
    "start_time": "2022-08-02T13:07:53.565Z"
   },
   {
    "duration": 12,
    "start_time": "2022-08-02T13:07:55.838Z"
   },
   {
    "duration": 11,
    "start_time": "2022-08-02T13:07:55.852Z"
   },
   {
    "duration": 26,
    "start_time": "2022-08-02T13:07:55.866Z"
   },
   {
    "duration": 16,
    "start_time": "2022-08-02T13:07:55.894Z"
   },
   {
    "duration": 11,
    "start_time": "2022-08-02T13:07:55.912Z"
   },
   {
    "duration": 6,
    "start_time": "2022-08-02T13:07:55.925Z"
   },
   {
    "duration": 5,
    "start_time": "2022-08-02T13:07:55.933Z"
   },
   {
    "duration": 161,
    "start_time": "2022-08-02T13:07:55.940Z"
   },
   {
    "duration": 27,
    "start_time": "2022-08-02T13:07:56.103Z"
   },
   {
    "duration": 6,
    "start_time": "2022-08-02T13:07:56.132Z"
   },
   {
    "duration": 51,
    "start_time": "2022-08-02T13:07:56.140Z"
   },
   {
    "duration": 26,
    "start_time": "2022-08-02T13:07:56.193Z"
   },
   {
    "duration": 21,
    "start_time": "2022-08-02T13:07:56.221Z"
   },
   {
    "duration": 41,
    "start_time": "2022-08-02T13:07:56.244Z"
   },
   {
    "duration": 135,
    "start_time": "2022-08-02T13:07:56.290Z"
   },
   {
    "duration": 6,
    "start_time": "2022-08-02T13:09:47.672Z"
   },
   {
    "duration": 5,
    "start_time": "2022-08-02T13:11:23.625Z"
   },
   {
    "duration": 4,
    "start_time": "2022-08-02T13:12:08.386Z"
   },
   {
    "duration": 14,
    "start_time": "2022-08-02T13:17:43.635Z"
   },
   {
    "duration": 20,
    "start_time": "2022-08-02T13:18:06.064Z"
   },
   {
    "duration": 39,
    "start_time": "2022-08-02T13:18:19.932Z"
   },
   {
    "duration": 1316,
    "start_time": "2022-08-02T13:19:13.891Z"
   },
   {
    "duration": 63,
    "start_time": "2022-08-02T13:19:15.209Z"
   },
   {
    "duration": 18,
    "start_time": "2022-08-02T13:19:15.278Z"
   },
   {
    "duration": 6,
    "start_time": "2022-08-02T13:19:15.299Z"
   },
   {
    "duration": 6,
    "start_time": "2022-08-02T13:19:15.307Z"
   },
   {
    "duration": 14,
    "start_time": "2022-08-02T13:19:15.315Z"
   },
   {
    "duration": 62,
    "start_time": "2022-08-02T13:19:15.336Z"
   },
   {
    "duration": 12,
    "start_time": "2022-08-02T13:19:15.400Z"
   },
   {
    "duration": 2273,
    "start_time": "2022-08-02T13:19:15.414Z"
   },
   {
    "duration": 12,
    "start_time": "2022-08-02T13:19:17.689Z"
   },
   {
    "duration": 5,
    "start_time": "2022-08-02T13:19:17.703Z"
   },
   {
    "duration": 7,
    "start_time": "2022-08-02T13:19:17.709Z"
   },
   {
    "duration": 16,
    "start_time": "2022-08-02T13:19:17.718Z"
   },
   {
    "duration": 10,
    "start_time": "2022-08-02T13:19:17.735Z"
   },
   {
    "duration": 19,
    "start_time": "2022-08-02T13:19:17.753Z"
   },
   {
    "duration": 11,
    "start_time": "2022-08-02T13:19:17.776Z"
   },
   {
    "duration": 125,
    "start_time": "2022-08-02T13:19:17.789Z"
   },
   {
    "duration": 19,
    "start_time": "2022-08-02T13:19:17.915Z"
   },
   {
    "duration": 6,
    "start_time": "2022-08-02T13:19:17.935Z"
   },
   {
    "duration": 17,
    "start_time": "2022-08-02T13:19:17.943Z"
   },
   {
    "duration": 20,
    "start_time": "2022-08-02T13:19:17.962Z"
   },
   {
    "duration": 6,
    "start_time": "2022-08-02T13:19:17.983Z"
   },
   {
    "duration": 5,
    "start_time": "2022-08-02T13:19:17.991Z"
   },
   {
    "duration": 6,
    "start_time": "2022-08-02T13:19:17.998Z"
   },
   {
    "duration": 7,
    "start_time": "2022-08-02T13:19:18.005Z"
   },
   {
    "duration": 28,
    "start_time": "2022-08-02T13:19:18.013Z"
   },
   {
    "duration": 31,
    "start_time": "2022-08-02T13:25:02.045Z"
   },
   {
    "duration": 17,
    "start_time": "2022-08-02T13:26:38.204Z"
   },
   {
    "duration": 1456,
    "start_time": "2022-08-02T13:26:53.837Z"
   },
   {
    "duration": 56,
    "start_time": "2022-08-02T13:26:55.295Z"
   },
   {
    "duration": 15,
    "start_time": "2022-08-02T13:26:55.360Z"
   },
   {
    "duration": 11,
    "start_time": "2022-08-02T13:26:55.377Z"
   },
   {
    "duration": 5,
    "start_time": "2022-08-02T13:26:55.390Z"
   },
   {
    "duration": 15,
    "start_time": "2022-08-02T13:26:55.396Z"
   },
   {
    "duration": 57,
    "start_time": "2022-08-02T13:26:55.412Z"
   },
   {
    "duration": 14,
    "start_time": "2022-08-02T13:26:55.470Z"
   },
   {
    "duration": 2100,
    "start_time": "2022-08-02T13:26:55.486Z"
   },
   {
    "duration": 14,
    "start_time": "2022-08-02T13:26:57.588Z"
   },
   {
    "duration": 6,
    "start_time": "2022-08-02T13:26:57.604Z"
   },
   {
    "duration": 8,
    "start_time": "2022-08-02T13:26:57.611Z"
   },
   {
    "duration": 19,
    "start_time": "2022-08-02T13:26:57.620Z"
   },
   {
    "duration": 12,
    "start_time": "2022-08-02T13:26:57.642Z"
   },
   {
    "duration": 27,
    "start_time": "2022-08-02T13:26:57.659Z"
   },
   {
    "duration": 9,
    "start_time": "2022-08-02T13:26:57.688Z"
   },
   {
    "duration": 131,
    "start_time": "2022-08-02T13:26:57.699Z"
   },
   {
    "duration": 26,
    "start_time": "2022-08-02T13:26:57.832Z"
   },
   {
    "duration": 7,
    "start_time": "2022-08-02T13:26:57.860Z"
   },
   {
    "duration": 27,
    "start_time": "2022-08-02T13:26:57.869Z"
   },
   {
    "duration": 17,
    "start_time": "2022-08-02T13:26:57.898Z"
   },
   {
    "duration": 9,
    "start_time": "2022-08-02T13:26:57.917Z"
   },
   {
    "duration": 11,
    "start_time": "2022-08-02T13:26:57.927Z"
   },
   {
    "duration": 6,
    "start_time": "2022-08-02T13:26:57.939Z"
   },
   {
    "duration": 37,
    "start_time": "2022-08-02T13:26:57.946Z"
   },
   {
    "duration": 23,
    "start_time": "2022-08-02T13:27:00.104Z"
   },
   {
    "duration": 26,
    "start_time": "2022-08-02T13:27:00.136Z"
   },
   {
    "duration": 19,
    "start_time": "2022-08-02T13:27:00.163Z"
   },
   {
    "duration": 308,
    "start_time": "2022-08-02T13:35:35.741Z"
   },
   {
    "duration": 19,
    "start_time": "2022-08-02T13:36:39.892Z"
   },
   {
    "duration": 24,
    "start_time": "2022-08-02T13:47:51.374Z"
   },
   {
    "duration": 111,
    "start_time": "2022-08-02T13:49:36.676Z"
   },
   {
    "duration": 4733,
    "start_time": "2022-08-02T13:50:23.239Z"
   },
   {
    "duration": 42,
    "start_time": "2022-08-03T14:25:48.585Z"
   },
   {
    "duration": 1487,
    "start_time": "2022-08-03T14:25:58.315Z"
   },
   {
    "duration": 343,
    "start_time": "2022-08-03T14:25:59.804Z"
   },
   {
    "duration": 14,
    "start_time": "2022-08-03T14:26:00.149Z"
   },
   {
    "duration": 5,
    "start_time": "2022-08-03T14:26:00.165Z"
   },
   {
    "duration": 7,
    "start_time": "2022-08-03T14:26:00.172Z"
   },
   {
    "duration": 22,
    "start_time": "2022-08-03T14:26:00.181Z"
   },
   {
    "duration": 37,
    "start_time": "2022-08-03T14:26:00.205Z"
   },
   {
    "duration": 10,
    "start_time": "2022-08-03T14:26:00.244Z"
   },
   {
    "duration": 1925,
    "start_time": "2022-08-03T14:26:00.255Z"
   },
   {
    "duration": 11,
    "start_time": "2022-08-03T14:26:02.183Z"
   },
   {
    "duration": 7,
    "start_time": "2022-08-03T14:26:02.196Z"
   },
   {
    "duration": 28,
    "start_time": "2022-08-03T14:26:02.204Z"
   },
   {
    "duration": 37,
    "start_time": "2022-08-03T14:26:02.234Z"
   },
   {
    "duration": 23,
    "start_time": "2022-08-03T14:26:02.274Z"
   },
   {
    "duration": 18,
    "start_time": "2022-08-03T14:26:02.298Z"
   },
   {
    "duration": 9,
    "start_time": "2022-08-03T14:26:02.318Z"
   },
   {
    "duration": 129,
    "start_time": "2022-08-03T14:26:02.329Z"
   },
   {
    "duration": 18,
    "start_time": "2022-08-03T14:26:02.460Z"
   },
   {
    "duration": 202,
    "start_time": "2022-08-03T14:26:02.480Z"
   },
   {
    "duration": 0,
    "start_time": "2022-08-03T14:26:02.684Z"
   },
   {
    "duration": 0,
    "start_time": "2022-08-03T14:26:02.684Z"
   },
   {
    "duration": 0,
    "start_time": "2022-08-03T14:26:02.686Z"
   },
   {
    "duration": 0,
    "start_time": "2022-08-03T14:26:02.687Z"
   },
   {
    "duration": 0,
    "start_time": "2022-08-03T14:26:02.688Z"
   },
   {
    "duration": 0,
    "start_time": "2022-08-03T14:26:02.706Z"
   },
   {
    "duration": 0,
    "start_time": "2022-08-03T14:26:02.707Z"
   },
   {
    "duration": 0,
    "start_time": "2022-08-03T14:26:02.708Z"
   },
   {
    "duration": 0,
    "start_time": "2022-08-03T14:26:02.709Z"
   },
   {
    "duration": 0,
    "start_time": "2022-08-03T14:26:02.710Z"
   },
   {
    "duration": 0,
    "start_time": "2022-08-03T14:26:02.711Z"
   },
   {
    "duration": 0,
    "start_time": "2022-08-03T14:26:02.712Z"
   },
   {
    "duration": 1370,
    "start_time": "2022-08-03T14:27:03.623Z"
   },
   {
    "duration": 53,
    "start_time": "2022-08-03T14:27:04.994Z"
   },
   {
    "duration": 12,
    "start_time": "2022-08-03T14:27:05.048Z"
   },
   {
    "duration": 4,
    "start_time": "2022-08-03T14:27:05.061Z"
   },
   {
    "duration": 20,
    "start_time": "2022-08-03T14:27:05.067Z"
   },
   {
    "duration": 22,
    "start_time": "2022-08-03T14:27:05.089Z"
   },
   {
    "duration": 42,
    "start_time": "2022-08-03T14:27:05.113Z"
   },
   {
    "duration": 11,
    "start_time": "2022-08-03T14:27:05.157Z"
   },
   {
    "duration": 2106,
    "start_time": "2022-08-03T14:27:05.170Z"
   },
   {
    "duration": 12,
    "start_time": "2022-08-03T14:27:07.279Z"
   },
   {
    "duration": 7,
    "start_time": "2022-08-03T14:27:07.293Z"
   },
   {
    "duration": 7,
    "start_time": "2022-08-03T14:27:07.301Z"
   },
   {
    "duration": 16,
    "start_time": "2022-08-03T14:27:07.309Z"
   },
   {
    "duration": 11,
    "start_time": "2022-08-03T14:27:07.326Z"
   },
   {
    "duration": 6,
    "start_time": "2022-08-03T14:27:07.339Z"
   },
   {
    "duration": 5,
    "start_time": "2022-08-03T14:27:07.347Z"
   },
   {
    "duration": 148,
    "start_time": "2022-08-03T14:27:07.354Z"
   },
   {
    "duration": 19,
    "start_time": "2022-08-03T14:27:07.506Z"
   },
   {
    "duration": 218,
    "start_time": "2022-08-03T14:27:07.527Z"
   },
   {
    "duration": 0,
    "start_time": "2022-08-03T14:27:07.746Z"
   },
   {
    "duration": 0,
    "start_time": "2022-08-03T14:27:07.748Z"
   },
   {
    "duration": 0,
    "start_time": "2022-08-03T14:27:07.749Z"
   },
   {
    "duration": 0,
    "start_time": "2022-08-03T14:27:07.750Z"
   },
   {
    "duration": 0,
    "start_time": "2022-08-03T14:27:07.751Z"
   },
   {
    "duration": 0,
    "start_time": "2022-08-03T14:27:07.752Z"
   },
   {
    "duration": 0,
    "start_time": "2022-08-03T14:27:07.753Z"
   },
   {
    "duration": 0,
    "start_time": "2022-08-03T14:27:07.754Z"
   },
   {
    "duration": 0,
    "start_time": "2022-08-03T14:27:07.755Z"
   },
   {
    "duration": 0,
    "start_time": "2022-08-03T14:27:07.756Z"
   },
   {
    "duration": 0,
    "start_time": "2022-08-03T14:27:07.757Z"
   },
   {
    "duration": 0,
    "start_time": "2022-08-03T14:27:07.758Z"
   },
   {
    "duration": 1776,
    "start_time": "2022-08-03T14:35:15.317Z"
   },
   {
    "duration": 58,
    "start_time": "2022-08-03T14:35:17.095Z"
   },
   {
    "duration": 13,
    "start_time": "2022-08-03T14:35:17.156Z"
   },
   {
    "duration": 6,
    "start_time": "2022-08-03T14:35:17.171Z"
   },
   {
    "duration": 11,
    "start_time": "2022-08-03T14:35:17.179Z"
   },
   {
    "duration": 24,
    "start_time": "2022-08-03T14:35:17.192Z"
   },
   {
    "duration": 61,
    "start_time": "2022-08-03T14:35:17.218Z"
   },
   {
    "duration": 28,
    "start_time": "2022-08-03T14:35:17.282Z"
   },
   {
    "duration": 1981,
    "start_time": "2022-08-03T14:35:17.311Z"
   },
   {
    "duration": 12,
    "start_time": "2022-08-03T14:35:19.295Z"
   },
   {
    "duration": 6,
    "start_time": "2022-08-03T14:35:19.308Z"
   },
   {
    "duration": 7,
    "start_time": "2022-08-03T14:35:19.315Z"
   },
   {
    "duration": 14,
    "start_time": "2022-08-03T14:35:19.323Z"
   },
   {
    "duration": 9,
    "start_time": "2022-08-03T14:35:19.339Z"
   },
   {
    "duration": 5,
    "start_time": "2022-08-03T14:35:19.349Z"
   },
   {
    "duration": 7,
    "start_time": "2022-08-03T14:35:19.356Z"
   },
   {
    "duration": 146,
    "start_time": "2022-08-03T14:35:19.364Z"
   },
   {
    "duration": 18,
    "start_time": "2022-08-03T14:35:19.511Z"
   },
   {
    "duration": 211,
    "start_time": "2022-08-03T14:35:19.530Z"
   },
   {
    "duration": 0,
    "start_time": "2022-08-03T14:35:19.742Z"
   },
   {
    "duration": 0,
    "start_time": "2022-08-03T14:35:19.744Z"
   },
   {
    "duration": 0,
    "start_time": "2022-08-03T14:35:19.745Z"
   },
   {
    "duration": 0,
    "start_time": "2022-08-03T14:35:19.747Z"
   },
   {
    "duration": 0,
    "start_time": "2022-08-03T14:35:19.748Z"
   },
   {
    "duration": 0,
    "start_time": "2022-08-03T14:35:19.749Z"
   },
   {
    "duration": 0,
    "start_time": "2022-08-03T14:35:19.750Z"
   },
   {
    "duration": 0,
    "start_time": "2022-08-03T14:35:19.752Z"
   },
   {
    "duration": 0,
    "start_time": "2022-08-03T14:35:19.753Z"
   },
   {
    "duration": 0,
    "start_time": "2022-08-03T14:35:19.754Z"
   },
   {
    "duration": 0,
    "start_time": "2022-08-03T14:35:19.756Z"
   },
   {
    "duration": 0,
    "start_time": "2022-08-03T14:35:19.757Z"
   },
   {
    "duration": 644,
    "start_time": "2022-08-03T14:35:54.681Z"
   },
   {
    "duration": 1305,
    "start_time": "2022-08-03T14:36:30.225Z"
   },
   {
    "duration": 54,
    "start_time": "2022-08-03T14:36:31.531Z"
   },
   {
    "duration": 11,
    "start_time": "2022-08-03T14:36:31.587Z"
   },
   {
    "duration": 6,
    "start_time": "2022-08-03T14:36:31.599Z"
   },
   {
    "duration": 7,
    "start_time": "2022-08-03T14:36:31.606Z"
   },
   {
    "duration": 20,
    "start_time": "2022-08-03T14:36:31.614Z"
   },
   {
    "duration": 36,
    "start_time": "2022-08-03T14:36:31.636Z"
   },
   {
    "duration": 12,
    "start_time": "2022-08-03T14:36:31.674Z"
   },
   {
    "duration": 1832,
    "start_time": "2022-08-03T14:36:31.688Z"
   },
   {
    "duration": 12,
    "start_time": "2022-08-03T14:36:33.524Z"
   },
   {
    "duration": 5,
    "start_time": "2022-08-03T14:36:33.537Z"
   },
   {
    "duration": 8,
    "start_time": "2022-08-03T14:36:33.544Z"
   },
   {
    "duration": 16,
    "start_time": "2022-08-03T14:36:33.554Z"
   },
   {
    "duration": 9,
    "start_time": "2022-08-03T14:36:33.572Z"
   },
   {
    "duration": 5,
    "start_time": "2022-08-03T14:36:33.582Z"
   },
   {
    "duration": 19,
    "start_time": "2022-08-03T14:36:33.588Z"
   },
   {
    "duration": 121,
    "start_time": "2022-08-03T14:36:33.608Z"
   },
   {
    "duration": 17,
    "start_time": "2022-08-03T14:36:33.730Z"
   },
   {
    "duration": 608,
    "start_time": "2022-08-03T14:36:33.748Z"
   },
   {
    "duration": 7,
    "start_time": "2022-08-03T14:36:34.357Z"
   },
   {
    "duration": 4,
    "start_time": "2022-08-03T14:36:34.365Z"
   },
   {
    "duration": 5,
    "start_time": "2022-08-03T14:36:34.370Z"
   },
   {
    "duration": 25,
    "start_time": "2022-08-03T14:36:34.376Z"
   },
   {
    "duration": 16,
    "start_time": "2022-08-03T14:36:34.402Z"
   },
   {
    "duration": 12,
    "start_time": "2022-08-03T14:36:34.419Z"
   },
   {
    "duration": 18,
    "start_time": "2022-08-03T14:36:34.432Z"
   },
   {
    "duration": 40,
    "start_time": "2022-08-03T14:36:34.451Z"
   },
   {
    "duration": 15,
    "start_time": "2022-08-03T14:36:34.494Z"
   },
   {
    "duration": 14,
    "start_time": "2022-08-03T14:36:34.510Z"
   },
   {
    "duration": 26,
    "start_time": "2022-08-03T14:36:34.525Z"
   },
   {
    "duration": 4086,
    "start_time": "2022-08-03T14:36:34.610Z"
   },
   {
    "duration": 1053,
    "start_time": "2022-08-03T14:38:25.225Z"
   },
   {
    "duration": 1417,
    "start_time": "2022-08-03T14:40:09.659Z"
   },
   {
    "duration": 53,
    "start_time": "2022-08-03T14:40:11.077Z"
   },
   {
    "duration": 10,
    "start_time": "2022-08-03T14:40:11.132Z"
   },
   {
    "duration": 4,
    "start_time": "2022-08-03T14:40:11.144Z"
   },
   {
    "duration": 6,
    "start_time": "2022-08-03T14:40:11.150Z"
   },
   {
    "duration": 15,
    "start_time": "2022-08-03T14:40:11.157Z"
   },
   {
    "duration": 51,
    "start_time": "2022-08-03T14:40:11.173Z"
   },
   {
    "duration": 10,
    "start_time": "2022-08-03T14:40:11.225Z"
   },
   {
    "duration": 1883,
    "start_time": "2022-08-03T14:40:11.237Z"
   },
   {
    "duration": 11,
    "start_time": "2022-08-03T14:40:13.123Z"
   },
   {
    "duration": 5,
    "start_time": "2022-08-03T14:40:13.136Z"
   },
   {
    "duration": 6,
    "start_time": "2022-08-03T14:40:13.142Z"
   },
   {
    "duration": 14,
    "start_time": "2022-08-03T14:40:13.149Z"
   },
   {
    "duration": 9,
    "start_time": "2022-08-03T14:40:13.165Z"
   },
   {
    "duration": 6,
    "start_time": "2022-08-03T14:40:13.175Z"
   },
   {
    "duration": 24,
    "start_time": "2022-08-03T14:40:13.182Z"
   },
   {
    "duration": 128,
    "start_time": "2022-08-03T14:40:13.207Z"
   },
   {
    "duration": 18,
    "start_time": "2022-08-03T14:40:13.337Z"
   },
   {
    "duration": 913,
    "start_time": "2022-08-03T14:40:13.356Z"
   },
   {
    "duration": 6,
    "start_time": "2022-08-03T14:40:14.271Z"
   },
   {
    "duration": 5,
    "start_time": "2022-08-03T14:40:14.279Z"
   },
   {
    "duration": 7,
    "start_time": "2022-08-03T14:40:14.285Z"
   },
   {
    "duration": 15,
    "start_time": "2022-08-03T14:40:14.293Z"
   },
   {
    "duration": 5,
    "start_time": "2022-08-03T14:40:14.309Z"
   },
   {
    "duration": 5,
    "start_time": "2022-08-03T14:40:14.316Z"
   },
   {
    "duration": 8,
    "start_time": "2022-08-03T14:40:14.322Z"
   },
   {
    "duration": 26,
    "start_time": "2022-08-03T14:40:14.332Z"
   },
   {
    "duration": 19,
    "start_time": "2022-08-03T14:40:14.360Z"
   },
   {
    "duration": 35,
    "start_time": "2022-08-03T14:40:14.381Z"
   },
   {
    "duration": 23,
    "start_time": "2022-08-03T14:40:14.417Z"
   },
   {
    "duration": 4158,
    "start_time": "2022-08-03T14:40:14.506Z"
   },
   {
    "duration": 4,
    "start_time": "2022-08-03T14:52:47.901Z"
   },
   {
    "duration": 73,
    "start_time": "2022-08-03T14:53:04.978Z"
   },
   {
    "duration": 113,
    "start_time": "2022-08-03T14:54:00.641Z"
   },
   {
    "duration": 317,
    "start_time": "2022-08-03T14:54:44.065Z"
   },
   {
    "duration": 1314,
    "start_time": "2022-08-04T09:41:28.221Z"
   },
   {
    "duration": 56,
    "start_time": "2022-08-04T09:41:29.537Z"
   },
   {
    "duration": 11,
    "start_time": "2022-08-04T09:41:29.594Z"
   },
   {
    "duration": 4,
    "start_time": "2022-08-04T09:41:29.607Z"
   },
   {
    "duration": 8,
    "start_time": "2022-08-04T09:41:29.612Z"
   },
   {
    "duration": 13,
    "start_time": "2022-08-04T09:41:29.621Z"
   },
   {
    "duration": 37,
    "start_time": "2022-08-04T09:41:29.636Z"
   },
   {
    "duration": 33,
    "start_time": "2022-08-04T09:41:29.674Z"
   },
   {
    "duration": 1847,
    "start_time": "2022-08-04T09:41:29.709Z"
   },
   {
    "duration": 12,
    "start_time": "2022-08-04T09:41:31.559Z"
   },
   {
    "duration": 6,
    "start_time": "2022-08-04T09:41:31.572Z"
   },
   {
    "duration": 10,
    "start_time": "2022-08-04T09:41:31.579Z"
   },
   {
    "duration": 23,
    "start_time": "2022-08-04T09:41:31.590Z"
   },
   {
    "duration": 26,
    "start_time": "2022-08-04T09:41:31.615Z"
   },
   {
    "duration": 6,
    "start_time": "2022-08-04T09:41:31.643Z"
   },
   {
    "duration": 7,
    "start_time": "2022-08-04T09:41:31.651Z"
   },
   {
    "duration": 118,
    "start_time": "2022-08-04T09:41:31.659Z"
   },
   {
    "duration": 18,
    "start_time": "2022-08-04T09:41:31.778Z"
   },
   {
    "duration": 910,
    "start_time": "2022-08-04T09:41:31.805Z"
   },
   {
    "duration": 7,
    "start_time": "2022-08-04T09:41:32.717Z"
   },
   {
    "duration": 20,
    "start_time": "2022-08-04T09:41:32.725Z"
   },
   {
    "duration": 20,
    "start_time": "2022-08-04T09:41:32.747Z"
   },
   {
    "duration": 17,
    "start_time": "2022-08-04T09:41:32.768Z"
   },
   {
    "duration": 11,
    "start_time": "2022-08-04T09:41:32.787Z"
   },
   {
    "duration": 16,
    "start_time": "2022-08-04T09:41:32.799Z"
   },
   {
    "duration": 26,
    "start_time": "2022-08-04T09:41:32.816Z"
   },
   {
    "duration": 48,
    "start_time": "2022-08-04T09:41:32.844Z"
   },
   {
    "duration": 18,
    "start_time": "2022-08-04T09:41:32.895Z"
   },
   {
    "duration": 23,
    "start_time": "2022-08-04T09:41:32.915Z"
   },
   {
    "duration": 22,
    "start_time": "2022-08-04T09:41:32.940Z"
   },
   {
    "duration": 433,
    "start_time": "2022-08-04T09:41:32.964Z"
   },
   {
    "duration": 289,
    "start_time": "2022-08-04T09:43:11.420Z"
   },
   {
    "duration": 101,
    "start_time": "2022-08-04T10:05:02.278Z"
   },
   {
    "duration": 34396,
    "start_time": "2022-08-04T10:05:16.091Z"
   },
   {
    "duration": 25,
    "start_time": "2022-08-04T11:12:07.237Z"
   },
   {
    "duration": 318,
    "start_time": "2022-08-04T11:12:48.155Z"
   },
   {
    "duration": 317,
    "start_time": "2022-08-04T11:13:15.764Z"
   },
   {
    "duration": 297,
    "start_time": "2022-08-04T11:13:27.618Z"
   },
   {
    "duration": 317,
    "start_time": "2022-08-04T11:13:47.996Z"
   },
   {
    "duration": 307,
    "start_time": "2022-08-04T11:14:00.142Z"
   },
   {
    "duration": 93,
    "start_time": "2022-08-04T11:14:50.794Z"
   },
   {
    "duration": 74,
    "start_time": "2022-08-04T11:14:58.570Z"
   },
   {
    "duration": 293,
    "start_time": "2022-08-04T11:39:05.086Z"
   },
   {
    "duration": 2017,
    "start_time": "2022-08-04T11:40:45.521Z"
   },
   {
    "duration": 57,
    "start_time": "2022-08-04T11:40:47.540Z"
   },
   {
    "duration": 15,
    "start_time": "2022-08-04T11:40:47.599Z"
   },
   {
    "duration": 6,
    "start_time": "2022-08-04T11:40:47.617Z"
   },
   {
    "duration": 24,
    "start_time": "2022-08-04T11:40:47.625Z"
   },
   {
    "duration": 16,
    "start_time": "2022-08-04T11:40:47.650Z"
   },
   {
    "duration": 45,
    "start_time": "2022-08-04T11:40:47.667Z"
   },
   {
    "duration": 18,
    "start_time": "2022-08-04T11:40:47.714Z"
   },
   {
    "duration": 2191,
    "start_time": "2022-08-04T11:40:47.733Z"
   },
   {
    "duration": 12,
    "start_time": "2022-08-04T11:40:49.927Z"
   },
   {
    "duration": 6,
    "start_time": "2022-08-04T11:40:49.940Z"
   },
   {
    "duration": 6,
    "start_time": "2022-08-04T11:40:49.947Z"
   },
   {
    "duration": 15,
    "start_time": "2022-08-04T11:40:49.955Z"
   },
   {
    "duration": 10,
    "start_time": "2022-08-04T11:40:49.971Z"
   },
   {
    "duration": 5,
    "start_time": "2022-08-04T11:40:49.983Z"
   },
   {
    "duration": 17,
    "start_time": "2022-08-04T11:40:49.990Z"
   },
   {
    "duration": 147,
    "start_time": "2022-08-04T11:40:50.009Z"
   },
   {
    "duration": 20,
    "start_time": "2022-08-04T11:40:50.157Z"
   },
   {
    "duration": 1095,
    "start_time": "2022-08-04T11:40:50.178Z"
   },
   {
    "duration": 8,
    "start_time": "2022-08-04T11:40:51.275Z"
   },
   {
    "duration": 4,
    "start_time": "2022-08-04T11:40:51.284Z"
   },
   {
    "duration": 18,
    "start_time": "2022-08-04T11:40:51.290Z"
   },
   {
    "duration": 8,
    "start_time": "2022-08-04T11:40:51.309Z"
   },
   {
    "duration": 7,
    "start_time": "2022-08-04T11:40:51.318Z"
   },
   {
    "duration": 7,
    "start_time": "2022-08-04T11:40:51.326Z"
   },
   {
    "duration": 6,
    "start_time": "2022-08-04T11:40:51.334Z"
   },
   {
    "duration": 26,
    "start_time": "2022-08-04T11:40:51.342Z"
   },
   {
    "duration": 37,
    "start_time": "2022-08-04T11:40:51.370Z"
   },
   {
    "duration": 19,
    "start_time": "2022-08-04T11:40:51.408Z"
   },
   {
    "duration": 80,
    "start_time": "2022-08-04T11:40:51.428Z"
   },
   {
    "duration": 421,
    "start_time": "2022-08-04T11:40:51.509Z"
   },
   {
    "duration": 35023,
    "start_time": "2022-08-04T11:40:51.931Z"
   },
   {
    "duration": 1409,
    "start_time": "2022-08-04T11:47:05.875Z"
   },
   {
    "duration": 56,
    "start_time": "2022-08-04T11:47:07.286Z"
   },
   {
    "duration": 12,
    "start_time": "2022-08-04T11:47:07.344Z"
   },
   {
    "duration": 5,
    "start_time": "2022-08-04T11:47:07.358Z"
   },
   {
    "duration": 7,
    "start_time": "2022-08-04T11:47:07.365Z"
   },
   {
    "duration": 34,
    "start_time": "2022-08-04T11:47:07.373Z"
   },
   {
    "duration": 40,
    "start_time": "2022-08-04T11:47:07.408Z"
   },
   {
    "duration": 11,
    "start_time": "2022-08-04T11:47:07.450Z"
   },
   {
    "duration": 2081,
    "start_time": "2022-08-04T11:47:07.463Z"
   },
   {
    "duration": 12,
    "start_time": "2022-08-04T11:47:09.547Z"
   },
   {
    "duration": 6,
    "start_time": "2022-08-04T11:47:09.560Z"
   },
   {
    "duration": 7,
    "start_time": "2022-08-04T11:47:09.567Z"
   },
   {
    "duration": 15,
    "start_time": "2022-08-04T11:47:09.575Z"
   },
   {
    "duration": 16,
    "start_time": "2022-08-04T11:47:09.592Z"
   },
   {
    "duration": 7,
    "start_time": "2022-08-04T11:47:09.610Z"
   },
   {
    "duration": 6,
    "start_time": "2022-08-04T11:47:09.619Z"
   },
   {
    "duration": 142,
    "start_time": "2022-08-04T11:47:09.626Z"
   },
   {
    "duration": 26,
    "start_time": "2022-08-04T11:47:09.770Z"
   },
   {
    "duration": 949,
    "start_time": "2022-08-04T11:47:09.806Z"
   },
   {
    "duration": 7,
    "start_time": "2022-08-04T11:47:10.756Z"
   },
   {
    "duration": 3,
    "start_time": "2022-08-04T11:47:10.764Z"
   },
   {
    "duration": 5,
    "start_time": "2022-08-04T11:47:10.769Z"
   },
   {
    "duration": 6,
    "start_time": "2022-08-04T11:47:10.775Z"
   },
   {
    "duration": 6,
    "start_time": "2022-08-04T11:47:10.782Z"
   },
   {
    "duration": 10,
    "start_time": "2022-08-04T11:47:10.805Z"
   },
   {
    "duration": 5,
    "start_time": "2022-08-04T11:47:10.816Z"
   },
   {
    "duration": 24,
    "start_time": "2022-08-04T11:47:10.823Z"
   },
   {
    "duration": 18,
    "start_time": "2022-08-04T11:47:10.850Z"
   },
   {
    "duration": 41,
    "start_time": "2022-08-04T11:47:10.870Z"
   },
   {
    "duration": 26,
    "start_time": "2022-08-04T11:47:10.913Z"
   },
   {
    "duration": 392,
    "start_time": "2022-08-04T11:47:11.007Z"
   },
   {
    "duration": 35071,
    "start_time": "2022-08-04T11:47:11.400Z"
   },
   {
    "duration": 318,
    "start_time": "2022-08-04T11:48:28.800Z"
   },
   {
    "duration": 35574,
    "start_time": "2022-08-04T11:49:24.662Z"
   },
   {
    "duration": 1363,
    "start_time": "2022-08-04T12:24:34.690Z"
   },
   {
    "duration": 61,
    "start_time": "2022-08-04T12:24:36.055Z"
   },
   {
    "duration": 16,
    "start_time": "2022-08-04T12:24:36.118Z"
   },
   {
    "duration": 17,
    "start_time": "2022-08-04T12:24:36.136Z"
   },
   {
    "duration": 13,
    "start_time": "2022-08-04T12:24:36.155Z"
   },
   {
    "duration": 19,
    "start_time": "2022-08-04T12:24:36.170Z"
   },
   {
    "duration": 51,
    "start_time": "2022-08-04T12:24:36.205Z"
   },
   {
    "duration": 16,
    "start_time": "2022-08-04T12:24:36.258Z"
   },
   {
    "duration": 1980,
    "start_time": "2022-08-04T12:24:36.276Z"
   },
   {
    "duration": 13,
    "start_time": "2022-08-04T12:24:38.259Z"
   },
   {
    "duration": 6,
    "start_time": "2022-08-04T12:24:38.274Z"
   },
   {
    "duration": 9,
    "start_time": "2022-08-04T12:24:38.282Z"
   },
   {
    "duration": 18,
    "start_time": "2022-08-04T12:24:38.293Z"
   },
   {
    "duration": 11,
    "start_time": "2022-08-04T12:24:38.312Z"
   },
   {
    "duration": 6,
    "start_time": "2022-08-04T12:24:38.324Z"
   },
   {
    "duration": 8,
    "start_time": "2022-08-04T12:24:38.331Z"
   },
   {
    "duration": 135,
    "start_time": "2022-08-04T12:24:38.340Z"
   },
   {
    "duration": 30,
    "start_time": "2022-08-04T12:24:38.477Z"
   },
   {
    "duration": 929,
    "start_time": "2022-08-04T12:24:38.509Z"
   },
   {
    "duration": 6,
    "start_time": "2022-08-04T12:24:39.440Z"
   },
   {
    "duration": 3,
    "start_time": "2022-08-04T12:24:39.448Z"
   },
   {
    "duration": 4,
    "start_time": "2022-08-04T12:24:39.453Z"
   },
   {
    "duration": 4,
    "start_time": "2022-08-04T12:24:39.459Z"
   },
   {
    "duration": 5,
    "start_time": "2022-08-04T12:24:39.464Z"
   },
   {
    "duration": 7,
    "start_time": "2022-08-04T12:24:39.470Z"
   },
   {
    "duration": 4,
    "start_time": "2022-08-04T12:24:39.505Z"
   },
   {
    "duration": 25,
    "start_time": "2022-08-04T12:24:39.510Z"
   },
   {
    "duration": 16,
    "start_time": "2022-08-04T12:24:39.538Z"
   },
   {
    "duration": 16,
    "start_time": "2022-08-04T12:24:39.555Z"
   },
   {
    "duration": 142,
    "start_time": "2022-08-04T12:24:39.572Z"
   },
   {
    "duration": 401,
    "start_time": "2022-08-04T12:24:39.715Z"
   },
   {
    "duration": 35527,
    "start_time": "2022-08-04T12:24:40.117Z"
   },
   {
    "duration": 7,
    "start_time": "2022-08-04T12:30:43.100Z"
   },
   {
    "duration": 24,
    "start_time": "2022-08-04T14:34:15.721Z"
   },
   {
    "duration": 73,
    "start_time": "2022-08-04T14:45:47.076Z"
   },
   {
    "duration": 100,
    "start_time": "2022-08-04T14:46:32.919Z"
   },
   {
    "duration": 177,
    "start_time": "2022-08-04T14:46:55.763Z"
   },
   {
    "duration": 1333,
    "start_time": "2022-08-04T14:47:14.227Z"
   },
   {
    "duration": 53,
    "start_time": "2022-08-04T14:47:15.562Z"
   },
   {
    "duration": 12,
    "start_time": "2022-08-04T14:47:15.616Z"
   },
   {
    "duration": 8,
    "start_time": "2022-08-04T14:47:15.629Z"
   },
   {
    "duration": 8,
    "start_time": "2022-08-04T14:47:15.639Z"
   },
   {
    "duration": 14,
    "start_time": "2022-08-04T14:47:15.648Z"
   },
   {
    "duration": 44,
    "start_time": "2022-08-04T14:47:15.664Z"
   },
   {
    "duration": 11,
    "start_time": "2022-08-04T14:47:15.709Z"
   },
   {
    "duration": 2066,
    "start_time": "2022-08-04T14:47:15.722Z"
   },
   {
    "duration": 11,
    "start_time": "2022-08-04T14:47:17.790Z"
   },
   {
    "duration": 17,
    "start_time": "2022-08-04T14:47:17.802Z"
   },
   {
    "duration": 7,
    "start_time": "2022-08-04T14:47:17.820Z"
   },
   {
    "duration": 35,
    "start_time": "2022-08-04T14:47:17.828Z"
   },
   {
    "duration": 15,
    "start_time": "2022-08-04T14:47:17.866Z"
   },
   {
    "duration": 6,
    "start_time": "2022-08-04T14:47:17.883Z"
   },
   {
    "duration": 20,
    "start_time": "2022-08-04T14:47:17.891Z"
   },
   {
    "duration": 130,
    "start_time": "2022-08-04T14:47:17.912Z"
   },
   {
    "duration": 29,
    "start_time": "2022-08-04T14:47:18.044Z"
   },
   {
    "duration": 932,
    "start_time": "2022-08-04T14:47:18.074Z"
   },
   {
    "duration": 6,
    "start_time": "2022-08-04T14:47:19.008Z"
   },
   {
    "duration": 5,
    "start_time": "2022-08-04T14:47:19.016Z"
   },
   {
    "duration": 5,
    "start_time": "2022-08-04T14:47:19.022Z"
   },
   {
    "duration": 5,
    "start_time": "2022-08-04T14:47:19.028Z"
   },
   {
    "duration": 6,
    "start_time": "2022-08-04T14:47:19.034Z"
   },
   {
    "duration": 6,
    "start_time": "2022-08-04T14:47:19.041Z"
   },
   {
    "duration": 8,
    "start_time": "2022-08-04T14:47:19.048Z"
   },
   {
    "duration": 23,
    "start_time": "2022-08-04T14:47:19.057Z"
   },
   {
    "duration": 39,
    "start_time": "2022-08-04T14:47:19.082Z"
   },
   {
    "duration": 16,
    "start_time": "2022-08-04T14:47:19.123Z"
   },
   {
    "duration": 65,
    "start_time": "2022-08-04T14:47:19.141Z"
   },
   {
    "duration": 385,
    "start_time": "2022-08-04T14:47:19.212Z"
   },
   {
    "duration": 35409,
    "start_time": "2022-08-04T14:47:19.598Z"
   },
   {
    "duration": 7,
    "start_time": "2022-08-04T14:47:55.008Z"
   },
   {
    "duration": 90,
    "start_time": "2022-08-04T14:47:55.016Z"
   },
   {
    "duration": 275,
    "start_time": "2022-08-04T14:47:55.113Z"
   },
   {
    "duration": 1368,
    "start_time": "2022-08-05T20:05:07.083Z"
   },
   {
    "duration": 56,
    "start_time": "2022-08-05T20:05:08.453Z"
   },
   {
    "duration": 13,
    "start_time": "2022-08-05T20:05:08.510Z"
   },
   {
    "duration": 17,
    "start_time": "2022-08-05T20:05:08.524Z"
   },
   {
    "duration": 13,
    "start_time": "2022-08-05T20:05:08.543Z"
   },
   {
    "duration": 17,
    "start_time": "2022-08-05T20:05:08.557Z"
   },
   {
    "duration": 39,
    "start_time": "2022-08-05T20:05:08.576Z"
   },
   {
    "duration": 10,
    "start_time": "2022-08-05T20:05:08.617Z"
   },
   {
    "duration": 2052,
    "start_time": "2022-08-05T20:05:08.629Z"
   },
   {
    "duration": 13,
    "start_time": "2022-08-05T20:05:10.684Z"
   },
   {
    "duration": 7,
    "start_time": "2022-08-05T20:05:10.698Z"
   },
   {
    "duration": 10,
    "start_time": "2022-08-05T20:05:10.708Z"
   },
   {
    "duration": 17,
    "start_time": "2022-08-05T20:05:10.719Z"
   },
   {
    "duration": 11,
    "start_time": "2022-08-05T20:05:10.738Z"
   },
   {
    "duration": 7,
    "start_time": "2022-08-05T20:05:10.751Z"
   },
   {
    "duration": 7,
    "start_time": "2022-08-05T20:05:10.759Z"
   },
   {
    "duration": 165,
    "start_time": "2022-08-05T20:05:10.767Z"
   },
   {
    "duration": 21,
    "start_time": "2022-08-05T20:05:10.934Z"
   },
   {
    "duration": 1050,
    "start_time": "2022-08-05T20:05:10.956Z"
   },
   {
    "duration": 8,
    "start_time": "2022-08-05T20:05:12.007Z"
   },
   {
    "duration": 5,
    "start_time": "2022-08-05T20:05:12.017Z"
   },
   {
    "duration": 6,
    "start_time": "2022-08-05T20:05:12.023Z"
   },
   {
    "duration": 7,
    "start_time": "2022-08-05T20:05:12.031Z"
   },
   {
    "duration": 6,
    "start_time": "2022-08-05T20:05:12.040Z"
   },
   {
    "duration": 5,
    "start_time": "2022-08-05T20:05:12.048Z"
   },
   {
    "duration": 6,
    "start_time": "2022-08-05T20:05:12.055Z"
   },
   {
    "duration": 54,
    "start_time": "2022-08-05T20:05:12.062Z"
   },
   {
    "duration": 18,
    "start_time": "2022-08-05T20:05:12.119Z"
   },
   {
    "duration": 17,
    "start_time": "2022-08-05T20:05:12.138Z"
   },
   {
    "duration": 52,
    "start_time": "2022-08-05T20:05:12.156Z"
   },
   {
    "duration": 399,
    "start_time": "2022-08-05T20:05:12.210Z"
   },
   {
    "duration": 34653,
    "start_time": "2022-08-05T20:05:12.611Z"
   },
   {
    "duration": 7,
    "start_time": "2022-08-05T20:05:47.267Z"
   },
   {
    "duration": 33,
    "start_time": "2022-08-05T20:05:47.275Z"
   },
   {
    "duration": 363,
    "start_time": "2022-08-05T20:05:47.309Z"
   },
   {
    "duration": 21,
    "start_time": "2022-08-05T20:31:38.421Z"
   },
   {
    "duration": 1345,
    "start_time": "2022-08-05T20:55:42.900Z"
   },
   {
    "duration": 58,
    "start_time": "2022-08-05T20:55:44.247Z"
   },
   {
    "duration": 12,
    "start_time": "2022-08-05T20:55:44.307Z"
   },
   {
    "duration": 7,
    "start_time": "2022-08-05T20:55:44.321Z"
   },
   {
    "duration": 19,
    "start_time": "2022-08-05T20:55:44.329Z"
   },
   {
    "duration": 16,
    "start_time": "2022-08-05T20:55:44.350Z"
   },
   {
    "duration": 48,
    "start_time": "2022-08-05T20:55:44.368Z"
   },
   {
    "duration": 10,
    "start_time": "2022-08-05T20:55:44.418Z"
   },
   {
    "duration": 1899,
    "start_time": "2022-08-05T20:55:44.429Z"
   },
   {
    "duration": 11,
    "start_time": "2022-08-05T20:55:46.331Z"
   },
   {
    "duration": 5,
    "start_time": "2022-08-05T20:55:46.344Z"
   },
   {
    "duration": 9,
    "start_time": "2022-08-05T20:55:46.350Z"
   },
   {
    "duration": 16,
    "start_time": "2022-08-05T20:55:46.361Z"
   },
   {
    "duration": 10,
    "start_time": "2022-08-05T20:55:46.379Z"
   },
   {
    "duration": 22,
    "start_time": "2022-08-05T20:55:46.390Z"
   },
   {
    "duration": 9,
    "start_time": "2022-08-05T20:55:46.413Z"
   },
   {
    "duration": 143,
    "start_time": "2022-08-05T20:55:46.423Z"
   },
   {
    "duration": 20,
    "start_time": "2022-08-05T20:55:46.567Z"
   },
   {
    "duration": 908,
    "start_time": "2022-08-05T20:55:46.588Z"
   },
   {
    "duration": 6,
    "start_time": "2022-08-05T20:55:47.498Z"
   },
   {
    "duration": 4,
    "start_time": "2022-08-05T20:55:47.506Z"
   },
   {
    "duration": 5,
    "start_time": "2022-08-05T20:55:47.511Z"
   },
   {
    "duration": 5,
    "start_time": "2022-08-05T20:55:47.517Z"
   },
   {
    "duration": 4,
    "start_time": "2022-08-05T20:55:47.524Z"
   },
   {
    "duration": 5,
    "start_time": "2022-08-05T20:55:47.530Z"
   },
   {
    "duration": 5,
    "start_time": "2022-08-05T20:55:47.536Z"
   },
   {
    "duration": 26,
    "start_time": "2022-08-05T20:55:47.542Z"
   },
   {
    "duration": 48,
    "start_time": "2022-08-05T20:55:47.570Z"
   },
   {
    "duration": 17,
    "start_time": "2022-08-05T20:55:47.619Z"
   },
   {
    "duration": 71,
    "start_time": "2022-08-05T20:55:47.637Z"
   },
   {
    "duration": 405,
    "start_time": "2022-08-05T20:55:47.709Z"
   },
   {
    "duration": 35305,
    "start_time": "2022-08-05T20:55:48.116Z"
   },
   {
    "duration": 7,
    "start_time": "2022-08-05T20:56:23.422Z"
   },
   {
    "duration": 75,
    "start_time": "2022-08-05T20:56:23.431Z"
   },
   {
    "duration": 106,
    "start_time": "2022-08-05T20:56:23.508Z"
   },
   {
    "duration": 189,
    "start_time": "2022-08-05T20:56:23.615Z"
   },
   {
    "duration": 1385,
    "start_time": "2022-08-05T21:10:59.786Z"
   },
   {
    "duration": 53,
    "start_time": "2022-08-05T21:11:01.172Z"
   },
   {
    "duration": 11,
    "start_time": "2022-08-05T21:11:01.227Z"
   },
   {
    "duration": 11,
    "start_time": "2022-08-05T21:11:01.239Z"
   },
   {
    "duration": 22,
    "start_time": "2022-08-05T21:11:01.251Z"
   },
   {
    "duration": 30,
    "start_time": "2022-08-05T21:11:01.275Z"
   },
   {
    "duration": 38,
    "start_time": "2022-08-05T21:11:01.307Z"
   },
   {
    "duration": 10,
    "start_time": "2022-08-05T21:11:01.347Z"
   },
   {
    "duration": 1890,
    "start_time": "2022-08-05T21:11:01.358Z"
   },
   {
    "duration": 11,
    "start_time": "2022-08-05T21:11:03.251Z"
   },
   {
    "duration": 6,
    "start_time": "2022-08-05T21:11:03.263Z"
   },
   {
    "duration": 9,
    "start_time": "2022-08-05T21:11:03.271Z"
   },
   {
    "duration": 18,
    "start_time": "2022-08-05T21:11:03.281Z"
   },
   {
    "duration": 12,
    "start_time": "2022-08-05T21:11:03.306Z"
   },
   {
    "duration": 6,
    "start_time": "2022-08-05T21:11:03.320Z"
   },
   {
    "duration": 6,
    "start_time": "2022-08-05T21:11:03.328Z"
   },
   {
    "duration": 147,
    "start_time": "2022-08-05T21:11:03.336Z"
   },
   {
    "duration": 26,
    "start_time": "2022-08-05T21:11:03.485Z"
   },
   {
    "duration": 897,
    "start_time": "2022-08-05T21:11:03.513Z"
   },
   {
    "duration": 8,
    "start_time": "2022-08-05T21:11:04.412Z"
   },
   {
    "duration": 4,
    "start_time": "2022-08-05T21:11:04.422Z"
   },
   {
    "duration": 4,
    "start_time": "2022-08-05T21:11:04.428Z"
   },
   {
    "duration": 4,
    "start_time": "2022-08-05T21:11:04.434Z"
   },
   {
    "duration": 6,
    "start_time": "2022-08-05T21:11:04.440Z"
   },
   {
    "duration": 5,
    "start_time": "2022-08-05T21:11:04.447Z"
   },
   {
    "duration": 5,
    "start_time": "2022-08-05T21:11:04.454Z"
   },
   {
    "duration": 60,
    "start_time": "2022-08-05T21:11:04.460Z"
   },
   {
    "duration": 18,
    "start_time": "2022-08-05T21:11:04.524Z"
   },
   {
    "duration": 17,
    "start_time": "2022-08-05T21:11:04.543Z"
   },
   {
    "duration": 46,
    "start_time": "2022-08-05T21:11:04.561Z"
   },
   {
    "duration": 401,
    "start_time": "2022-08-05T21:11:04.612Z"
   },
   {
    "duration": 34769,
    "start_time": "2022-08-05T21:11:05.015Z"
   },
   {
    "duration": 8,
    "start_time": "2022-08-05T21:11:39.785Z"
   },
   {
    "duration": 35,
    "start_time": "2022-08-05T21:11:39.795Z"
   },
   {
    "duration": 175,
    "start_time": "2022-08-05T21:11:39.832Z"
   },
   {
    "duration": 198,
    "start_time": "2022-08-05T21:11:40.008Z"
   },
   {
    "duration": 2798,
    "start_time": "2022-08-08T23:48:25.705Z"
   },
   {
    "duration": 98,
    "start_time": "2022-08-08T23:48:28.505Z"
   },
   {
    "duration": 12,
    "start_time": "2022-08-08T23:48:28.605Z"
   },
   {
    "duration": 4,
    "start_time": "2022-08-08T23:48:28.618Z"
   },
   {
    "duration": 8,
    "start_time": "2022-08-08T23:48:28.624Z"
   },
   {
    "duration": 15,
    "start_time": "2022-08-08T23:48:28.634Z"
   },
   {
    "duration": 34,
    "start_time": "2022-08-08T23:48:28.650Z"
   },
   {
    "duration": 10,
    "start_time": "2022-08-08T23:48:28.685Z"
   },
   {
    "duration": 1753,
    "start_time": "2022-08-08T23:48:28.696Z"
   },
   {
    "duration": 11,
    "start_time": "2022-08-08T23:48:30.451Z"
   },
   {
    "duration": 7,
    "start_time": "2022-08-08T23:48:30.463Z"
   },
   {
    "duration": 16,
    "start_time": "2022-08-08T23:48:30.472Z"
   },
   {
    "duration": 59,
    "start_time": "2022-08-08T23:48:30.489Z"
   },
   {
    "duration": 27,
    "start_time": "2022-08-08T23:48:30.551Z"
   },
   {
    "duration": 17,
    "start_time": "2022-08-08T23:48:30.579Z"
   },
   {
    "duration": 16,
    "start_time": "2022-08-08T23:48:30.598Z"
   },
   {
    "duration": 135,
    "start_time": "2022-08-08T23:48:30.616Z"
   },
   {
    "duration": 17,
    "start_time": "2022-08-08T23:48:30.752Z"
   },
   {
    "duration": 894,
    "start_time": "2022-08-08T23:48:30.770Z"
   },
   {
    "duration": 6,
    "start_time": "2022-08-08T23:48:31.666Z"
   },
   {
    "duration": 18,
    "start_time": "2022-08-08T23:48:31.673Z"
   },
   {
    "duration": 15,
    "start_time": "2022-08-08T23:48:31.692Z"
   },
   {
    "duration": 7,
    "start_time": "2022-08-08T23:48:31.709Z"
   },
   {
    "duration": 22,
    "start_time": "2022-08-08T23:48:31.718Z"
   },
   {
    "duration": 12,
    "start_time": "2022-08-08T23:48:31.742Z"
   },
   {
    "duration": 18,
    "start_time": "2022-08-08T23:48:31.755Z"
   },
   {
    "duration": 31,
    "start_time": "2022-08-08T23:48:31.774Z"
   },
   {
    "duration": 20,
    "start_time": "2022-08-08T23:48:31.807Z"
   },
   {
    "duration": 18,
    "start_time": "2022-08-08T23:48:31.828Z"
   },
   {
    "duration": 24,
    "start_time": "2022-08-08T23:48:31.847Z"
   },
   {
    "duration": 481,
    "start_time": "2022-08-08T23:48:31.873Z"
   },
   {
    "duration": 33082,
    "start_time": "2022-08-08T23:48:32.356Z"
   },
   {
    "duration": 6,
    "start_time": "2022-08-08T23:49:05.440Z"
   },
   {
    "duration": 31,
    "start_time": "2022-08-08T23:49:05.447Z"
   },
   {
    "duration": 116,
    "start_time": "2022-08-08T23:49:05.540Z"
   },
   {
    "duration": 185,
    "start_time": "2022-08-08T23:49:05.658Z"
   },
   {
    "duration": 12,
    "start_time": "2022-08-08T23:49:05.845Z"
   },
   {
    "duration": 81,
    "start_time": "2022-08-08T23:49:05.858Z"
   },
   {
    "duration": 115,
    "start_time": "2022-08-08T23:49:05.941Z"
   },
   {
    "duration": 261,
    "start_time": "2022-08-08T23:49:06.057Z"
   },
   {
    "duration": 10,
    "start_time": "2022-08-08T23:49:06.321Z"
   },
   {
    "duration": 14,
    "start_time": "2022-08-08T23:49:06.338Z"
   },
   {
    "duration": 198,
    "start_time": "2022-08-08T23:49:06.354Z"
   },
   {
    "duration": 96,
    "start_time": "2022-08-08T23:49:06.553Z"
   },
   {
    "duration": 367,
    "start_time": "2022-08-08T23:49:06.651Z"
   },
   {
    "duration": 234,
    "start_time": "2022-08-08T23:49:07.020Z"
   },
   {
    "duration": 369,
    "start_time": "2022-08-08T23:49:07.255Z"
   },
   {
    "duration": 14313,
    "start_time": "2022-08-08T23:49:07.626Z"
   },
   {
    "duration": 3,
    "start_time": "2022-08-08T23:49:21.941Z"
   },
   {
    "duration": 93,
    "start_time": "2022-08-08T23:49:21.946Z"
   },
   {
    "duration": 346,
    "start_time": "2022-08-08T23:49:22.041Z"
   },
   {
    "duration": 3765,
    "start_time": "2022-08-08T23:49:22.389Z"
   },
   {
    "duration": 3,
    "start_time": "2022-08-08T23:49:26.156Z"
   },
   {
    "duration": 35,
    "start_time": "2022-08-08T23:49:26.161Z"
   },
   {
    "duration": 142,
    "start_time": "2022-08-08T23:49:26.198Z"
   },
   {
    "duration": 30288,
    "start_time": "2022-08-08T23:49:26.342Z"
   },
   {
    "duration": 7,
    "start_time": "2022-08-08T23:49:56.632Z"
   },
   {
    "duration": 243,
    "start_time": "2022-08-08T23:49:56.641Z"
   },
   {
    "duration": 153,
    "start_time": "2022-08-08T23:49:56.885Z"
   },
   {
    "duration": 15,
    "start_time": "2022-08-08T23:49:57.040Z"
   },
   {
    "duration": 184,
    "start_time": "2022-08-08T23:49:57.056Z"
   },
   {
    "duration": 23,
    "start_time": "2022-08-08T23:49:57.241Z"
   },
   {
    "duration": 1733,
    "start_time": "2022-08-10T13:21:38.884Z"
   },
   {
    "duration": 180,
    "start_time": "2022-08-10T13:21:40.619Z"
   },
   {
    "duration": 13,
    "start_time": "2022-08-10T13:21:40.800Z"
   },
   {
    "duration": 26,
    "start_time": "2022-08-10T13:21:40.816Z"
   },
   {
    "duration": 20,
    "start_time": "2022-08-10T13:21:40.844Z"
   },
   {
    "duration": 27,
    "start_time": "2022-08-10T13:21:40.865Z"
   },
   {
    "duration": 47,
    "start_time": "2022-08-10T13:21:40.893Z"
   },
   {
    "duration": 10,
    "start_time": "2022-08-10T13:21:40.942Z"
   },
   {
    "duration": 1966,
    "start_time": "2022-08-10T13:21:40.954Z"
   },
   {
    "duration": 11,
    "start_time": "2022-08-10T13:21:42.923Z"
   },
   {
    "duration": 34,
    "start_time": "2022-08-10T13:21:42.936Z"
   },
   {
    "duration": 37,
    "start_time": "2022-08-10T13:21:42.972Z"
   },
   {
    "duration": 59,
    "start_time": "2022-08-10T13:21:43.010Z"
   },
   {
    "duration": 12,
    "start_time": "2022-08-10T13:21:43.070Z"
   },
   {
    "duration": 41,
    "start_time": "2022-08-10T13:21:43.084Z"
   },
   {
    "duration": 29,
    "start_time": "2022-08-10T13:21:43.127Z"
   },
   {
    "duration": 149,
    "start_time": "2022-08-10T13:21:43.157Z"
   },
   {
    "duration": 20,
    "start_time": "2022-08-10T13:21:43.307Z"
   },
   {
    "duration": 1177,
    "start_time": "2022-08-10T13:21:43.329Z"
   },
   {
    "duration": 7,
    "start_time": "2022-08-10T13:21:44.509Z"
   },
   {
    "duration": 4,
    "start_time": "2022-08-10T13:21:44.517Z"
   },
   {
    "duration": 7,
    "start_time": "2022-08-10T13:21:44.522Z"
   },
   {
    "duration": 22,
    "start_time": "2022-08-10T13:21:44.530Z"
   },
   {
    "duration": 13,
    "start_time": "2022-08-10T13:21:44.554Z"
   },
   {
    "duration": 21,
    "start_time": "2022-08-10T13:21:44.569Z"
   },
   {
    "duration": 19,
    "start_time": "2022-08-10T13:21:44.593Z"
   },
   {
    "duration": 47,
    "start_time": "2022-08-10T13:21:44.614Z"
   },
   {
    "duration": 15,
    "start_time": "2022-08-10T13:21:44.768Z"
   },
   {
    "duration": 24,
    "start_time": "2022-08-10T13:21:44.785Z"
   },
   {
    "duration": 95,
    "start_time": "2022-08-10T13:21:44.810Z"
   },
   {
    "duration": 488,
    "start_time": "2022-08-10T13:21:44.907Z"
   },
   {
    "duration": 41999,
    "start_time": "2022-08-10T13:21:45.396Z"
   },
   {
    "duration": 10,
    "start_time": "2022-08-10T13:22:27.397Z"
   },
   {
    "duration": 34,
    "start_time": "2022-08-10T13:22:27.408Z"
   },
   {
    "duration": 523,
    "start_time": "2022-08-10T13:22:27.506Z"
   },
   {
    "duration": 41674,
    "start_time": "2022-08-10T13:22:28.031Z"
   },
   {
    "duration": 19,
    "start_time": "2022-08-10T13:23:09.706Z"
   },
   {
    "duration": 12,
    "start_time": "2022-08-10T13:23:09.727Z"
   },
   {
    "duration": 76,
    "start_time": "2022-08-10T13:23:09.741Z"
   },
   {
    "duration": 612,
    "start_time": "2022-08-10T13:23:09.819Z"
   },
   {
    "duration": 58783,
    "start_time": "2022-08-10T13:23:10.432Z"
   },
   {
    "duration": 11,
    "start_time": "2022-08-10T13:24:09.219Z"
   },
   {
    "duration": 6,
    "start_time": "2022-08-10T13:24:09.232Z"
   },
   {
    "duration": 67,
    "start_time": "2022-08-10T13:24:09.239Z"
   },
   {
    "duration": 300,
    "start_time": "2022-08-10T13:24:09.313Z"
   },
   {
    "duration": 24366,
    "start_time": "2022-08-10T13:24:09.615Z"
   },
   {
    "duration": 444,
    "start_time": "2022-08-10T13:24:33.982Z"
   },
   {
    "duration": 256,
    "start_time": "2022-08-10T13:24:34.428Z"
   },
   {
    "duration": 426,
    "start_time": "2022-08-10T13:24:34.686Z"
   },
   {
    "duration": 12595,
    "start_time": "2022-08-10T13:24:35.114Z"
   },
   {
    "duration": 5,
    "start_time": "2022-08-10T13:24:47.711Z"
   },
   {
    "duration": 89,
    "start_time": "2022-08-10T13:24:47.718Z"
   },
   {
    "duration": 327,
    "start_time": "2022-08-10T13:24:47.809Z"
   },
   {
    "duration": 5152,
    "start_time": "2022-08-10T13:24:48.138Z"
   },
   {
    "duration": 4,
    "start_time": "2022-08-10T13:24:53.292Z"
   },
   {
    "duration": 52,
    "start_time": "2022-08-10T13:24:53.298Z"
   },
   {
    "duration": 177,
    "start_time": "2022-08-10T13:24:53.352Z"
   },
   {
    "duration": 37276,
    "start_time": "2022-08-10T13:24:53.531Z"
   },
   {
    "duration": 8,
    "start_time": "2022-08-10T13:25:30.811Z"
   },
   {
    "duration": 343,
    "start_time": "2022-08-10T13:25:30.820Z"
   },
   {
    "duration": 190,
    "start_time": "2022-08-10T13:25:31.164Z"
   },
   {
    "duration": 25,
    "start_time": "2022-08-10T13:25:31.356Z"
   }
  ],
  "kernelspec": {
   "display_name": "Python 3 (ipykernel)",
   "language": "python",
   "name": "python3"
  },
  "language_info": {
   "codemirror_mode": {
    "name": "ipython",
    "version": 3
   },
   "file_extension": ".py",
   "mimetype": "text/x-python",
   "name": "python",
   "nbconvert_exporter": "python",
   "pygments_lexer": "ipython3",
   "version": "3.9.13"
  },
  "toc": {
   "base_numbering": 1,
   "nav_menu": {},
   "number_sections": true,
   "sideBar": true,
   "skip_h1_title": true,
   "title_cell": "Содержание",
   "title_sidebar": "Contents",
   "toc_cell": true,
   "toc_position": {
    "height": "calc(100% - 180px)",
    "left": "10px",
    "top": "150px",
    "width": "165px"
   },
   "toc_section_display": true,
   "toc_window_display": true
  }
 },
 "nbformat": 4,
 "nbformat_minor": 2
}
